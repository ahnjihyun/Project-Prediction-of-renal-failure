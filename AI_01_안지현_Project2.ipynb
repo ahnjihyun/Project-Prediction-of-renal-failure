{
  "nbformat": 4,
  "nbformat_minor": 0,
  "metadata": {
    "colab": {
      "name": "AI_01_안지현_Project2.ipynb",
      "provenance": [],
      "authorship_tag": "ABX9TyNS9KYslqcVq5WIY5AS2C43",
      "include_colab_link": true
    },
    "kernelspec": {
      "name": "python3",
      "display_name": "Python 3"
    }
  },
  "cells": [
    {
      "cell_type": "markdown",
      "metadata": {
        "id": "view-in-github",
        "colab_type": "text"
      },
      "source": [
        "<a href=\"https://colab.research.google.com/github/ahnjihyun/Project-Prediction-of-renal-failure/blob/main/AI_01_%EC%95%88%EC%A7%80%ED%98%84_Project2.ipynb\" target=\"_parent\"><img src=\"https://colab.research.google.com/assets/colab-badge.svg\" alt=\"Open In Colab\"/></a>"
      ]
    },
    {
      "cell_type": "markdown",
      "metadata": {
        "id": "rD7hxZJloY7o"
      },
      "source": [
        "# 1. 데이터 선정 배경\n",
        "- 신장질환 환자 증가율이 세계4위 (현재 국내 만성신부전증 환자수는 **약 10만명**)\n",
        "- 신부전증은 초기 발견이 어려울뿐만 아니라 \n",
        "- 증상이 심할 경우 지속적인 투석 혹은 장기 이식을 해야함. \n",
        "- 이것은 환자의 건강에도 치명적이고, 치료할 시 의료비용이 상당히 많이 들어 부담이 됨\n",
        "- 만성 신장질환의 **조기발견 및 관리**의 중요성이 점점 더 커지고 있음\n"
      ]
    },
    {
      "cell_type": "markdown",
      "metadata": {
        "id": "ro4GqoDoUvXv"
      },
      "source": [
        "# 2. 분석 목표\n",
        "- 많은 기관들이 혈청 크레아티닌 (Scr)을 신기능 저하의 선별검사로 사용하고 있음\n",
        "- 이를 신장기능의 지표중 하나인 **\"혈청 크레아티닌\" 수치로 신부전증을 예측**하고자 함\n",
        "- 가설 : \"시력/혈압/혈당/간기능/흡연유무가 신장기능에 Negative한 영향을 미칠것이다\" \n",
        "> - 데이터 셋은 [공공 데이터 포털] > [2019 국민건강보험공단_건강검진정보]\n",
        ">\n",
        "> https://www.data.go.kr/data/15007122/fileData.do\n"
      ]
    },
    {
      "cell_type": "markdown",
      "metadata": {
        "id": "Ke3t5DtkUNKx"
      },
      "source": [
        "# (관련 설명)"
      ]
    },
    {
      "cell_type": "markdown",
      "metadata": {
        "id": "UX-ousBcYVwF"
      },
      "source": [
        "간과 신장은 우리 몸에서 독소를 제거하고 노폐물을 배설하는 등의 해독 작용을 하는 장기로, 두 장기 모두 50% 이상 손상되어도 자각 증상이 없이 ‘침묵의 장기’로 불린다. **간과 신장은 대부분 회복이 불가능할 정도로 질병이 많이 진행된 후에 발견된다.**\n",
        "\n",
        "> 관련 기사 : https://biz.chosun.com/site/data/html_dir/2018/05/29/2018052902388.html"
      ]
    },
    {
      "cell_type": "markdown",
      "metadata": {
        "id": "xWDa8b4Cga6t"
      },
      "source": [
        "우리나라도 **만 35세 이상 국민 7명 중 1명이 만성 콩팥병 환자**로 세계에서 여섯 번째로 신부전 환자 증가율이 높은 국가다. 지난 2011년 11만3400여명이던 만성콩팥병 환자는 2015년 17만명으로 늘었다. 이에 따라 **국민 의료비 부담도 빠르게 증가하고 있다.**\n",
        "\n",
        "신장질환은 그로 인한 진료비가 **1조 5671억원(2015년 기준)에 달해 사회적 부담이 높고 환자군도 빠르게 증가하는 추세로 각별한 주의를 요하고 있다.**\n",
        "\n",
        "신장이 망가지면 말기 신부전으로 이어져 일주일에 몇 차례씩 병원을 찾아 투석 치료를 받아야 한다. 말기 신부전의 경우 실질적인 완치의 길은 결국 신장이식 수술을 받는 방법 밖에 없다.\n",
        "\n",
        "질환이 더 진행되면 투석이나 신장 이식이 불가피하기 때문에 조기 발견 및 관리가 무엇보다도 중요하다.\n",
        "\n",
        "만성 신질환의 진행을 지연시키는데 있어 만성 신질환의 **조기발견 및 관리의 중요성이 점점 더 커지고 있다.**\n",
        "**많은 기관들이 혈청 크레아티닌 (Scr)을 신기능 저하의 선별검사로 사용하고 있어**\n",
        "혈청 크레아티닌 수치 예측으로 신부전증 조기 파악을 하고자 한다. \n"
      ]
    },
    {
      "cell_type": "markdown",
      "metadata": {
        "id": "ioQnilIyryD-"
      },
      "source": [
        "# 3. 데이터 랭글링"
      ]
    },
    {
      "cell_type": "markdown",
      "metadata": {
        "id": "v_9w4yLEr768"
      },
      "source": [
        "### 데이터 로드 (구글 드라이브 사용)"
      ]
    },
    {
      "cell_type": "code",
      "metadata": {
        "colab": {
          "base_uri": "https://localhost:8080/"
        },
        "id": "4sQAv6mYrxgE",
        "outputId": "8743046b-de4c-4854-d51b-7e11147ce051"
      },
      "source": [
        "from google.colab import drive\n",
        "drive.mount('/content/drive')"
      ],
      "execution_count": null,
      "outputs": [
        {
          "output_type": "stream",
          "text": [
            "Drive already mounted at /content/drive; to attempt to forcibly remount, call drive.mount(\"/content/drive\", force_remount=True).\n"
          ],
          "name": "stdout"
        }
      ]
    },
    {
      "cell_type": "code",
      "metadata": {
        "id": "LHbufNjQSAon"
      },
      "source": [
        "path = '/content/drive/MyDrive/2019국민건강검진정보.csv'"
      ],
      "execution_count": null,
      "outputs": []
    },
    {
      "cell_type": "code",
      "metadata": {
        "id": "qdoTcPwLrwVx"
      },
      "source": [
        "import pandas as pd\n",
        "import numpy as np"
      ],
      "execution_count": null,
      "outputs": []
    },
    {
      "cell_type": "code",
      "metadata": {
        "colab": {
          "base_uri": "https://localhost:8080/",
          "height": 517
        },
        "id": "qphVxjeGrwTp",
        "outputId": "a8ce86d6-3bd5-417f-8040-a1d2fca45983"
      },
      "source": [
        "tr = pd.read_csv(path, encoding='cp949')\n",
        "\n",
        "tr.head()"
      ],
      "execution_count": null,
      "outputs": [
        {
          "output_type": "execute_result",
          "data": {
            "text/html": [
              "<div>\n",
              "<style scoped>\n",
              "    .dataframe tbody tr th:only-of-type {\n",
              "        vertical-align: middle;\n",
              "    }\n",
              "\n",
              "    .dataframe tbody tr th {\n",
              "        vertical-align: top;\n",
              "    }\n",
              "\n",
              "    .dataframe thead th {\n",
              "        text-align: right;\n",
              "    }\n",
              "</style>\n",
              "<table border=\"1\" class=\"dataframe\">\n",
              "  <thead>\n",
              "    <tr style=\"text-align: right;\">\n",
              "      <th></th>\n",
              "      <th>기준년도</th>\n",
              "      <th>가입자 일련번호</th>\n",
              "      <th>시도코드</th>\n",
              "      <th>성별코드</th>\n",
              "      <th>연령대 코드(5세단위)</th>\n",
              "      <th>신장(5Cm단위)</th>\n",
              "      <th>체중(5Kg 단위)</th>\n",
              "      <th>허리둘레</th>\n",
              "      <th>시력(좌)</th>\n",
              "      <th>시력(우)</th>\n",
              "      <th>청력(좌)</th>\n",
              "      <th>청력(우)</th>\n",
              "      <th>수축기 혈압</th>\n",
              "      <th>이완기 혈압</th>\n",
              "      <th>식전혈당(공복혈당)</th>\n",
              "      <th>총 콜레스테롤</th>\n",
              "      <th>트리글리세라이드</th>\n",
              "      <th>HDL 콜레스테롤</th>\n",
              "      <th>LDL 콜레스테롤</th>\n",
              "      <th>혈색소</th>\n",
              "      <th>요단백</th>\n",
              "      <th>혈청크레아티닌</th>\n",
              "      <th>(혈청지오티)AST</th>\n",
              "      <th>(혈청지오티)ALT</th>\n",
              "      <th>감마 지티피</th>\n",
              "      <th>흡연상태</th>\n",
              "      <th>음주여부</th>\n",
              "      <th>구강검진 수검여부</th>\n",
              "      <th>치아우식증유무</th>\n",
              "      <th>결손치 유무</th>\n",
              "      <th>치아마모증유무</th>\n",
              "      <th>제3대구치(사랑니) 이상</th>\n",
              "      <th>치석</th>\n",
              "      <th>데이터 공개일자</th>\n",
              "    </tr>\n",
              "  </thead>\n",
              "  <tbody>\n",
              "    <tr>\n",
              "      <th>0</th>\n",
              "      <td>2019</td>\n",
              "      <td>1</td>\n",
              "      <td>11</td>\n",
              "      <td>1</td>\n",
              "      <td>13</td>\n",
              "      <td>165</td>\n",
              "      <td>65</td>\n",
              "      <td>90.0</td>\n",
              "      <td>1.5</td>\n",
              "      <td>1.2</td>\n",
              "      <td>1.0</td>\n",
              "      <td>1.0</td>\n",
              "      <td>112.0</td>\n",
              "      <td>70.0</td>\n",
              "      <td>93.0</td>\n",
              "      <td>NaN</td>\n",
              "      <td>NaN</td>\n",
              "      <td>NaN</td>\n",
              "      <td>NaN</td>\n",
              "      <td>15.5</td>\n",
              "      <td>1.0</td>\n",
              "      <td>1.0</td>\n",
              "      <td>18.0</td>\n",
              "      <td>32.0</td>\n",
              "      <td>47.0</td>\n",
              "      <td>2.0</td>\n",
              "      <td>NaN</td>\n",
              "      <td>1</td>\n",
              "      <td>0.0</td>\n",
              "      <td>미시행</td>\n",
              "      <td>미시행</td>\n",
              "      <td>미시행</td>\n",
              "      <td>1.0</td>\n",
              "      <td>20191231</td>\n",
              "    </tr>\n",
              "    <tr>\n",
              "      <th>1</th>\n",
              "      <td>2019</td>\n",
              "      <td>2</td>\n",
              "      <td>48</td>\n",
              "      <td>2</td>\n",
              "      <td>5</td>\n",
              "      <td>155</td>\n",
              "      <td>45</td>\n",
              "      <td>64.0</td>\n",
              "      <td>1.2</td>\n",
              "      <td>0.5</td>\n",
              "      <td>1.0</td>\n",
              "      <td>1.0</td>\n",
              "      <td>114.0</td>\n",
              "      <td>76.0</td>\n",
              "      <td>89.0</td>\n",
              "      <td>NaN</td>\n",
              "      <td>NaN</td>\n",
              "      <td>NaN</td>\n",
              "      <td>NaN</td>\n",
              "      <td>14.0</td>\n",
              "      <td>1.0</td>\n",
              "      <td>0.5</td>\n",
              "      <td>15.0</td>\n",
              "      <td>8.0</td>\n",
              "      <td>13.0</td>\n",
              "      <td>1.0</td>\n",
              "      <td>1.0</td>\n",
              "      <td>0</td>\n",
              "      <td>NaN</td>\n",
              "      <td>미시행</td>\n",
              "      <td>미시행</td>\n",
              "      <td>미시행</td>\n",
              "      <td>NaN</td>\n",
              "      <td>20191231</td>\n",
              "    </tr>\n",
              "    <tr>\n",
              "      <th>2</th>\n",
              "      <td>2019</td>\n",
              "      <td>3</td>\n",
              "      <td>41</td>\n",
              "      <td>1</td>\n",
              "      <td>13</td>\n",
              "      <td>160</td>\n",
              "      <td>70</td>\n",
              "      <td>87.0</td>\n",
              "      <td>0.9</td>\n",
              "      <td>0.8</td>\n",
              "      <td>1.0</td>\n",
              "      <td>1.0</td>\n",
              "      <td>109.0</td>\n",
              "      <td>73.0</td>\n",
              "      <td>100.0</td>\n",
              "      <td>232.0</td>\n",
              "      <td>114.0</td>\n",
              "      <td>57.0</td>\n",
              "      <td>152.0</td>\n",
              "      <td>15.6</td>\n",
              "      <td>1.0</td>\n",
              "      <td>1.0</td>\n",
              "      <td>30.0</td>\n",
              "      <td>21.0</td>\n",
              "      <td>17.0</td>\n",
              "      <td>1.0</td>\n",
              "      <td>1.0</td>\n",
              "      <td>0</td>\n",
              "      <td>NaN</td>\n",
              "      <td>미시행</td>\n",
              "      <td>미시행</td>\n",
              "      <td>미시행</td>\n",
              "      <td>NaN</td>\n",
              "      <td>20191231</td>\n",
              "    </tr>\n",
              "    <tr>\n",
              "      <th>3</th>\n",
              "      <td>2019</td>\n",
              "      <td>4</td>\n",
              "      <td>28</td>\n",
              "      <td>1</td>\n",
              "      <td>12</td>\n",
              "      <td>170</td>\n",
              "      <td>60</td>\n",
              "      <td>85.0</td>\n",
              "      <td>0.4</td>\n",
              "      <td>1.2</td>\n",
              "      <td>1.0</td>\n",
              "      <td>1.0</td>\n",
              "      <td>131.0</td>\n",
              "      <td>85.0</td>\n",
              "      <td>85.0</td>\n",
              "      <td>NaN</td>\n",
              "      <td>NaN</td>\n",
              "      <td>NaN</td>\n",
              "      <td>NaN</td>\n",
              "      <td>14.5</td>\n",
              "      <td>1.0</td>\n",
              "      <td>0.7</td>\n",
              "      <td>17.0</td>\n",
              "      <td>19.0</td>\n",
              "      <td>32.0</td>\n",
              "      <td>2.0</td>\n",
              "      <td>1.0</td>\n",
              "      <td>0</td>\n",
              "      <td>NaN</td>\n",
              "      <td>미시행</td>\n",
              "      <td>미시행</td>\n",
              "      <td>미시행</td>\n",
              "      <td>NaN</td>\n",
              "      <td>20191231</td>\n",
              "    </tr>\n",
              "    <tr>\n",
              "      <th>4</th>\n",
              "      <td>2019</td>\n",
              "      <td>5</td>\n",
              "      <td>41</td>\n",
              "      <td>1</td>\n",
              "      <td>10</td>\n",
              "      <td>170</td>\n",
              "      <td>70</td>\n",
              "      <td>81.2</td>\n",
              "      <td>0.7</td>\n",
              "      <td>0.7</td>\n",
              "      <td>1.0</td>\n",
              "      <td>1.0</td>\n",
              "      <td>112.0</td>\n",
              "      <td>66.0</td>\n",
              "      <td>91.0</td>\n",
              "      <td>NaN</td>\n",
              "      <td>NaN</td>\n",
              "      <td>NaN</td>\n",
              "      <td>NaN</td>\n",
              "      <td>14.9</td>\n",
              "      <td>1.0</td>\n",
              "      <td>0.9</td>\n",
              "      <td>19.0</td>\n",
              "      <td>24.0</td>\n",
              "      <td>19.0</td>\n",
              "      <td>2.0</td>\n",
              "      <td>NaN</td>\n",
              "      <td>0</td>\n",
              "      <td>NaN</td>\n",
              "      <td>미시행</td>\n",
              "      <td>미시행</td>\n",
              "      <td>미시행</td>\n",
              "      <td>NaN</td>\n",
              "      <td>20191231</td>\n",
              "    </tr>\n",
              "  </tbody>\n",
              "</table>\n",
              "</div>"
            ],
            "text/plain": [
              "   기준년도  가입자 일련번호  시도코드  성별코드  ...  치아마모증유무  제3대구치(사랑니) 이상   치석  데이터 공개일자\n",
              "0  2019         1    11     1  ...      미시행            미시행  1.0  20191231\n",
              "1  2019         2    48     2  ...      미시행            미시행  NaN  20191231\n",
              "2  2019         3    41     1  ...      미시행            미시행  NaN  20191231\n",
              "3  2019         4    28     1  ...      미시행            미시행  NaN  20191231\n",
              "4  2019         5    41     1  ...      미시행            미시행  NaN  20191231\n",
              "\n",
              "[5 rows x 34 columns]"
            ]
          },
          "metadata": {
            "tags": []
          },
          "execution_count": 189
        }
      ]
    },
    {
      "cell_type": "markdown",
      "metadata": {
        "id": "f4zRKaGZXxP9"
      },
      "source": [
        "### 데이터 EDA (1차) : 타겟 예측에 불필요한 컬럼들 삭제"
      ]
    },
    {
      "cell_type": "code",
      "metadata": {
        "colab": {
          "base_uri": "https://localhost:8080/"
        },
        "id": "27f2ZTkfXsTb",
        "outputId": "501bd3b8-d001-4559-d0c6-fef5d1d7f8f5"
      },
      "source": [
        "tr.shape"
      ],
      "execution_count": null,
      "outputs": [
        {
          "output_type": "execute_result",
          "data": {
            "text/plain": [
              "(1000000, 34)"
            ]
          },
          "metadata": {
            "tags": []
          },
          "execution_count": 190
        }
      ]
    },
    {
      "cell_type": "markdown",
      "metadata": {
        "id": "5fNVxgkEYoVz"
      },
      "source": [
        "- 피처가 34개, 샘플이 10만개나 되는 데이터지만 타겟 예측에 불필요한 데이터도 많을것같다. 아래에서 확인해보면"
      ]
    },
    {
      "cell_type": "code",
      "metadata": {
        "colab": {
          "base_uri": "https://localhost:8080/"
        },
        "id": "GyH8q56VX6Do",
        "outputId": "3b53bab0-1a4b-4cf0-ae57-187273e0c570"
      },
      "source": [
        "tr.describe().T"
      ],
      "execution_count": null,
      "outputs": [
        {
          "output_type": "execute_result",
          "data": {
            "text/html": [
              "<div>\n",
              "<style scoped>\n",
              "    .dataframe tbody tr th:only-of-type {\n",
              "        vertical-align: middle;\n",
              "    }\n",
              "\n",
              "    .dataframe tbody tr th {\n",
              "        vertical-align: top;\n",
              "    }\n",
              "\n",
              "    .dataframe thead th {\n",
              "        text-align: right;\n",
              "    }\n",
              "</style>\n",
              "<table border=\"1\" class=\"dataframe\">\n",
              "  <thead>\n",
              "    <tr style=\"text-align: right;\">\n",
              "      <th></th>\n",
              "      <th>count</th>\n",
              "      <th>mean</th>\n",
              "      <th>std</th>\n",
              "      <th>min</th>\n",
              "      <th>25%</th>\n",
              "      <th>50%</th>\n",
              "      <th>75%</th>\n",
              "      <th>max</th>\n",
              "    </tr>\n",
              "  </thead>\n",
              "  <tbody>\n",
              "    <tr>\n",
              "      <th>기준년도</th>\n",
              "      <td>1000000.0</td>\n",
              "      <td>2.019000e+03</td>\n",
              "      <td>0.000000</td>\n",
              "      <td>2019.00</td>\n",
              "      <td>2019.00</td>\n",
              "      <td>2019.0</td>\n",
              "      <td>2019.00</td>\n",
              "      <td>2019.0</td>\n",
              "    </tr>\n",
              "    <tr>\n",
              "      <th>가입자 일련번호</th>\n",
              "      <td>1000000.0</td>\n",
              "      <td>5.000005e+05</td>\n",
              "      <td>288675.278933</td>\n",
              "      <td>1.00</td>\n",
              "      <td>250000.75</td>\n",
              "      <td>500000.5</td>\n",
              "      <td>750000.25</td>\n",
              "      <td>1000000.0</td>\n",
              "    </tr>\n",
              "    <tr>\n",
              "      <th>시도코드</th>\n",
              "      <td>1000000.0</td>\n",
              "      <td>3.371239e+01</td>\n",
              "      <td>12.668197</td>\n",
              "      <td>11.00</td>\n",
              "      <td>27.00</td>\n",
              "      <td>41.0</td>\n",
              "      <td>43.00</td>\n",
              "      <td>50.0</td>\n",
              "    </tr>\n",
              "    <tr>\n",
              "      <th>성별코드</th>\n",
              "      <td>1000000.0</td>\n",
              "      <td>1.480426e+00</td>\n",
              "      <td>0.499617</td>\n",
              "      <td>1.00</td>\n",
              "      <td>1.00</td>\n",
              "      <td>1.0</td>\n",
              "      <td>2.00</td>\n",
              "      <td>2.0</td>\n",
              "    </tr>\n",
              "    <tr>\n",
              "      <th>연령대 코드(5세단위)</th>\n",
              "      <td>1000000.0</td>\n",
              "      <td>1.049639e+01</td>\n",
              "      <td>2.964080</td>\n",
              "      <td>5.00</td>\n",
              "      <td>8.00</td>\n",
              "      <td>11.0</td>\n",
              "      <td>13.00</td>\n",
              "      <td>18.0</td>\n",
              "    </tr>\n",
              "    <tr>\n",
              "      <th>신장(5Cm단위)</th>\n",
              "      <td>1000000.0</td>\n",
              "      <td>1.623077e+02</td>\n",
              "      <td>9.280317</td>\n",
              "      <td>130.00</td>\n",
              "      <td>155.00</td>\n",
              "      <td>160.0</td>\n",
              "      <td>170.00</td>\n",
              "      <td>195.0</td>\n",
              "    </tr>\n",
              "    <tr>\n",
              "      <th>체중(5Kg 단위)</th>\n",
              "      <td>1000000.0</td>\n",
              "      <td>6.356449e+01</td>\n",
              "      <td>12.877611</td>\n",
              "      <td>30.00</td>\n",
              "      <td>55.00</td>\n",
              "      <td>60.0</td>\n",
              "      <td>70.00</td>\n",
              "      <td>145.0</td>\n",
              "    </tr>\n",
              "    <tr>\n",
              "      <th>허리둘레</th>\n",
              "      <td>999597.0</td>\n",
              "      <td>8.132056e+01</td>\n",
              "      <td>10.523122</td>\n",
              "      <td>3.00</td>\n",
              "      <td>74.00</td>\n",
              "      <td>81.0</td>\n",
              "      <td>88.00</td>\n",
              "      <td>999.0</td>\n",
              "    </tr>\n",
              "    <tr>\n",
              "      <th>시력(좌)</th>\n",
              "      <td>999805.0</td>\n",
              "      <td>9.719088e-01</td>\n",
              "      <td>0.593307</td>\n",
              "      <td>0.10</td>\n",
              "      <td>0.70</td>\n",
              "      <td>1.0</td>\n",
              "      <td>1.20</td>\n",
              "      <td>9.9</td>\n",
              "    </tr>\n",
              "    <tr>\n",
              "      <th>시력(우)</th>\n",
              "      <td>999812.0</td>\n",
              "      <td>9.709511e-01</td>\n",
              "      <td>0.600537</td>\n",
              "      <td>0.10</td>\n",
              "      <td>0.70</td>\n",
              "      <td>1.0</td>\n",
              "      <td>1.20</td>\n",
              "      <td>9.9</td>\n",
              "    </tr>\n",
              "    <tr>\n",
              "      <th>청력(좌)</th>\n",
              "      <td>999819.0</td>\n",
              "      <td>1.033041e+00</td>\n",
              "      <td>0.178744</td>\n",
              "      <td>1.00</td>\n",
              "      <td>1.00</td>\n",
              "      <td>1.0</td>\n",
              "      <td>1.00</td>\n",
              "      <td>2.0</td>\n",
              "    </tr>\n",
              "    <tr>\n",
              "      <th>청력(우)</th>\n",
              "      <td>999822.0</td>\n",
              "      <td>1.031741e+00</td>\n",
              "      <td>0.175309</td>\n",
              "      <td>1.00</td>\n",
              "      <td>1.00</td>\n",
              "      <td>1.0</td>\n",
              "      <td>1.00</td>\n",
              "      <td>2.0</td>\n",
              "    </tr>\n",
              "    <tr>\n",
              "      <th>수축기 혈압</th>\n",
              "      <td>994576.0</td>\n",
              "      <td>1.224726e+02</td>\n",
              "      <td>14.608604</td>\n",
              "      <td>57.00</td>\n",
              "      <td>112.00</td>\n",
              "      <td>121.0</td>\n",
              "      <td>131.00</td>\n",
              "      <td>260.0</td>\n",
              "    </tr>\n",
              "    <tr>\n",
              "      <th>이완기 혈압</th>\n",
              "      <td>994575.0</td>\n",
              "      <td>7.575470e+01</td>\n",
              "      <td>10.045696</td>\n",
              "      <td>28.00</td>\n",
              "      <td>70.00</td>\n",
              "      <td>76.0</td>\n",
              "      <td>82.00</td>\n",
              "      <td>200.0</td>\n",
              "    </tr>\n",
              "    <tr>\n",
              "      <th>식전혈당(공복혈당)</th>\n",
              "      <td>994477.0</td>\n",
              "      <td>1.008461e+02</td>\n",
              "      <td>23.768812</td>\n",
              "      <td>2.00</td>\n",
              "      <td>89.00</td>\n",
              "      <td>96.0</td>\n",
              "      <td>105.00</td>\n",
              "      <td>960.0</td>\n",
              "    </tr>\n",
              "    <tr>\n",
              "      <th>총 콜레스테롤</th>\n",
              "      <td>333549.0</td>\n",
              "      <td>1.963677e+02</td>\n",
              "      <td>41.311458</td>\n",
              "      <td>50.00</td>\n",
              "      <td>169.00</td>\n",
              "      <td>195.0</td>\n",
              "      <td>221.00</td>\n",
              "      <td>2389.0</td>\n",
              "    </tr>\n",
              "    <tr>\n",
              "      <th>트리글리세라이드</th>\n",
              "      <td>333544.0</td>\n",
              "      <td>1.338736e+02</td>\n",
              "      <td>101.115556</td>\n",
              "      <td>4.00</td>\n",
              "      <td>76.00</td>\n",
              "      <td>109.0</td>\n",
              "      <td>161.00</td>\n",
              "      <td>4879.0</td>\n",
              "    </tr>\n",
              "    <tr>\n",
              "      <th>HDL 콜레스테롤</th>\n",
              "      <td>333541.0</td>\n",
              "      <td>5.662232e+01</td>\n",
              "      <td>14.913722</td>\n",
              "      <td>1.00</td>\n",
              "      <td>46.00</td>\n",
              "      <td>55.0</td>\n",
              "      <td>65.00</td>\n",
              "      <td>588.0</td>\n",
              "    </tr>\n",
              "    <tr>\n",
              "      <th>LDL 콜레스테롤</th>\n",
              "      <td>327148.0</td>\n",
              "      <td>1.139103e+02</td>\n",
              "      <td>39.713293</td>\n",
              "      <td>1.00</td>\n",
              "      <td>89.00</td>\n",
              "      <td>112.0</td>\n",
              "      <td>137.00</td>\n",
              "      <td>2278.0</td>\n",
              "    </tr>\n",
              "    <tr>\n",
              "      <th>혈색소</th>\n",
              "      <td>994468.0</td>\n",
              "      <td>1.425168e+01</td>\n",
              "      <td>1.566103</td>\n",
              "      <td>0.80</td>\n",
              "      <td>13.20</td>\n",
              "      <td>14.3</td>\n",
              "      <td>15.40</td>\n",
              "      <td>25.0</td>\n",
              "    </tr>\n",
              "    <tr>\n",
              "      <th>요단백</th>\n",
              "      <td>989694.0</td>\n",
              "      <td>1.104043e+00</td>\n",
              "      <td>0.453434</td>\n",
              "      <td>1.00</td>\n",
              "      <td>1.00</td>\n",
              "      <td>1.0</td>\n",
              "      <td>1.00</td>\n",
              "      <td>6.0</td>\n",
              "    </tr>\n",
              "    <tr>\n",
              "      <th>혈청크레아티닌</th>\n",
              "      <td>994474.0</td>\n",
              "      <td>8.605547e-01</td>\n",
              "      <td>0.477701</td>\n",
              "      <td>0.06</td>\n",
              "      <td>0.70</td>\n",
              "      <td>0.8</td>\n",
              "      <td>1.00</td>\n",
              "      <td>98.0</td>\n",
              "    </tr>\n",
              "    <tr>\n",
              "      <th>(혈청지오티)AST</th>\n",
              "      <td>994478.0</td>\n",
              "      <td>2.623111e+01</td>\n",
              "      <td>24.046478</td>\n",
              "      <td>1.00</td>\n",
              "      <td>19.00</td>\n",
              "      <td>23.0</td>\n",
              "      <td>29.00</td>\n",
              "      <td>7362.0</td>\n",
              "    </tr>\n",
              "    <tr>\n",
              "      <th>(혈청지오티)ALT</th>\n",
              "      <td>994477.0</td>\n",
              "      <td>2.599671e+01</td>\n",
              "      <td>27.710895</td>\n",
              "      <td>1.00</td>\n",
              "      <td>15.00</td>\n",
              "      <td>20.0</td>\n",
              "      <td>30.00</td>\n",
              "      <td>6435.0</td>\n",
              "    </tr>\n",
              "    <tr>\n",
              "      <th>감마 지티피</th>\n",
              "      <td>994470.0</td>\n",
              "      <td>3.629429e+01</td>\n",
              "      <td>48.390706</td>\n",
              "      <td>1.00</td>\n",
              "      <td>16.00</td>\n",
              "      <td>23.0</td>\n",
              "      <td>39.00</td>\n",
              "      <td>999.0</td>\n",
              "    </tr>\n",
              "    <tr>\n",
              "      <th>흡연상태</th>\n",
              "      <td>999834.0</td>\n",
              "      <td>1.369669e+00</td>\n",
              "      <td>0.482715</td>\n",
              "      <td>1.00</td>\n",
              "      <td>1.00</td>\n",
              "      <td>1.0</td>\n",
              "      <td>2.00</td>\n",
              "      <td>2.0</td>\n",
              "    </tr>\n",
              "    <tr>\n",
              "      <th>음주여부</th>\n",
              "      <td>644918.0</td>\n",
              "      <td>9.999721e-01</td>\n",
              "      <td>0.005283</td>\n",
              "      <td>0.00</td>\n",
              "      <td>1.00</td>\n",
              "      <td>1.0</td>\n",
              "      <td>1.00</td>\n",
              "      <td>1.0</td>\n",
              "    </tr>\n",
              "    <tr>\n",
              "      <th>구강검진 수검여부</th>\n",
              "      <td>1000000.0</td>\n",
              "      <td>3.976800e-01</td>\n",
              "      <td>0.489419</td>\n",
              "      <td>0.00</td>\n",
              "      <td>0.00</td>\n",
              "      <td>0.0</td>\n",
              "      <td>1.00</td>\n",
              "      <td>1.0</td>\n",
              "    </tr>\n",
              "    <tr>\n",
              "      <th>치아우식증유무</th>\n",
              "      <td>397680.0</td>\n",
              "      <td>2.100684e-01</td>\n",
              "      <td>0.407357</td>\n",
              "      <td>0.00</td>\n",
              "      <td>0.00</td>\n",
              "      <td>0.0</td>\n",
              "      <td>0.00</td>\n",
              "      <td>1.0</td>\n",
              "    </tr>\n",
              "    <tr>\n",
              "      <th>치석</th>\n",
              "      <td>397680.0</td>\n",
              "      <td>5.875226e-01</td>\n",
              "      <td>0.589261</td>\n",
              "      <td>0.00</td>\n",
              "      <td>0.00</td>\n",
              "      <td>1.0</td>\n",
              "      <td>1.00</td>\n",
              "      <td>2.0</td>\n",
              "    </tr>\n",
              "    <tr>\n",
              "      <th>데이터 공개일자</th>\n",
              "      <td>1000000.0</td>\n",
              "      <td>2.019123e+07</td>\n",
              "      <td>0.000000</td>\n",
              "      <td>20191231.00</td>\n",
              "      <td>20191231.00</td>\n",
              "      <td>20191231.0</td>\n",
              "      <td>20191231.00</td>\n",
              "      <td>20191231.0</td>\n",
              "    </tr>\n",
              "  </tbody>\n",
              "</table>\n",
              "</div>"
            ],
            "text/plain": [
              "                  count          mean  ...          75%         max\n",
              "기준년도          1000000.0  2.019000e+03  ...      2019.00      2019.0\n",
              "가입자 일련번호      1000000.0  5.000005e+05  ...    750000.25   1000000.0\n",
              "시도코드          1000000.0  3.371239e+01  ...        43.00        50.0\n",
              "성별코드          1000000.0  1.480426e+00  ...         2.00         2.0\n",
              "연령대 코드(5세단위)  1000000.0  1.049639e+01  ...        13.00        18.0\n",
              "신장(5Cm단위)     1000000.0  1.623077e+02  ...       170.00       195.0\n",
              "체중(5Kg 단위)    1000000.0  6.356449e+01  ...        70.00       145.0\n",
              "허리둘레           999597.0  8.132056e+01  ...        88.00       999.0\n",
              "시력(좌)          999805.0  9.719088e-01  ...         1.20         9.9\n",
              "시력(우)          999812.0  9.709511e-01  ...         1.20         9.9\n",
              "청력(좌)          999819.0  1.033041e+00  ...         1.00         2.0\n",
              "청력(우)          999822.0  1.031741e+00  ...         1.00         2.0\n",
              "수축기 혈압         994576.0  1.224726e+02  ...       131.00       260.0\n",
              "이완기 혈압         994575.0  7.575470e+01  ...        82.00       200.0\n",
              "식전혈당(공복혈당)     994477.0  1.008461e+02  ...       105.00       960.0\n",
              "총 콜레스테롤        333549.0  1.963677e+02  ...       221.00      2389.0\n",
              "트리글리세라이드       333544.0  1.338736e+02  ...       161.00      4879.0\n",
              "HDL 콜레스테롤      333541.0  5.662232e+01  ...        65.00       588.0\n",
              "LDL 콜레스테롤      327148.0  1.139103e+02  ...       137.00      2278.0\n",
              "혈색소            994468.0  1.425168e+01  ...        15.40        25.0\n",
              "요단백            989694.0  1.104043e+00  ...         1.00         6.0\n",
              "혈청크레아티닌        994474.0  8.605547e-01  ...         1.00        98.0\n",
              "(혈청지오티)AST     994478.0  2.623111e+01  ...        29.00      7362.0\n",
              "(혈청지오티)ALT     994477.0  2.599671e+01  ...        30.00      6435.0\n",
              "감마 지티피         994470.0  3.629429e+01  ...        39.00       999.0\n",
              "흡연상태           999834.0  1.369669e+00  ...         2.00         2.0\n",
              "음주여부           644918.0  9.999721e-01  ...         1.00         1.0\n",
              "구강검진 수검여부     1000000.0  3.976800e-01  ...         1.00         1.0\n",
              "치아우식증유무        397680.0  2.100684e-01  ...         0.00         1.0\n",
              "치석             397680.0  5.875226e-01  ...         1.00         2.0\n",
              "데이터 공개일자      1000000.0  2.019123e+07  ...  20191231.00  20191231.0\n",
              "\n",
              "[31 rows x 8 columns]"
            ]
          },
          "metadata": {
            "tags": []
          },
          "execution_count": 191
        }
      ]
    },
    {
      "cell_type": "code",
      "metadata": {
        "colab": {
          "base_uri": "https://localhost:8080/"
        },
        "id": "rdX5FWGtX6Az",
        "outputId": "b04b00e0-109f-40c1-e748-c98823727a28"
      },
      "source": [
        "tr.isnull().sum()"
      ],
      "execution_count": null,
      "outputs": [
        {
          "output_type": "execute_result",
          "data": {
            "text/plain": [
              "기준년도                  0\n",
              "가입자 일련번호              0\n",
              "시도코드                  0\n",
              "성별코드                  0\n",
              "연령대 코드(5세단위)          0\n",
              "신장(5Cm단위)             0\n",
              "체중(5Kg 단위)            0\n",
              "허리둘레                403\n",
              "시력(좌)               195\n",
              "시력(우)               188\n",
              "청력(좌)               181\n",
              "청력(우)               178\n",
              "수축기 혈압             5424\n",
              "이완기 혈압             5425\n",
              "식전혈당(공복혈당)         5523\n",
              "총 콜레스테롤          666451\n",
              "트리글리세라이드         666456\n",
              "HDL 콜레스테롤        666459\n",
              "LDL 콜레스테롤        672852\n",
              "혈색소                5532\n",
              "요단백               10306\n",
              "혈청크레아티닌            5526\n",
              "(혈청지오티)AST         5522\n",
              "(혈청지오티)ALT         5523\n",
              "감마 지티피             5530\n",
              "흡연상태                166\n",
              "음주여부             355082\n",
              "구강검진 수검여부             0\n",
              "치아우식증유무          602320\n",
              "결손치 유무                0\n",
              "치아마모증유무               0\n",
              "제3대구치(사랑니) 이상         0\n",
              "치석               602320\n",
              "데이터 공개일자              0\n",
              "dtype: int64"
            ]
          },
          "metadata": {
            "tags": []
          },
          "execution_count": 192
        }
      ]
    },
    {
      "cell_type": "markdown",
      "metadata": {
        "id": "HKzdIPZBbLFh"
      },
      "source": [
        "- 위에서 '기준년도', '가입자 일련번호' 등의 컬럼은 타겟과 무관하기때문에 삭제한다\n",
        "- '총 콜레스테롤' ~ 'LDL 콜레스테롤' 4개의 컬럼은 결측치가 너무 많아 제거하기로 한다(결측치가 약 66만개)\n",
        "- '치아우식증여부' ~ '데이터공개일자' 컬럼들은 신장 기능과 무관하다고 판단하여 제거한다"
      ]
    },
    {
      "cell_type": "code",
      "metadata": {
        "id": "wxIy87Z_rwR4"
      },
      "source": [
        "# 타겟 예측에 불필요한 컬럼들 삭제\n",
        "train = tr.drop(['기준년도', '가입자 일련번호', '시도코드', '총 콜레스테롤', '트리글리세라이드', 'HDL 콜레스테롤', 'LDL 콜레스테롤', '치아우식증유무', '결손치 유무', '치아마모증유무', '제3대구치(사랑니) 이상', '치석', '데이터 공개일자'], axis=1)"
      ],
      "execution_count": null,
      "outputs": []
    },
    {
      "cell_type": "code",
      "metadata": {
        "colab": {
          "base_uri": "https://localhost:8080/"
        },
        "id": "nsJbPn-DrwP9",
        "outputId": "cbf7476c-1c72-402f-fc86-83435e01926f"
      },
      "source": [
        "train.shape"
      ],
      "execution_count": null,
      "outputs": [
        {
          "output_type": "execute_result",
          "data": {
            "text/plain": [
              "(1000000, 21)"
            ]
          },
          "metadata": {
            "tags": []
          },
          "execution_count": 194
        }
      ]
    },
    {
      "cell_type": "markdown",
      "metadata": {
        "id": "WyEb1XgHx_gl"
      },
      "source": [
        "### 데이터 EDA (2차) : '흡연상태', '음주여부' 어떻게 처리할지 결정"
      ]
    },
    {
      "cell_type": "code",
      "metadata": {
        "colab": {
          "base_uri": "https://localhost:8080/"
        },
        "id": "Cjj6hjhKbVQK",
        "outputId": "1c7ea927-929d-405a-d79b-1c5dd539cd3d"
      },
      "source": [
        "train.isnull().sum()"
      ],
      "execution_count": null,
      "outputs": [
        {
          "output_type": "execute_result",
          "data": {
            "text/plain": [
              "성별코드                 0\n",
              "연령대 코드(5세단위)         0\n",
              "신장(5Cm단위)            0\n",
              "체중(5Kg 단위)           0\n",
              "허리둘레               403\n",
              "시력(좌)              195\n",
              "시력(우)              188\n",
              "청력(좌)              181\n",
              "청력(우)              178\n",
              "수축기 혈압            5424\n",
              "이완기 혈압            5425\n",
              "식전혈당(공복혈당)        5523\n",
              "혈색소               5532\n",
              "요단백              10306\n",
              "혈청크레아티닌           5526\n",
              "(혈청지오티)AST        5522\n",
              "(혈청지오티)ALT        5523\n",
              "감마 지티피            5530\n",
              "흡연상태               166\n",
              "음주여부            355082\n",
              "구강검진 수검여부            0\n",
              "dtype: int64"
            ]
          },
          "metadata": {
            "tags": []
          },
          "execution_count": 195
        }
      ]
    },
    {
      "cell_type": "markdown",
      "metadata": {
        "id": "iXZvpTABv3vb"
      },
      "source": [
        "샘플 수가 충분하기 때문에 \n",
        "- '음주여부' 결측치 처리를 해결한 뒤에 \n",
        "- 결측값이 있는 샘플은 모두 삭제하기로 한다."
      ]
    },
    {
      "cell_type": "code",
      "metadata": {
        "colab": {
          "base_uri": "https://localhost:8080/"
        },
        "id": "FdMY5FdnmWny",
        "outputId": "4440bb1f-8d19-4f1f-bd10-a3cd549c26ff"
      },
      "source": [
        "train.groupby(train['음주여부']).size()"
      ],
      "execution_count": null,
      "outputs": [
        {
          "output_type": "execute_result",
          "data": {
            "text/plain": [
              "음주여부\n",
              "0.0        18\n",
              "1.0    644900\n",
              "dtype: int64"
            ]
          },
          "metadata": {
            "tags": []
          },
          "execution_count": 196
        }
      ]
    },
    {
      "cell_type": "code",
      "metadata": {
        "colab": {
          "base_uri": "https://localhost:8080/"
        },
        "id": "uPl8Cz7YvNEh",
        "outputId": "b39a16e2-f848-4f36-b655-a0ae9e2ec43c"
      },
      "source": [
        "train.groupby(train['흡연상태']).size()"
      ],
      "execution_count": null,
      "outputs": [
        {
          "output_type": "execute_result",
          "data": {
            "text/plain": [
              "흡연상태\n",
              "1.0    630226\n",
              "2.0    369608\n",
              "dtype: int64"
            ]
          },
          "metadata": {
            "tags": []
          },
          "execution_count": 197
        }
      ]
    },
    {
      "cell_type": "code",
      "metadata": {
        "colab": {
          "base_uri": "https://localhost:8080/"
        },
        "id": "jKBeTfspd8Ut",
        "outputId": "c2f00667-846b-4bd2-f06a-0c0dc97666ef"
      },
      "source": [
        "train.head(10)"
      ],
      "execution_count": null,
      "outputs": [
        {
          "output_type": "execute_result",
          "data": {
            "text/html": [
              "<div>\n",
              "<style scoped>\n",
              "    .dataframe tbody tr th:only-of-type {\n",
              "        vertical-align: middle;\n",
              "    }\n",
              "\n",
              "    .dataframe tbody tr th {\n",
              "        vertical-align: top;\n",
              "    }\n",
              "\n",
              "    .dataframe thead th {\n",
              "        text-align: right;\n",
              "    }\n",
              "</style>\n",
              "<table border=\"1\" class=\"dataframe\">\n",
              "  <thead>\n",
              "    <tr style=\"text-align: right;\">\n",
              "      <th></th>\n",
              "      <th>성별코드</th>\n",
              "      <th>연령대 코드(5세단위)</th>\n",
              "      <th>신장(5Cm단위)</th>\n",
              "      <th>체중(5Kg 단위)</th>\n",
              "      <th>허리둘레</th>\n",
              "      <th>시력(좌)</th>\n",
              "      <th>시력(우)</th>\n",
              "      <th>청력(좌)</th>\n",
              "      <th>청력(우)</th>\n",
              "      <th>수축기 혈압</th>\n",
              "      <th>이완기 혈압</th>\n",
              "      <th>식전혈당(공복혈당)</th>\n",
              "      <th>혈색소</th>\n",
              "      <th>요단백</th>\n",
              "      <th>혈청크레아티닌</th>\n",
              "      <th>(혈청지오티)AST</th>\n",
              "      <th>(혈청지오티)ALT</th>\n",
              "      <th>감마 지티피</th>\n",
              "      <th>흡연상태</th>\n",
              "      <th>음주여부</th>\n",
              "      <th>구강검진 수검여부</th>\n",
              "    </tr>\n",
              "  </thead>\n",
              "  <tbody>\n",
              "    <tr>\n",
              "      <th>0</th>\n",
              "      <td>1</td>\n",
              "      <td>13</td>\n",
              "      <td>165</td>\n",
              "      <td>65</td>\n",
              "      <td>90.0</td>\n",
              "      <td>1.5</td>\n",
              "      <td>1.2</td>\n",
              "      <td>1.0</td>\n",
              "      <td>1.0</td>\n",
              "      <td>112.0</td>\n",
              "      <td>70.0</td>\n",
              "      <td>93.0</td>\n",
              "      <td>15.5</td>\n",
              "      <td>1.0</td>\n",
              "      <td>1.0</td>\n",
              "      <td>18.0</td>\n",
              "      <td>32.0</td>\n",
              "      <td>47.0</td>\n",
              "      <td>2.0</td>\n",
              "      <td>NaN</td>\n",
              "      <td>1</td>\n",
              "    </tr>\n",
              "    <tr>\n",
              "      <th>1</th>\n",
              "      <td>2</td>\n",
              "      <td>5</td>\n",
              "      <td>155</td>\n",
              "      <td>45</td>\n",
              "      <td>64.0</td>\n",
              "      <td>1.2</td>\n",
              "      <td>0.5</td>\n",
              "      <td>1.0</td>\n",
              "      <td>1.0</td>\n",
              "      <td>114.0</td>\n",
              "      <td>76.0</td>\n",
              "      <td>89.0</td>\n",
              "      <td>14.0</td>\n",
              "      <td>1.0</td>\n",
              "      <td>0.5</td>\n",
              "      <td>15.0</td>\n",
              "      <td>8.0</td>\n",
              "      <td>13.0</td>\n",
              "      <td>1.0</td>\n",
              "      <td>1.0</td>\n",
              "      <td>0</td>\n",
              "    </tr>\n",
              "    <tr>\n",
              "      <th>2</th>\n",
              "      <td>1</td>\n",
              "      <td>13</td>\n",
              "      <td>160</td>\n",
              "      <td>70</td>\n",
              "      <td>87.0</td>\n",
              "      <td>0.9</td>\n",
              "      <td>0.8</td>\n",
              "      <td>1.0</td>\n",
              "      <td>1.0</td>\n",
              "      <td>109.0</td>\n",
              "      <td>73.0</td>\n",
              "      <td>100.0</td>\n",
              "      <td>15.6</td>\n",
              "      <td>1.0</td>\n",
              "      <td>1.0</td>\n",
              "      <td>30.0</td>\n",
              "      <td>21.0</td>\n",
              "      <td>17.0</td>\n",
              "      <td>1.0</td>\n",
              "      <td>1.0</td>\n",
              "      <td>0</td>\n",
              "    </tr>\n",
              "    <tr>\n",
              "      <th>3</th>\n",
              "      <td>1</td>\n",
              "      <td>12</td>\n",
              "      <td>170</td>\n",
              "      <td>60</td>\n",
              "      <td>85.0</td>\n",
              "      <td>0.4</td>\n",
              "      <td>1.2</td>\n",
              "      <td>1.0</td>\n",
              "      <td>1.0</td>\n",
              "      <td>131.0</td>\n",
              "      <td>85.0</td>\n",
              "      <td>85.0</td>\n",
              "      <td>14.5</td>\n",
              "      <td>1.0</td>\n",
              "      <td>0.7</td>\n",
              "      <td>17.0</td>\n",
              "      <td>19.0</td>\n",
              "      <td>32.0</td>\n",
              "      <td>2.0</td>\n",
              "      <td>1.0</td>\n",
              "      <td>0</td>\n",
              "    </tr>\n",
              "    <tr>\n",
              "      <th>4</th>\n",
              "      <td>1</td>\n",
              "      <td>10</td>\n",
              "      <td>170</td>\n",
              "      <td>70</td>\n",
              "      <td>81.2</td>\n",
              "      <td>0.7</td>\n",
              "      <td>0.7</td>\n",
              "      <td>1.0</td>\n",
              "      <td>1.0</td>\n",
              "      <td>112.0</td>\n",
              "      <td>66.0</td>\n",
              "      <td>91.0</td>\n",
              "      <td>14.9</td>\n",
              "      <td>1.0</td>\n",
              "      <td>0.9</td>\n",
              "      <td>19.0</td>\n",
              "      <td>24.0</td>\n",
              "      <td>19.0</td>\n",
              "      <td>2.0</td>\n",
              "      <td>NaN</td>\n",
              "      <td>0</td>\n",
              "    </tr>\n",
              "    <tr>\n",
              "      <th>5</th>\n",
              "      <td>1</td>\n",
              "      <td>8</td>\n",
              "      <td>170</td>\n",
              "      <td>110</td>\n",
              "      <td>107.8</td>\n",
              "      <td>1.2</td>\n",
              "      <td>1.5</td>\n",
              "      <td>1.0</td>\n",
              "      <td>1.0</td>\n",
              "      <td>139.0</td>\n",
              "      <td>87.0</td>\n",
              "      <td>108.0</td>\n",
              "      <td>14.8</td>\n",
              "      <td>1.0</td>\n",
              "      <td>0.9</td>\n",
              "      <td>42.0</td>\n",
              "      <td>44.0</td>\n",
              "      <td>129.0</td>\n",
              "      <td>1.0</td>\n",
              "      <td>1.0</td>\n",
              "      <td>0</td>\n",
              "    </tr>\n",
              "    <tr>\n",
              "      <th>6</th>\n",
              "      <td>1</td>\n",
              "      <td>6</td>\n",
              "      <td>175</td>\n",
              "      <td>70</td>\n",
              "      <td>81.3</td>\n",
              "      <td>0.9</td>\n",
              "      <td>1.0</td>\n",
              "      <td>1.0</td>\n",
              "      <td>1.0</td>\n",
              "      <td>120.0</td>\n",
              "      <td>72.0</td>\n",
              "      <td>90.0</td>\n",
              "      <td>13.1</td>\n",
              "      <td>1.0</td>\n",
              "      <td>0.9</td>\n",
              "      <td>14.0</td>\n",
              "      <td>11.0</td>\n",
              "      <td>30.0</td>\n",
              "      <td>2.0</td>\n",
              "      <td>1.0</td>\n",
              "      <td>1</td>\n",
              "    </tr>\n",
              "    <tr>\n",
              "      <th>7</th>\n",
              "      <td>1</td>\n",
              "      <td>12</td>\n",
              "      <td>165</td>\n",
              "      <td>65</td>\n",
              "      <td>85.0</td>\n",
              "      <td>0.7</td>\n",
              "      <td>0.8</td>\n",
              "      <td>1.0</td>\n",
              "      <td>1.0</td>\n",
              "      <td>140.0</td>\n",
              "      <td>90.0</td>\n",
              "      <td>130.0</td>\n",
              "      <td>16.2</td>\n",
              "      <td>1.0</td>\n",
              "      <td>1.1</td>\n",
              "      <td>29.0</td>\n",
              "      <td>30.0</td>\n",
              "      <td>68.0</td>\n",
              "      <td>1.0</td>\n",
              "      <td>1.0</td>\n",
              "      <td>1</td>\n",
              "    </tr>\n",
              "    <tr>\n",
              "      <th>8</th>\n",
              "      <td>1</td>\n",
              "      <td>14</td>\n",
              "      <td>165</td>\n",
              "      <td>75</td>\n",
              "      <td>88.9</td>\n",
              "      <td>0.6</td>\n",
              "      <td>0.7</td>\n",
              "      <td>1.0</td>\n",
              "      <td>1.0</td>\n",
              "      <td>132.0</td>\n",
              "      <td>74.0</td>\n",
              "      <td>99.0</td>\n",
              "      <td>14.4</td>\n",
              "      <td>1.0</td>\n",
              "      <td>0.6</td>\n",
              "      <td>27.0</td>\n",
              "      <td>22.0</td>\n",
              "      <td>26.0</td>\n",
              "      <td>2.0</td>\n",
              "      <td>1.0</td>\n",
              "      <td>1</td>\n",
              "    </tr>\n",
              "    <tr>\n",
              "      <th>9</th>\n",
              "      <td>2</td>\n",
              "      <td>13</td>\n",
              "      <td>145</td>\n",
              "      <td>50</td>\n",
              "      <td>78.0</td>\n",
              "      <td>0.2</td>\n",
              "      <td>0.1</td>\n",
              "      <td>1.0</td>\n",
              "      <td>1.0</td>\n",
              "      <td>104.0</td>\n",
              "      <td>60.0</td>\n",
              "      <td>98.0</td>\n",
              "      <td>13.7</td>\n",
              "      <td>1.0</td>\n",
              "      <td>1.0</td>\n",
              "      <td>33.0</td>\n",
              "      <td>23.0</td>\n",
              "      <td>23.0</td>\n",
              "      <td>1.0</td>\n",
              "      <td>NaN</td>\n",
              "      <td>1</td>\n",
              "    </tr>\n",
              "  </tbody>\n",
              "</table>\n",
              "</div>"
            ],
            "text/plain": [
              "   성별코드  연령대 코드(5세단위)  신장(5Cm단위)  체중(5Kg 단위)  ...  감마 지티피  흡연상태  음주여부  구강검진 수검여부\n",
              "0     1            13        165          65  ...    47.0   2.0   NaN          1\n",
              "1     2             5        155          45  ...    13.0   1.0   1.0          0\n",
              "2     1            13        160          70  ...    17.0   1.0   1.0          0\n",
              "3     1            12        170          60  ...    32.0   2.0   1.0          0\n",
              "4     1            10        170          70  ...    19.0   2.0   NaN          0\n",
              "5     1             8        170         110  ...   129.0   1.0   1.0          0\n",
              "6     1             6        175          70  ...    30.0   2.0   1.0          1\n",
              "7     1            12        165          65  ...    68.0   1.0   1.0          1\n",
              "8     1            14        165          75  ...    26.0   2.0   1.0          1\n",
              "9     2            13        145          50  ...    23.0   1.0   NaN          1\n",
              "\n",
              "[10 rows x 21 columns]"
            ]
          },
          "metadata": {
            "tags": []
          },
          "execution_count": 198
        }
      ]
    },
    {
      "cell_type": "markdown",
      "metadata": {
        "id": "6kikQH2JdcBL"
      },
      "source": [
        "- 위 데이터를 보면 '음주 여부'에 null값이 355082개 / 0.0이 18개 / 1.0이 644900개인 것을 보아 \n",
        "- 금주 == 0, 음주 == 1 로 보고 \n",
        "- null을 전부 0으로 채운다 \n",
        "---\n",
        "- 금연 ==1, 흡연 == 2 로 보고\n",
        "- 샘플이 충분하기 때문에 결측치가 있는 166개의 샘플은 삭제하기로 한다 "
      ]
    },
    {
      "cell_type": "markdown",
      "metadata": {
        "id": "38SRgPMUC_ol"
      },
      "source": [
        "### 데이터 EDA (3차) : '허리둘레', '혈색소' 컬럼 반올림해서 소수점 없애기(float형인건 여전함)"
      ]
    },
    {
      "cell_type": "code",
      "metadata": {
        "colab": {
          "base_uri": "https://localhost:8080/"
        },
        "id": "CYgRPWiu00Ph",
        "outputId": "f4b064c5-19aa-4c21-e787-df2c218a5339"
      },
      "source": [
        "train.info()"
      ],
      "execution_count": null,
      "outputs": [
        {
          "output_type": "stream",
          "text": [
            "<class 'pandas.core.frame.DataFrame'>\n",
            "RangeIndex: 1000000 entries, 0 to 999999\n",
            "Data columns (total 21 columns):\n",
            " #   Column        Non-Null Count    Dtype  \n",
            "---  ------        --------------    -----  \n",
            " 0   성별코드          1000000 non-null  int64  \n",
            " 1   연령대 코드(5세단위)  1000000 non-null  int64  \n",
            " 2   신장(5Cm단위)     1000000 non-null  int64  \n",
            " 3   체중(5Kg 단위)    1000000 non-null  int64  \n",
            " 4   허리둘레          999597 non-null   float64\n",
            " 5   시력(좌)         999805 non-null   float64\n",
            " 6   시력(우)         999812 non-null   float64\n",
            " 7   청력(좌)         999819 non-null   float64\n",
            " 8   청력(우)         999822 non-null   float64\n",
            " 9   수축기 혈압        994576 non-null   float64\n",
            " 10  이완기 혈압        994575 non-null   float64\n",
            " 11  식전혈당(공복혈당)    994477 non-null   float64\n",
            " 12  혈색소           994468 non-null   float64\n",
            " 13  요단백           989694 non-null   float64\n",
            " 14  혈청크레아티닌       994474 non-null   float64\n",
            " 15  (혈청지오티)AST    994478 non-null   float64\n",
            " 16  (혈청지오티)ALT    994477 non-null   float64\n",
            " 17  감마 지티피        994470 non-null   float64\n",
            " 18  흡연상태          999834 non-null   float64\n",
            " 19  음주여부          644918 non-null   float64\n",
            " 20  구강검진 수검여부     1000000 non-null  int64  \n",
            "dtypes: float64(16), int64(5)\n",
            "memory usage: 160.2 MB\n"
          ],
          "name": "stdout"
        }
      ]
    },
    {
      "cell_type": "code",
      "metadata": {
        "id": "_GKAnsac1oRa"
      },
      "source": [
        "# '허리둘레', '혈색소' 컬럼 반올림해서 소수점 없애기(float형인건 여전함)\n",
        "\n",
        "def toInt(flo):\n",
        "  if flo == None: # 결측치면 넘어감\n",
        "    pass\n",
        "  else:\n",
        "    return round(flo, 0) # 값이 있으면 반올림\n",
        "\n",
        "\n",
        "train['허리둘레'] = train['허리둘레'].apply(toInt)\n",
        "train['혈색소'] = train['혈색소'].apply(toInt)"
      ],
      "execution_count": null,
      "outputs": []
    },
    {
      "cell_type": "code",
      "metadata": {
        "colab": {
          "base_uri": "https://localhost:8080/"
        },
        "id": "9a2Ge2LLDO48",
        "outputId": "45be593a-0906-4060-9263-339b87ff9926"
      },
      "source": [
        "# '허리둘레', '혈색소' 컬럼 반올림해서 소수점 없어진거 확인\n",
        "train.head()"
      ],
      "execution_count": null,
      "outputs": [
        {
          "output_type": "execute_result",
          "data": {
            "text/html": [
              "<div>\n",
              "<style scoped>\n",
              "    .dataframe tbody tr th:only-of-type {\n",
              "        vertical-align: middle;\n",
              "    }\n",
              "\n",
              "    .dataframe tbody tr th {\n",
              "        vertical-align: top;\n",
              "    }\n",
              "\n",
              "    .dataframe thead th {\n",
              "        text-align: right;\n",
              "    }\n",
              "</style>\n",
              "<table border=\"1\" class=\"dataframe\">\n",
              "  <thead>\n",
              "    <tr style=\"text-align: right;\">\n",
              "      <th></th>\n",
              "      <th>성별코드</th>\n",
              "      <th>연령대 코드(5세단위)</th>\n",
              "      <th>신장(5Cm단위)</th>\n",
              "      <th>체중(5Kg 단위)</th>\n",
              "      <th>허리둘레</th>\n",
              "      <th>시력(좌)</th>\n",
              "      <th>시력(우)</th>\n",
              "      <th>청력(좌)</th>\n",
              "      <th>청력(우)</th>\n",
              "      <th>수축기 혈압</th>\n",
              "      <th>이완기 혈압</th>\n",
              "      <th>식전혈당(공복혈당)</th>\n",
              "      <th>혈색소</th>\n",
              "      <th>요단백</th>\n",
              "      <th>혈청크레아티닌</th>\n",
              "      <th>(혈청지오티)AST</th>\n",
              "      <th>(혈청지오티)ALT</th>\n",
              "      <th>감마 지티피</th>\n",
              "      <th>흡연상태</th>\n",
              "      <th>음주여부</th>\n",
              "      <th>구강검진 수검여부</th>\n",
              "    </tr>\n",
              "  </thead>\n",
              "  <tbody>\n",
              "    <tr>\n",
              "      <th>0</th>\n",
              "      <td>1</td>\n",
              "      <td>13</td>\n",
              "      <td>165</td>\n",
              "      <td>65</td>\n",
              "      <td>90.0</td>\n",
              "      <td>1.5</td>\n",
              "      <td>1.2</td>\n",
              "      <td>1.0</td>\n",
              "      <td>1.0</td>\n",
              "      <td>112.0</td>\n",
              "      <td>70.0</td>\n",
              "      <td>93.0</td>\n",
              "      <td>16.0</td>\n",
              "      <td>1.0</td>\n",
              "      <td>1.0</td>\n",
              "      <td>18.0</td>\n",
              "      <td>32.0</td>\n",
              "      <td>47.0</td>\n",
              "      <td>2.0</td>\n",
              "      <td>NaN</td>\n",
              "      <td>1</td>\n",
              "    </tr>\n",
              "    <tr>\n",
              "      <th>1</th>\n",
              "      <td>2</td>\n",
              "      <td>5</td>\n",
              "      <td>155</td>\n",
              "      <td>45</td>\n",
              "      <td>64.0</td>\n",
              "      <td>1.2</td>\n",
              "      <td>0.5</td>\n",
              "      <td>1.0</td>\n",
              "      <td>1.0</td>\n",
              "      <td>114.0</td>\n",
              "      <td>76.0</td>\n",
              "      <td>89.0</td>\n",
              "      <td>14.0</td>\n",
              "      <td>1.0</td>\n",
              "      <td>0.5</td>\n",
              "      <td>15.0</td>\n",
              "      <td>8.0</td>\n",
              "      <td>13.0</td>\n",
              "      <td>1.0</td>\n",
              "      <td>1.0</td>\n",
              "      <td>0</td>\n",
              "    </tr>\n",
              "    <tr>\n",
              "      <th>2</th>\n",
              "      <td>1</td>\n",
              "      <td>13</td>\n",
              "      <td>160</td>\n",
              "      <td>70</td>\n",
              "      <td>87.0</td>\n",
              "      <td>0.9</td>\n",
              "      <td>0.8</td>\n",
              "      <td>1.0</td>\n",
              "      <td>1.0</td>\n",
              "      <td>109.0</td>\n",
              "      <td>73.0</td>\n",
              "      <td>100.0</td>\n",
              "      <td>16.0</td>\n",
              "      <td>1.0</td>\n",
              "      <td>1.0</td>\n",
              "      <td>30.0</td>\n",
              "      <td>21.0</td>\n",
              "      <td>17.0</td>\n",
              "      <td>1.0</td>\n",
              "      <td>1.0</td>\n",
              "      <td>0</td>\n",
              "    </tr>\n",
              "    <tr>\n",
              "      <th>3</th>\n",
              "      <td>1</td>\n",
              "      <td>12</td>\n",
              "      <td>170</td>\n",
              "      <td>60</td>\n",
              "      <td>85.0</td>\n",
              "      <td>0.4</td>\n",
              "      <td>1.2</td>\n",
              "      <td>1.0</td>\n",
              "      <td>1.0</td>\n",
              "      <td>131.0</td>\n",
              "      <td>85.0</td>\n",
              "      <td>85.0</td>\n",
              "      <td>14.0</td>\n",
              "      <td>1.0</td>\n",
              "      <td>0.7</td>\n",
              "      <td>17.0</td>\n",
              "      <td>19.0</td>\n",
              "      <td>32.0</td>\n",
              "      <td>2.0</td>\n",
              "      <td>1.0</td>\n",
              "      <td>0</td>\n",
              "    </tr>\n",
              "    <tr>\n",
              "      <th>4</th>\n",
              "      <td>1</td>\n",
              "      <td>10</td>\n",
              "      <td>170</td>\n",
              "      <td>70</td>\n",
              "      <td>81.0</td>\n",
              "      <td>0.7</td>\n",
              "      <td>0.7</td>\n",
              "      <td>1.0</td>\n",
              "      <td>1.0</td>\n",
              "      <td>112.0</td>\n",
              "      <td>66.0</td>\n",
              "      <td>91.0</td>\n",
              "      <td>15.0</td>\n",
              "      <td>1.0</td>\n",
              "      <td>0.9</td>\n",
              "      <td>19.0</td>\n",
              "      <td>24.0</td>\n",
              "      <td>19.0</td>\n",
              "      <td>2.0</td>\n",
              "      <td>NaN</td>\n",
              "      <td>0</td>\n",
              "    </tr>\n",
              "  </tbody>\n",
              "</table>\n",
              "</div>"
            ],
            "text/plain": [
              "   성별코드  연령대 코드(5세단위)  신장(5Cm단위)  체중(5Kg 단위)  ...  감마 지티피  흡연상태  음주여부  구강검진 수검여부\n",
              "0     1            13        165          65  ...    47.0   2.0   NaN          1\n",
              "1     2             5        155          45  ...    13.0   1.0   1.0          0\n",
              "2     1            13        160          70  ...    17.0   1.0   1.0          0\n",
              "3     1            12        170          60  ...    32.0   2.0   1.0          0\n",
              "4     1            10        170          70  ...    19.0   2.0   NaN          0\n",
              "\n",
              "[5 rows x 21 columns]"
            ]
          },
          "metadata": {
            "tags": []
          },
          "execution_count": 201
        }
      ]
    },
    {
      "cell_type": "code",
      "metadata": {
        "colab": {
          "base_uri": "https://localhost:8080/"
        },
        "id": "mN4_UgX5DT3k",
        "outputId": "5a01bb31-fa48-424a-c6b3-b9bd3f5360f8"
      },
      "source": [
        "# '허리둘레', '혈색소' 컬럼 아직 float 형임\n",
        "train.info()"
      ],
      "execution_count": null,
      "outputs": [
        {
          "output_type": "stream",
          "text": [
            "<class 'pandas.core.frame.DataFrame'>\n",
            "RangeIndex: 1000000 entries, 0 to 999999\n",
            "Data columns (total 21 columns):\n",
            " #   Column        Non-Null Count    Dtype  \n",
            "---  ------        --------------    -----  \n",
            " 0   성별코드          1000000 non-null  int64  \n",
            " 1   연령대 코드(5세단위)  1000000 non-null  int64  \n",
            " 2   신장(5Cm단위)     1000000 non-null  int64  \n",
            " 3   체중(5Kg 단위)    1000000 non-null  int64  \n",
            " 4   허리둘레          999597 non-null   float64\n",
            " 5   시력(좌)         999805 non-null   float64\n",
            " 6   시력(우)         999812 non-null   float64\n",
            " 7   청력(좌)         999819 non-null   float64\n",
            " 8   청력(우)         999822 non-null   float64\n",
            " 9   수축기 혈압        994576 non-null   float64\n",
            " 10  이완기 혈압        994575 non-null   float64\n",
            " 11  식전혈당(공복혈당)    994477 non-null   float64\n",
            " 12  혈색소           994468 non-null   float64\n",
            " 13  요단백           989694 non-null   float64\n",
            " 14  혈청크레아티닌       994474 non-null   float64\n",
            " 15  (혈청지오티)AST    994478 non-null   float64\n",
            " 16  (혈청지오티)ALT    994477 non-null   float64\n",
            " 17  감마 지티피        994470 non-null   float64\n",
            " 18  흡연상태          999834 non-null   float64\n",
            " 19  음주여부          644918 non-null   float64\n",
            " 20  구강검진 수검여부     1000000 non-null  int64  \n",
            "dtypes: float64(16), int64(5)\n",
            "memory usage: 160.2 MB\n"
          ],
          "name": "stdout"
        }
      ]
    },
    {
      "cell_type": "markdown",
      "metadata": {
        "id": "udoV9BQtFhSk"
      },
      "source": [
        "### 데이터 EDA (4차) : '음주여부' 변경, 모든결측치 '9999'로 채움"
      ]
    },
    {
      "cell_type": "code",
      "metadata": {
        "colab": {
          "base_uri": "https://localhost:8080/"
        },
        "id": "lnkRdKmWEEFu",
        "outputId": "3e97332e-308e-4e10-ff08-c836b411347a"
      },
      "source": [
        "train.columns"
      ],
      "execution_count": null,
      "outputs": [
        {
          "output_type": "execute_result",
          "data": {
            "text/plain": [
              "Index(['성별코드', '연령대 코드(5세단위)', '신장(5Cm단위)', '체중(5Kg 단위)', '허리둘레', '시력(좌)',\n",
              "       '시력(우)', '청력(좌)', '청력(우)', '수축기 혈압', '이완기 혈압', '식전혈당(공복혈당)', '혈색소',\n",
              "       '요단백', '혈청크레아티닌', '(혈청지오티)AST', '(혈청지오티)ALT', '감마 지티피', '흡연상태', '음주여부',\n",
              "       '구강검진 수검여부'],\n",
              "      dtype='object')"
            ]
          },
          "metadata": {
            "tags": []
          },
          "execution_count": 203
        }
      ]
    },
    {
      "cell_type": "code",
      "metadata": {
        "colab": {
          "base_uri": "https://localhost:8080/"
        },
        "id": "-YXeWO2hFn-7",
        "outputId": "76e208ba-77c8-45c8-f2de-9c437be7db0c"
      },
      "source": [
        "train.isnull().sum()"
      ],
      "execution_count": null,
      "outputs": [
        {
          "output_type": "execute_result",
          "data": {
            "text/plain": [
              "성별코드                 0\n",
              "연령대 코드(5세단위)         0\n",
              "신장(5Cm단위)            0\n",
              "체중(5Kg 단위)           0\n",
              "허리둘레               403\n",
              "시력(좌)              195\n",
              "시력(우)              188\n",
              "청력(좌)              181\n",
              "청력(우)              178\n",
              "수축기 혈압            5424\n",
              "이완기 혈압            5425\n",
              "식전혈당(공복혈당)        5523\n",
              "혈색소               5532\n",
              "요단백              10306\n",
              "혈청크레아티닌           5526\n",
              "(혈청지오티)AST        5522\n",
              "(혈청지오티)ALT        5523\n",
              "감마 지티피            5530\n",
              "흡연상태               166\n",
              "음주여부            355082\n",
              "구강검진 수검여부            0\n",
              "dtype: int64"
            ]
          },
          "metadata": {
            "tags": []
          },
          "execution_count": 204
        }
      ]
    },
    {
      "cell_type": "code",
      "metadata": {
        "id": "_GbpCR0uQKjY"
      },
      "source": [
        "train['음주여부'] = train['음주여부'].replace(0.0, 1) # 금주 : 기존 0.0 >> 변경 1\n",
        "train['음주여부'] = train['음주여부'].replace(1.0, 2) # 음주 : 기존 1.0 >> 변경 2"
      ],
      "execution_count": null,
      "outputs": []
    },
    {
      "cell_type": "code",
      "metadata": {
        "id": "AcyUKTk8MzMI"
      },
      "source": [
        "train['음주여부'] = train['음주여부'].fillna(1) # 결측치를 금주로 취급하여 1로 채움"
      ],
      "execution_count": null,
      "outputs": []
    },
    {
      "cell_type": "code",
      "metadata": {
        "colab": {
          "base_uri": "https://localhost:8080/"
        },
        "id": "sTDkVWpJPhim",
        "outputId": "96c04069-7301-420d-eda3-48b6af34911a"
      },
      "source": [
        "train.head()"
      ],
      "execution_count": null,
      "outputs": [
        {
          "output_type": "execute_result",
          "data": {
            "text/html": [
              "<div>\n",
              "<style scoped>\n",
              "    .dataframe tbody tr th:only-of-type {\n",
              "        vertical-align: middle;\n",
              "    }\n",
              "\n",
              "    .dataframe tbody tr th {\n",
              "        vertical-align: top;\n",
              "    }\n",
              "\n",
              "    .dataframe thead th {\n",
              "        text-align: right;\n",
              "    }\n",
              "</style>\n",
              "<table border=\"1\" class=\"dataframe\">\n",
              "  <thead>\n",
              "    <tr style=\"text-align: right;\">\n",
              "      <th></th>\n",
              "      <th>성별코드</th>\n",
              "      <th>연령대 코드(5세단위)</th>\n",
              "      <th>신장(5Cm단위)</th>\n",
              "      <th>체중(5Kg 단위)</th>\n",
              "      <th>허리둘레</th>\n",
              "      <th>시력(좌)</th>\n",
              "      <th>시력(우)</th>\n",
              "      <th>청력(좌)</th>\n",
              "      <th>청력(우)</th>\n",
              "      <th>수축기 혈압</th>\n",
              "      <th>이완기 혈압</th>\n",
              "      <th>식전혈당(공복혈당)</th>\n",
              "      <th>혈색소</th>\n",
              "      <th>요단백</th>\n",
              "      <th>혈청크레아티닌</th>\n",
              "      <th>(혈청지오티)AST</th>\n",
              "      <th>(혈청지오티)ALT</th>\n",
              "      <th>감마 지티피</th>\n",
              "      <th>흡연상태</th>\n",
              "      <th>음주여부</th>\n",
              "      <th>구강검진 수검여부</th>\n",
              "    </tr>\n",
              "  </thead>\n",
              "  <tbody>\n",
              "    <tr>\n",
              "      <th>0</th>\n",
              "      <td>1</td>\n",
              "      <td>13</td>\n",
              "      <td>165</td>\n",
              "      <td>65</td>\n",
              "      <td>90.0</td>\n",
              "      <td>1.5</td>\n",
              "      <td>1.2</td>\n",
              "      <td>1.0</td>\n",
              "      <td>1.0</td>\n",
              "      <td>112.0</td>\n",
              "      <td>70.0</td>\n",
              "      <td>93.0</td>\n",
              "      <td>16.0</td>\n",
              "      <td>1.0</td>\n",
              "      <td>1.0</td>\n",
              "      <td>18.0</td>\n",
              "      <td>32.0</td>\n",
              "      <td>47.0</td>\n",
              "      <td>2.0</td>\n",
              "      <td>1.0</td>\n",
              "      <td>1</td>\n",
              "    </tr>\n",
              "    <tr>\n",
              "      <th>1</th>\n",
              "      <td>2</td>\n",
              "      <td>5</td>\n",
              "      <td>155</td>\n",
              "      <td>45</td>\n",
              "      <td>64.0</td>\n",
              "      <td>1.2</td>\n",
              "      <td>0.5</td>\n",
              "      <td>1.0</td>\n",
              "      <td>1.0</td>\n",
              "      <td>114.0</td>\n",
              "      <td>76.0</td>\n",
              "      <td>89.0</td>\n",
              "      <td>14.0</td>\n",
              "      <td>1.0</td>\n",
              "      <td>0.5</td>\n",
              "      <td>15.0</td>\n",
              "      <td>8.0</td>\n",
              "      <td>13.0</td>\n",
              "      <td>1.0</td>\n",
              "      <td>2.0</td>\n",
              "      <td>0</td>\n",
              "    </tr>\n",
              "    <tr>\n",
              "      <th>2</th>\n",
              "      <td>1</td>\n",
              "      <td>13</td>\n",
              "      <td>160</td>\n",
              "      <td>70</td>\n",
              "      <td>87.0</td>\n",
              "      <td>0.9</td>\n",
              "      <td>0.8</td>\n",
              "      <td>1.0</td>\n",
              "      <td>1.0</td>\n",
              "      <td>109.0</td>\n",
              "      <td>73.0</td>\n",
              "      <td>100.0</td>\n",
              "      <td>16.0</td>\n",
              "      <td>1.0</td>\n",
              "      <td>1.0</td>\n",
              "      <td>30.0</td>\n",
              "      <td>21.0</td>\n",
              "      <td>17.0</td>\n",
              "      <td>1.0</td>\n",
              "      <td>2.0</td>\n",
              "      <td>0</td>\n",
              "    </tr>\n",
              "    <tr>\n",
              "      <th>3</th>\n",
              "      <td>1</td>\n",
              "      <td>12</td>\n",
              "      <td>170</td>\n",
              "      <td>60</td>\n",
              "      <td>85.0</td>\n",
              "      <td>0.4</td>\n",
              "      <td>1.2</td>\n",
              "      <td>1.0</td>\n",
              "      <td>1.0</td>\n",
              "      <td>131.0</td>\n",
              "      <td>85.0</td>\n",
              "      <td>85.0</td>\n",
              "      <td>14.0</td>\n",
              "      <td>1.0</td>\n",
              "      <td>0.7</td>\n",
              "      <td>17.0</td>\n",
              "      <td>19.0</td>\n",
              "      <td>32.0</td>\n",
              "      <td>2.0</td>\n",
              "      <td>2.0</td>\n",
              "      <td>0</td>\n",
              "    </tr>\n",
              "    <tr>\n",
              "      <th>4</th>\n",
              "      <td>1</td>\n",
              "      <td>10</td>\n",
              "      <td>170</td>\n",
              "      <td>70</td>\n",
              "      <td>81.0</td>\n",
              "      <td>0.7</td>\n",
              "      <td>0.7</td>\n",
              "      <td>1.0</td>\n",
              "      <td>1.0</td>\n",
              "      <td>112.0</td>\n",
              "      <td>66.0</td>\n",
              "      <td>91.0</td>\n",
              "      <td>15.0</td>\n",
              "      <td>1.0</td>\n",
              "      <td>0.9</td>\n",
              "      <td>19.0</td>\n",
              "      <td>24.0</td>\n",
              "      <td>19.0</td>\n",
              "      <td>2.0</td>\n",
              "      <td>1.0</td>\n",
              "      <td>0</td>\n",
              "    </tr>\n",
              "  </tbody>\n",
              "</table>\n",
              "</div>"
            ],
            "text/plain": [
              "   성별코드  연령대 코드(5세단위)  신장(5Cm단위)  체중(5Kg 단위)  ...  감마 지티피  흡연상태  음주여부  구강검진 수검여부\n",
              "0     1            13        165          65  ...    47.0   2.0   1.0          1\n",
              "1     2             5        155          45  ...    13.0   1.0   2.0          0\n",
              "2     1            13        160          70  ...    17.0   1.0   2.0          0\n",
              "3     1            12        170          60  ...    32.0   2.0   2.0          0\n",
              "4     1            10        170          70  ...    19.0   2.0   1.0          0\n",
              "\n",
              "[5 rows x 21 columns]"
            ]
          },
          "metadata": {
            "tags": []
          },
          "execution_count": 207
        }
      ]
    },
    {
      "cell_type": "code",
      "metadata": {
        "colab": {
          "base_uri": "https://localhost:8080/"
        },
        "id": "a0NUH1FRMzzb",
        "outputId": "6d037a28-990b-4d80-8021-8b040b06ef4e"
      },
      "source": [
        "train.isnull().sum()"
      ],
      "execution_count": null,
      "outputs": [
        {
          "output_type": "execute_result",
          "data": {
            "text/plain": [
              "성별코드                0\n",
              "연령대 코드(5세단위)        0\n",
              "신장(5Cm단위)           0\n",
              "체중(5Kg 단위)          0\n",
              "허리둘레              403\n",
              "시력(좌)             195\n",
              "시력(우)             188\n",
              "청력(좌)             181\n",
              "청력(우)             178\n",
              "수축기 혈압           5424\n",
              "이완기 혈압           5425\n",
              "식전혈당(공복혈당)       5523\n",
              "혈색소              5532\n",
              "요단백             10306\n",
              "혈청크레아티닌          5526\n",
              "(혈청지오티)AST       5522\n",
              "(혈청지오티)ALT       5523\n",
              "감마 지티피           5530\n",
              "흡연상태              166\n",
              "음주여부                0\n",
              "구강검진 수검여부           0\n",
              "dtype: int64"
            ]
          },
          "metadata": {
            "tags": []
          },
          "execution_count": 208
        }
      ]
    },
    {
      "cell_type": "code",
      "metadata": {
        "colab": {
          "base_uri": "https://localhost:8080/"
        },
        "id": "8eBKwp_ZNe9D",
        "outputId": "cb42bc11-1da0-46f4-e0a2-d6324641cd7c"
      },
      "source": [
        "train.groupby(train['음주여부']).size()"
      ],
      "execution_count": null,
      "outputs": [
        {
          "output_type": "execute_result",
          "data": {
            "text/plain": [
              "음주여부\n",
              "1.0    355082\n",
              "2.0    644918\n",
              "dtype: int64"
            ]
          },
          "metadata": {
            "tags": []
          },
          "execution_count": 209
        }
      ]
    },
    {
      "cell_type": "code",
      "metadata": {
        "id": "HSX9jHszMpyr"
      },
      "source": [
        "train = train.fillna(9999) # 안쓸거같은 임의의 값(9999)을 모든 결측치에 넣음. 결측치가 있으면 컬럼별 형변환이 안돼서 일단 형변환(float to int)하기 위함"
      ],
      "execution_count": null,
      "outputs": []
    },
    {
      "cell_type": "code",
      "metadata": {
        "colab": {
          "base_uri": "https://localhost:8080/"
        },
        "id": "j8WfDBw3M_-p",
        "outputId": "9785df11-7110-4888-8fbc-c8ef819120e1"
      },
      "source": [
        "train.isnull().sum()"
      ],
      "execution_count": null,
      "outputs": [
        {
          "output_type": "execute_result",
          "data": {
            "text/plain": [
              "성별코드            0\n",
              "연령대 코드(5세단위)    0\n",
              "신장(5Cm단위)       0\n",
              "체중(5Kg 단위)      0\n",
              "허리둘레            0\n",
              "시력(좌)           0\n",
              "시력(우)           0\n",
              "청력(좌)           0\n",
              "청력(우)           0\n",
              "수축기 혈압          0\n",
              "이완기 혈압          0\n",
              "식전혈당(공복혈당)      0\n",
              "혈색소             0\n",
              "요단백             0\n",
              "혈청크레아티닌         0\n",
              "(혈청지오티)AST      0\n",
              "(혈청지오티)ALT      0\n",
              "감마 지티피          0\n",
              "흡연상태            0\n",
              "음주여부            0\n",
              "구강검진 수검여부       0\n",
              "dtype: int64"
            ]
          },
          "metadata": {
            "tags": []
          },
          "execution_count": 211
        }
      ]
    },
    {
      "cell_type": "markdown",
      "metadata": {
        "id": "9WjsQ1_hNTsz"
      },
      "source": [
        "### 데이터 EDA (5차) : '연령대 코드' 특성으로 '나이' 특성 생성"
      ]
    },
    {
      "cell_type": "code",
      "metadata": {
        "colab": {
          "base_uri": "https://localhost:8080/"
        },
        "id": "i6nTO02YNZeP",
        "outputId": "5b9017d5-69b6-45b0-ddb6-1d5689fa443e"
      },
      "source": [
        "train.head()"
      ],
      "execution_count": null,
      "outputs": [
        {
          "output_type": "execute_result",
          "data": {
            "text/html": [
              "<div>\n",
              "<style scoped>\n",
              "    .dataframe tbody tr th:only-of-type {\n",
              "        vertical-align: middle;\n",
              "    }\n",
              "\n",
              "    .dataframe tbody tr th {\n",
              "        vertical-align: top;\n",
              "    }\n",
              "\n",
              "    .dataframe thead th {\n",
              "        text-align: right;\n",
              "    }\n",
              "</style>\n",
              "<table border=\"1\" class=\"dataframe\">\n",
              "  <thead>\n",
              "    <tr style=\"text-align: right;\">\n",
              "      <th></th>\n",
              "      <th>성별코드</th>\n",
              "      <th>연령대 코드(5세단위)</th>\n",
              "      <th>신장(5Cm단위)</th>\n",
              "      <th>체중(5Kg 단위)</th>\n",
              "      <th>허리둘레</th>\n",
              "      <th>시력(좌)</th>\n",
              "      <th>시력(우)</th>\n",
              "      <th>청력(좌)</th>\n",
              "      <th>청력(우)</th>\n",
              "      <th>수축기 혈압</th>\n",
              "      <th>이완기 혈압</th>\n",
              "      <th>식전혈당(공복혈당)</th>\n",
              "      <th>혈색소</th>\n",
              "      <th>요단백</th>\n",
              "      <th>혈청크레아티닌</th>\n",
              "      <th>(혈청지오티)AST</th>\n",
              "      <th>(혈청지오티)ALT</th>\n",
              "      <th>감마 지티피</th>\n",
              "      <th>흡연상태</th>\n",
              "      <th>음주여부</th>\n",
              "      <th>구강검진 수검여부</th>\n",
              "    </tr>\n",
              "  </thead>\n",
              "  <tbody>\n",
              "    <tr>\n",
              "      <th>0</th>\n",
              "      <td>1</td>\n",
              "      <td>13</td>\n",
              "      <td>165</td>\n",
              "      <td>65</td>\n",
              "      <td>90.0</td>\n",
              "      <td>1.5</td>\n",
              "      <td>1.2</td>\n",
              "      <td>1.0</td>\n",
              "      <td>1.0</td>\n",
              "      <td>112.0</td>\n",
              "      <td>70.0</td>\n",
              "      <td>93.0</td>\n",
              "      <td>16.0</td>\n",
              "      <td>1.0</td>\n",
              "      <td>1.0</td>\n",
              "      <td>18.0</td>\n",
              "      <td>32.0</td>\n",
              "      <td>47.0</td>\n",
              "      <td>2.0</td>\n",
              "      <td>1.0</td>\n",
              "      <td>1</td>\n",
              "    </tr>\n",
              "    <tr>\n",
              "      <th>1</th>\n",
              "      <td>2</td>\n",
              "      <td>5</td>\n",
              "      <td>155</td>\n",
              "      <td>45</td>\n",
              "      <td>64.0</td>\n",
              "      <td>1.2</td>\n",
              "      <td>0.5</td>\n",
              "      <td>1.0</td>\n",
              "      <td>1.0</td>\n",
              "      <td>114.0</td>\n",
              "      <td>76.0</td>\n",
              "      <td>89.0</td>\n",
              "      <td>14.0</td>\n",
              "      <td>1.0</td>\n",
              "      <td>0.5</td>\n",
              "      <td>15.0</td>\n",
              "      <td>8.0</td>\n",
              "      <td>13.0</td>\n",
              "      <td>1.0</td>\n",
              "      <td>2.0</td>\n",
              "      <td>0</td>\n",
              "    </tr>\n",
              "    <tr>\n",
              "      <th>2</th>\n",
              "      <td>1</td>\n",
              "      <td>13</td>\n",
              "      <td>160</td>\n",
              "      <td>70</td>\n",
              "      <td>87.0</td>\n",
              "      <td>0.9</td>\n",
              "      <td>0.8</td>\n",
              "      <td>1.0</td>\n",
              "      <td>1.0</td>\n",
              "      <td>109.0</td>\n",
              "      <td>73.0</td>\n",
              "      <td>100.0</td>\n",
              "      <td>16.0</td>\n",
              "      <td>1.0</td>\n",
              "      <td>1.0</td>\n",
              "      <td>30.0</td>\n",
              "      <td>21.0</td>\n",
              "      <td>17.0</td>\n",
              "      <td>1.0</td>\n",
              "      <td>2.0</td>\n",
              "      <td>0</td>\n",
              "    </tr>\n",
              "    <tr>\n",
              "      <th>3</th>\n",
              "      <td>1</td>\n",
              "      <td>12</td>\n",
              "      <td>170</td>\n",
              "      <td>60</td>\n",
              "      <td>85.0</td>\n",
              "      <td>0.4</td>\n",
              "      <td>1.2</td>\n",
              "      <td>1.0</td>\n",
              "      <td>1.0</td>\n",
              "      <td>131.0</td>\n",
              "      <td>85.0</td>\n",
              "      <td>85.0</td>\n",
              "      <td>14.0</td>\n",
              "      <td>1.0</td>\n",
              "      <td>0.7</td>\n",
              "      <td>17.0</td>\n",
              "      <td>19.0</td>\n",
              "      <td>32.0</td>\n",
              "      <td>2.0</td>\n",
              "      <td>2.0</td>\n",
              "      <td>0</td>\n",
              "    </tr>\n",
              "    <tr>\n",
              "      <th>4</th>\n",
              "      <td>1</td>\n",
              "      <td>10</td>\n",
              "      <td>170</td>\n",
              "      <td>70</td>\n",
              "      <td>81.0</td>\n",
              "      <td>0.7</td>\n",
              "      <td>0.7</td>\n",
              "      <td>1.0</td>\n",
              "      <td>1.0</td>\n",
              "      <td>112.0</td>\n",
              "      <td>66.0</td>\n",
              "      <td>91.0</td>\n",
              "      <td>15.0</td>\n",
              "      <td>1.0</td>\n",
              "      <td>0.9</td>\n",
              "      <td>19.0</td>\n",
              "      <td>24.0</td>\n",
              "      <td>19.0</td>\n",
              "      <td>2.0</td>\n",
              "      <td>1.0</td>\n",
              "      <td>0</td>\n",
              "    </tr>\n",
              "  </tbody>\n",
              "</table>\n",
              "</div>"
            ],
            "text/plain": [
              "   성별코드  연령대 코드(5세단위)  신장(5Cm단위)  체중(5Kg 단위)  ...  감마 지티피  흡연상태  음주여부  구강검진 수검여부\n",
              "0     1            13        165          65  ...    47.0   2.0   1.0          1\n",
              "1     2             5        155          45  ...    13.0   1.0   2.0          0\n",
              "2     1            13        160          70  ...    17.0   1.0   2.0          0\n",
              "3     1            12        170          60  ...    32.0   2.0   2.0          0\n",
              "4     1            10        170          70  ...    19.0   2.0   1.0          0\n",
              "\n",
              "[5 rows x 21 columns]"
            ]
          },
          "metadata": {
            "tags": []
          },
          "execution_count": 212
        }
      ]
    },
    {
      "cell_type": "code",
      "metadata": {
        "colab": {
          "base_uri": "https://localhost:8080/"
        },
        "id": "-7zoNy5ASZiU",
        "outputId": "90290765-fc7c-4da8-c111-132a77bd3d64"
      },
      "source": [
        "# '연령대 코드(5세단위)' 컬럼에 5를 곱해서 새로운 특성 만들기 \n",
        "def toAge(int):\n",
        "  a = int*5\n",
        "  if (a % 10) == 0 :\n",
        "    return a\n",
        "  else: \n",
        "    return a-5\n",
        "\n",
        "train['나이(5세단위)'] = train['연령대 코드(5세단위)'].apply(toAge)\n",
        "train = train.drop('연령대 코드(5세단위)', axis=1)\n",
        "\n",
        "# 컬럼 순서 바꾸기(원래 '연령대코드'가 있던 위치로 '나이'컬럼을 옮김)\n",
        "train = train[['성별코드', '나이(5세단위)', '신장(5Cm단위)', '체중(5Kg 단위)', '허리둘레', '시력(좌)', '시력(우)', '청력(좌)',\n",
        "       '청력(우)', '수축기 혈압', '이완기 혈압', '식전혈당(공복혈당)', '혈색소', '요단백', '혈청크레아티닌',\n",
        "       '(혈청지오티)AST', '(혈청지오티)ALT', '감마 지티피', '흡연상태', '음주여부', '구강검진 수검여부']]\n",
        "\n",
        "train.head()"
      ],
      "execution_count": null,
      "outputs": [
        {
          "output_type": "execute_result",
          "data": {
            "text/html": [
              "<div>\n",
              "<style scoped>\n",
              "    .dataframe tbody tr th:only-of-type {\n",
              "        vertical-align: middle;\n",
              "    }\n",
              "\n",
              "    .dataframe tbody tr th {\n",
              "        vertical-align: top;\n",
              "    }\n",
              "\n",
              "    .dataframe thead th {\n",
              "        text-align: right;\n",
              "    }\n",
              "</style>\n",
              "<table border=\"1\" class=\"dataframe\">\n",
              "  <thead>\n",
              "    <tr style=\"text-align: right;\">\n",
              "      <th></th>\n",
              "      <th>성별코드</th>\n",
              "      <th>나이(5세단위)</th>\n",
              "      <th>신장(5Cm단위)</th>\n",
              "      <th>체중(5Kg 단위)</th>\n",
              "      <th>허리둘레</th>\n",
              "      <th>시력(좌)</th>\n",
              "      <th>시력(우)</th>\n",
              "      <th>청력(좌)</th>\n",
              "      <th>청력(우)</th>\n",
              "      <th>수축기 혈압</th>\n",
              "      <th>이완기 혈압</th>\n",
              "      <th>식전혈당(공복혈당)</th>\n",
              "      <th>혈색소</th>\n",
              "      <th>요단백</th>\n",
              "      <th>혈청크레아티닌</th>\n",
              "      <th>(혈청지오티)AST</th>\n",
              "      <th>(혈청지오티)ALT</th>\n",
              "      <th>감마 지티피</th>\n",
              "      <th>흡연상태</th>\n",
              "      <th>음주여부</th>\n",
              "      <th>구강검진 수검여부</th>\n",
              "    </tr>\n",
              "  </thead>\n",
              "  <tbody>\n",
              "    <tr>\n",
              "      <th>0</th>\n",
              "      <td>1</td>\n",
              "      <td>60</td>\n",
              "      <td>165</td>\n",
              "      <td>65</td>\n",
              "      <td>90.0</td>\n",
              "      <td>1.5</td>\n",
              "      <td>1.2</td>\n",
              "      <td>1.0</td>\n",
              "      <td>1.0</td>\n",
              "      <td>112.0</td>\n",
              "      <td>70.0</td>\n",
              "      <td>93.0</td>\n",
              "      <td>16.0</td>\n",
              "      <td>1.0</td>\n",
              "      <td>1.0</td>\n",
              "      <td>18.0</td>\n",
              "      <td>32.0</td>\n",
              "      <td>47.0</td>\n",
              "      <td>2.0</td>\n",
              "      <td>1.0</td>\n",
              "      <td>1</td>\n",
              "    </tr>\n",
              "    <tr>\n",
              "      <th>1</th>\n",
              "      <td>2</td>\n",
              "      <td>20</td>\n",
              "      <td>155</td>\n",
              "      <td>45</td>\n",
              "      <td>64.0</td>\n",
              "      <td>1.2</td>\n",
              "      <td>0.5</td>\n",
              "      <td>1.0</td>\n",
              "      <td>1.0</td>\n",
              "      <td>114.0</td>\n",
              "      <td>76.0</td>\n",
              "      <td>89.0</td>\n",
              "      <td>14.0</td>\n",
              "      <td>1.0</td>\n",
              "      <td>0.5</td>\n",
              "      <td>15.0</td>\n",
              "      <td>8.0</td>\n",
              "      <td>13.0</td>\n",
              "      <td>1.0</td>\n",
              "      <td>2.0</td>\n",
              "      <td>0</td>\n",
              "    </tr>\n",
              "    <tr>\n",
              "      <th>2</th>\n",
              "      <td>1</td>\n",
              "      <td>60</td>\n",
              "      <td>160</td>\n",
              "      <td>70</td>\n",
              "      <td>87.0</td>\n",
              "      <td>0.9</td>\n",
              "      <td>0.8</td>\n",
              "      <td>1.0</td>\n",
              "      <td>1.0</td>\n",
              "      <td>109.0</td>\n",
              "      <td>73.0</td>\n",
              "      <td>100.0</td>\n",
              "      <td>16.0</td>\n",
              "      <td>1.0</td>\n",
              "      <td>1.0</td>\n",
              "      <td>30.0</td>\n",
              "      <td>21.0</td>\n",
              "      <td>17.0</td>\n",
              "      <td>1.0</td>\n",
              "      <td>2.0</td>\n",
              "      <td>0</td>\n",
              "    </tr>\n",
              "    <tr>\n",
              "      <th>3</th>\n",
              "      <td>1</td>\n",
              "      <td>60</td>\n",
              "      <td>170</td>\n",
              "      <td>60</td>\n",
              "      <td>85.0</td>\n",
              "      <td>0.4</td>\n",
              "      <td>1.2</td>\n",
              "      <td>1.0</td>\n",
              "      <td>1.0</td>\n",
              "      <td>131.0</td>\n",
              "      <td>85.0</td>\n",
              "      <td>85.0</td>\n",
              "      <td>14.0</td>\n",
              "      <td>1.0</td>\n",
              "      <td>0.7</td>\n",
              "      <td>17.0</td>\n",
              "      <td>19.0</td>\n",
              "      <td>32.0</td>\n",
              "      <td>2.0</td>\n",
              "      <td>2.0</td>\n",
              "      <td>0</td>\n",
              "    </tr>\n",
              "    <tr>\n",
              "      <th>4</th>\n",
              "      <td>1</td>\n",
              "      <td>50</td>\n",
              "      <td>170</td>\n",
              "      <td>70</td>\n",
              "      <td>81.0</td>\n",
              "      <td>0.7</td>\n",
              "      <td>0.7</td>\n",
              "      <td>1.0</td>\n",
              "      <td>1.0</td>\n",
              "      <td>112.0</td>\n",
              "      <td>66.0</td>\n",
              "      <td>91.0</td>\n",
              "      <td>15.0</td>\n",
              "      <td>1.0</td>\n",
              "      <td>0.9</td>\n",
              "      <td>19.0</td>\n",
              "      <td>24.0</td>\n",
              "      <td>19.0</td>\n",
              "      <td>2.0</td>\n",
              "      <td>1.0</td>\n",
              "      <td>0</td>\n",
              "    </tr>\n",
              "  </tbody>\n",
              "</table>\n",
              "</div>"
            ],
            "text/plain": [
              "   성별코드  나이(5세단위)  신장(5Cm단위)  체중(5Kg 단위)  ...  감마 지티피  흡연상태  음주여부  구강검진 수검여부\n",
              "0     1        60        165          65  ...    47.0   2.0   1.0          1\n",
              "1     2        20        155          45  ...    13.0   1.0   2.0          0\n",
              "2     1        60        160          70  ...    17.0   1.0   2.0          0\n",
              "3     1        60        170          60  ...    32.0   2.0   2.0          0\n",
              "4     1        50        170          70  ...    19.0   2.0   1.0          0\n",
              "\n",
              "[5 rows x 21 columns]"
            ]
          },
          "metadata": {
            "tags": []
          },
          "execution_count": 213
        }
      ]
    },
    {
      "cell_type": "markdown",
      "metadata": {
        "id": "0cAlOeYNUNXD"
      },
      "source": [
        "### 데이터 EDA (6차) : 모든 컬럼 float to int 형변환"
      ]
    },
    {
      "cell_type": "code",
      "metadata": {
        "colab": {
          "base_uri": "https://localhost:8080/"
        },
        "id": "Huaq03kPwsEv",
        "outputId": "3e07b96e-c846-45f0-cc38-f17136acc7d5"
      },
      "source": [
        "train.head(3)"
      ],
      "execution_count": null,
      "outputs": [
        {
          "output_type": "execute_result",
          "data": {
            "text/html": [
              "<div>\n",
              "<style scoped>\n",
              "    .dataframe tbody tr th:only-of-type {\n",
              "        vertical-align: middle;\n",
              "    }\n",
              "\n",
              "    .dataframe tbody tr th {\n",
              "        vertical-align: top;\n",
              "    }\n",
              "\n",
              "    .dataframe thead th {\n",
              "        text-align: right;\n",
              "    }\n",
              "</style>\n",
              "<table border=\"1\" class=\"dataframe\">\n",
              "  <thead>\n",
              "    <tr style=\"text-align: right;\">\n",
              "      <th></th>\n",
              "      <th>성별코드</th>\n",
              "      <th>나이(5세단위)</th>\n",
              "      <th>신장(5Cm단위)</th>\n",
              "      <th>체중(5Kg 단위)</th>\n",
              "      <th>허리둘레</th>\n",
              "      <th>시력(좌)</th>\n",
              "      <th>시력(우)</th>\n",
              "      <th>청력(좌)</th>\n",
              "      <th>청력(우)</th>\n",
              "      <th>수축기 혈압</th>\n",
              "      <th>이완기 혈압</th>\n",
              "      <th>식전혈당(공복혈당)</th>\n",
              "      <th>혈색소</th>\n",
              "      <th>요단백</th>\n",
              "      <th>혈청크레아티닌</th>\n",
              "      <th>(혈청지오티)AST</th>\n",
              "      <th>(혈청지오티)ALT</th>\n",
              "      <th>감마 지티피</th>\n",
              "      <th>흡연상태</th>\n",
              "      <th>음주여부</th>\n",
              "      <th>구강검진 수검여부</th>\n",
              "    </tr>\n",
              "  </thead>\n",
              "  <tbody>\n",
              "    <tr>\n",
              "      <th>0</th>\n",
              "      <td>1</td>\n",
              "      <td>60</td>\n",
              "      <td>165</td>\n",
              "      <td>65</td>\n",
              "      <td>90.0</td>\n",
              "      <td>1.5</td>\n",
              "      <td>1.2</td>\n",
              "      <td>1.0</td>\n",
              "      <td>1.0</td>\n",
              "      <td>112.0</td>\n",
              "      <td>70.0</td>\n",
              "      <td>93.0</td>\n",
              "      <td>16.0</td>\n",
              "      <td>1.0</td>\n",
              "      <td>1.0</td>\n",
              "      <td>18.0</td>\n",
              "      <td>32.0</td>\n",
              "      <td>47.0</td>\n",
              "      <td>2.0</td>\n",
              "      <td>1.0</td>\n",
              "      <td>1</td>\n",
              "    </tr>\n",
              "    <tr>\n",
              "      <th>1</th>\n",
              "      <td>2</td>\n",
              "      <td>20</td>\n",
              "      <td>155</td>\n",
              "      <td>45</td>\n",
              "      <td>64.0</td>\n",
              "      <td>1.2</td>\n",
              "      <td>0.5</td>\n",
              "      <td>1.0</td>\n",
              "      <td>1.0</td>\n",
              "      <td>114.0</td>\n",
              "      <td>76.0</td>\n",
              "      <td>89.0</td>\n",
              "      <td>14.0</td>\n",
              "      <td>1.0</td>\n",
              "      <td>0.5</td>\n",
              "      <td>15.0</td>\n",
              "      <td>8.0</td>\n",
              "      <td>13.0</td>\n",
              "      <td>1.0</td>\n",
              "      <td>2.0</td>\n",
              "      <td>0</td>\n",
              "    </tr>\n",
              "    <tr>\n",
              "      <th>2</th>\n",
              "      <td>1</td>\n",
              "      <td>60</td>\n",
              "      <td>160</td>\n",
              "      <td>70</td>\n",
              "      <td>87.0</td>\n",
              "      <td>0.9</td>\n",
              "      <td>0.8</td>\n",
              "      <td>1.0</td>\n",
              "      <td>1.0</td>\n",
              "      <td>109.0</td>\n",
              "      <td>73.0</td>\n",
              "      <td>100.0</td>\n",
              "      <td>16.0</td>\n",
              "      <td>1.0</td>\n",
              "      <td>1.0</td>\n",
              "      <td>30.0</td>\n",
              "      <td>21.0</td>\n",
              "      <td>17.0</td>\n",
              "      <td>1.0</td>\n",
              "      <td>2.0</td>\n",
              "      <td>0</td>\n",
              "    </tr>\n",
              "  </tbody>\n",
              "</table>\n",
              "</div>"
            ],
            "text/plain": [
              "   성별코드  나이(5세단위)  신장(5Cm단위)  체중(5Kg 단위)  ...  감마 지티피  흡연상태  음주여부  구강검진 수검여부\n",
              "0     1        60        165          65  ...    47.0   2.0   1.0          1\n",
              "1     2        20        155          45  ...    13.0   1.0   2.0          0\n",
              "2     1        60        160          70  ...    17.0   1.0   2.0          0\n",
              "\n",
              "[3 rows x 21 columns]"
            ]
          },
          "metadata": {
            "tags": []
          },
          "execution_count": 214
        }
      ]
    },
    {
      "cell_type": "code",
      "metadata": {
        "id": "HwCndb2KWgMi"
      },
      "source": [
        "cols = ['허리둘레', '청력(좌)', '청력(우)', '수축기 혈압', '이완기 혈압', '식전혈당(공복혈당)', '혈색소', '요단백', '(혈청지오티)AST', '(혈청지오티)ALT', '감마 지티피', '흡연상태', '음주여부']\n",
        "\n",
        "train[cols] = train[cols].astype(int)"
      ],
      "execution_count": null,
      "outputs": []
    },
    {
      "cell_type": "code",
      "metadata": {
        "colab": {
          "base_uri": "https://localhost:8080/"
        },
        "id": "p1_95BDyCr3w",
        "outputId": "6fc05f64-e041-4383-f8d0-7963dbed0778"
      },
      "source": [
        "train.head()"
      ],
      "execution_count": null,
      "outputs": [
        {
          "output_type": "execute_result",
          "data": {
            "text/html": [
              "<div>\n",
              "<style scoped>\n",
              "    .dataframe tbody tr th:only-of-type {\n",
              "        vertical-align: middle;\n",
              "    }\n",
              "\n",
              "    .dataframe tbody tr th {\n",
              "        vertical-align: top;\n",
              "    }\n",
              "\n",
              "    .dataframe thead th {\n",
              "        text-align: right;\n",
              "    }\n",
              "</style>\n",
              "<table border=\"1\" class=\"dataframe\">\n",
              "  <thead>\n",
              "    <tr style=\"text-align: right;\">\n",
              "      <th></th>\n",
              "      <th>성별코드</th>\n",
              "      <th>나이(5세단위)</th>\n",
              "      <th>신장(5Cm단위)</th>\n",
              "      <th>체중(5Kg 단위)</th>\n",
              "      <th>허리둘레</th>\n",
              "      <th>시력(좌)</th>\n",
              "      <th>시력(우)</th>\n",
              "      <th>청력(좌)</th>\n",
              "      <th>청력(우)</th>\n",
              "      <th>수축기 혈압</th>\n",
              "      <th>이완기 혈압</th>\n",
              "      <th>식전혈당(공복혈당)</th>\n",
              "      <th>혈색소</th>\n",
              "      <th>요단백</th>\n",
              "      <th>혈청크레아티닌</th>\n",
              "      <th>(혈청지오티)AST</th>\n",
              "      <th>(혈청지오티)ALT</th>\n",
              "      <th>감마 지티피</th>\n",
              "      <th>흡연상태</th>\n",
              "      <th>음주여부</th>\n",
              "      <th>구강검진 수검여부</th>\n",
              "    </tr>\n",
              "  </thead>\n",
              "  <tbody>\n",
              "    <tr>\n",
              "      <th>0</th>\n",
              "      <td>1</td>\n",
              "      <td>60</td>\n",
              "      <td>165</td>\n",
              "      <td>65</td>\n",
              "      <td>90</td>\n",
              "      <td>1.5</td>\n",
              "      <td>1.2</td>\n",
              "      <td>1</td>\n",
              "      <td>1</td>\n",
              "      <td>112</td>\n",
              "      <td>70</td>\n",
              "      <td>93</td>\n",
              "      <td>16</td>\n",
              "      <td>1</td>\n",
              "      <td>1.0</td>\n",
              "      <td>18</td>\n",
              "      <td>32</td>\n",
              "      <td>47</td>\n",
              "      <td>2</td>\n",
              "      <td>1</td>\n",
              "      <td>1</td>\n",
              "    </tr>\n",
              "    <tr>\n",
              "      <th>1</th>\n",
              "      <td>2</td>\n",
              "      <td>20</td>\n",
              "      <td>155</td>\n",
              "      <td>45</td>\n",
              "      <td>64</td>\n",
              "      <td>1.2</td>\n",
              "      <td>0.5</td>\n",
              "      <td>1</td>\n",
              "      <td>1</td>\n",
              "      <td>114</td>\n",
              "      <td>76</td>\n",
              "      <td>89</td>\n",
              "      <td>14</td>\n",
              "      <td>1</td>\n",
              "      <td>0.5</td>\n",
              "      <td>15</td>\n",
              "      <td>8</td>\n",
              "      <td>13</td>\n",
              "      <td>1</td>\n",
              "      <td>2</td>\n",
              "      <td>0</td>\n",
              "    </tr>\n",
              "    <tr>\n",
              "      <th>2</th>\n",
              "      <td>1</td>\n",
              "      <td>60</td>\n",
              "      <td>160</td>\n",
              "      <td>70</td>\n",
              "      <td>87</td>\n",
              "      <td>0.9</td>\n",
              "      <td>0.8</td>\n",
              "      <td>1</td>\n",
              "      <td>1</td>\n",
              "      <td>109</td>\n",
              "      <td>73</td>\n",
              "      <td>100</td>\n",
              "      <td>16</td>\n",
              "      <td>1</td>\n",
              "      <td>1.0</td>\n",
              "      <td>30</td>\n",
              "      <td>21</td>\n",
              "      <td>17</td>\n",
              "      <td>1</td>\n",
              "      <td>2</td>\n",
              "      <td>0</td>\n",
              "    </tr>\n",
              "    <tr>\n",
              "      <th>3</th>\n",
              "      <td>1</td>\n",
              "      <td>60</td>\n",
              "      <td>170</td>\n",
              "      <td>60</td>\n",
              "      <td>85</td>\n",
              "      <td>0.4</td>\n",
              "      <td>1.2</td>\n",
              "      <td>1</td>\n",
              "      <td>1</td>\n",
              "      <td>131</td>\n",
              "      <td>85</td>\n",
              "      <td>85</td>\n",
              "      <td>14</td>\n",
              "      <td>1</td>\n",
              "      <td>0.7</td>\n",
              "      <td>17</td>\n",
              "      <td>19</td>\n",
              "      <td>32</td>\n",
              "      <td>2</td>\n",
              "      <td>2</td>\n",
              "      <td>0</td>\n",
              "    </tr>\n",
              "    <tr>\n",
              "      <th>4</th>\n",
              "      <td>1</td>\n",
              "      <td>50</td>\n",
              "      <td>170</td>\n",
              "      <td>70</td>\n",
              "      <td>81</td>\n",
              "      <td>0.7</td>\n",
              "      <td>0.7</td>\n",
              "      <td>1</td>\n",
              "      <td>1</td>\n",
              "      <td>112</td>\n",
              "      <td>66</td>\n",
              "      <td>91</td>\n",
              "      <td>15</td>\n",
              "      <td>1</td>\n",
              "      <td>0.9</td>\n",
              "      <td>19</td>\n",
              "      <td>24</td>\n",
              "      <td>19</td>\n",
              "      <td>2</td>\n",
              "      <td>1</td>\n",
              "      <td>0</td>\n",
              "    </tr>\n",
              "  </tbody>\n",
              "</table>\n",
              "</div>"
            ],
            "text/plain": [
              "   성별코드  나이(5세단위)  신장(5Cm단위)  체중(5Kg 단위)  ...  감마 지티피  흡연상태  음주여부  구강검진 수검여부\n",
              "0     1        60        165          65  ...      47     2     1          1\n",
              "1     2        20        155          45  ...      13     1     2          0\n",
              "2     1        60        160          70  ...      17     1     2          0\n",
              "3     1        60        170          60  ...      32     2     2          0\n",
              "4     1        50        170          70  ...      19     2     1          0\n",
              "\n",
              "[5 rows x 21 columns]"
            ]
          },
          "metadata": {
            "tags": []
          },
          "execution_count": 216
        }
      ]
    },
    {
      "cell_type": "code",
      "metadata": {
        "colab": {
          "base_uri": "https://localhost:8080/"
        },
        "id": "RTAw2YpmNAyG",
        "outputId": "c7f2b237-4131-490f-edc6-d81d75dc49d9"
      },
      "source": [
        "train.info()"
      ],
      "execution_count": null,
      "outputs": [
        {
          "output_type": "stream",
          "text": [
            "<class 'pandas.core.frame.DataFrame'>\n",
            "RangeIndex: 1000000 entries, 0 to 999999\n",
            "Data columns (total 21 columns):\n",
            " #   Column      Non-Null Count    Dtype  \n",
            "---  ------      --------------    -----  \n",
            " 0   성별코드        1000000 non-null  int64  \n",
            " 1   나이(5세단위)    1000000 non-null  int64  \n",
            " 2   신장(5Cm단위)   1000000 non-null  int64  \n",
            " 3   체중(5Kg 단위)  1000000 non-null  int64  \n",
            " 4   허리둘레        1000000 non-null  int64  \n",
            " 5   시력(좌)       1000000 non-null  float64\n",
            " 6   시력(우)       1000000 non-null  float64\n",
            " 7   청력(좌)       1000000 non-null  int64  \n",
            " 8   청력(우)       1000000 non-null  int64  \n",
            " 9   수축기 혈압      1000000 non-null  int64  \n",
            " 10  이완기 혈압      1000000 non-null  int64  \n",
            " 11  식전혈당(공복혈당)  1000000 non-null  int64  \n",
            " 12  혈색소         1000000 non-null  int64  \n",
            " 13  요단백         1000000 non-null  int64  \n",
            " 14  혈청크레아티닌     1000000 non-null  float64\n",
            " 15  (혈청지오티)AST  1000000 non-null  int64  \n",
            " 16  (혈청지오티)ALT  1000000 non-null  int64  \n",
            " 17  감마 지티피      1000000 non-null  int64  \n",
            " 18  흡연상태        1000000 non-null  int64  \n",
            " 19  음주여부        1000000 non-null  int64  \n",
            " 20  구강검진 수검여부   1000000 non-null  int64  \n",
            "dtypes: float64(3), int64(18)\n",
            "memory usage: 160.2 MB\n"
          ],
          "name": "stdout"
        }
      ]
    },
    {
      "cell_type": "markdown",
      "metadata": {
        "id": "OzkMeK5OY9Bf"
      },
      "source": [
        "### 데이터 EDA (7차) : 컬럼명 전체 수정 후, 결측치(9999) 있는 샘플 삭제"
      ]
    },
    {
      "cell_type": "code",
      "metadata": {
        "colab": {
          "base_uri": "https://localhost:8080/"
        },
        "id": "qSpjhHHvZKG_",
        "outputId": "c50e60c3-2d43-4231-997a-97783c246cbf"
      },
      "source": [
        "# 10만개의 샘플\n",
        "train.shape"
      ],
      "execution_count": null,
      "outputs": [
        {
          "output_type": "execute_result",
          "data": {
            "text/plain": [
              "(1000000, 21)"
            ]
          },
          "metadata": {
            "tags": []
          },
          "execution_count": 218
        }
      ]
    },
    {
      "cell_type": "code",
      "metadata": {
        "colab": {
          "base_uri": "https://localhost:8080/"
        },
        "id": "x6x0C2ehZmYn",
        "outputId": "0c57af03-d522-4bdd-dd74-466b1ab179f4"
      },
      "source": [
        "train.head(2)"
      ],
      "execution_count": null,
      "outputs": [
        {
          "output_type": "execute_result",
          "data": {
            "text/html": [
              "<div>\n",
              "<style scoped>\n",
              "    .dataframe tbody tr th:only-of-type {\n",
              "        vertical-align: middle;\n",
              "    }\n",
              "\n",
              "    .dataframe tbody tr th {\n",
              "        vertical-align: top;\n",
              "    }\n",
              "\n",
              "    .dataframe thead th {\n",
              "        text-align: right;\n",
              "    }\n",
              "</style>\n",
              "<table border=\"1\" class=\"dataframe\">\n",
              "  <thead>\n",
              "    <tr style=\"text-align: right;\">\n",
              "      <th></th>\n",
              "      <th>성별코드</th>\n",
              "      <th>나이(5세단위)</th>\n",
              "      <th>신장(5Cm단위)</th>\n",
              "      <th>체중(5Kg 단위)</th>\n",
              "      <th>허리둘레</th>\n",
              "      <th>시력(좌)</th>\n",
              "      <th>시력(우)</th>\n",
              "      <th>청력(좌)</th>\n",
              "      <th>청력(우)</th>\n",
              "      <th>수축기 혈압</th>\n",
              "      <th>이완기 혈압</th>\n",
              "      <th>식전혈당(공복혈당)</th>\n",
              "      <th>혈색소</th>\n",
              "      <th>요단백</th>\n",
              "      <th>혈청크레아티닌</th>\n",
              "      <th>(혈청지오티)AST</th>\n",
              "      <th>(혈청지오티)ALT</th>\n",
              "      <th>감마 지티피</th>\n",
              "      <th>흡연상태</th>\n",
              "      <th>음주여부</th>\n",
              "      <th>구강검진 수검여부</th>\n",
              "    </tr>\n",
              "  </thead>\n",
              "  <tbody>\n",
              "    <tr>\n",
              "      <th>0</th>\n",
              "      <td>1</td>\n",
              "      <td>60</td>\n",
              "      <td>165</td>\n",
              "      <td>65</td>\n",
              "      <td>90</td>\n",
              "      <td>1.5</td>\n",
              "      <td>1.2</td>\n",
              "      <td>1</td>\n",
              "      <td>1</td>\n",
              "      <td>112</td>\n",
              "      <td>70</td>\n",
              "      <td>93</td>\n",
              "      <td>16</td>\n",
              "      <td>1</td>\n",
              "      <td>1.0</td>\n",
              "      <td>18</td>\n",
              "      <td>32</td>\n",
              "      <td>47</td>\n",
              "      <td>2</td>\n",
              "      <td>1</td>\n",
              "      <td>1</td>\n",
              "    </tr>\n",
              "    <tr>\n",
              "      <th>1</th>\n",
              "      <td>2</td>\n",
              "      <td>20</td>\n",
              "      <td>155</td>\n",
              "      <td>45</td>\n",
              "      <td>64</td>\n",
              "      <td>1.2</td>\n",
              "      <td>0.5</td>\n",
              "      <td>1</td>\n",
              "      <td>1</td>\n",
              "      <td>114</td>\n",
              "      <td>76</td>\n",
              "      <td>89</td>\n",
              "      <td>14</td>\n",
              "      <td>1</td>\n",
              "      <td>0.5</td>\n",
              "      <td>15</td>\n",
              "      <td>8</td>\n",
              "      <td>13</td>\n",
              "      <td>1</td>\n",
              "      <td>2</td>\n",
              "      <td>0</td>\n",
              "    </tr>\n",
              "  </tbody>\n",
              "</table>\n",
              "</div>"
            ],
            "text/plain": [
              "   성별코드  나이(5세단위)  신장(5Cm단위)  체중(5Kg 단위)  ...  감마 지티피  흡연상태  음주여부  구강검진 수검여부\n",
              "0     1        60        165          65  ...      47     2     1          1\n",
              "1     2        20        155          45  ...      13     1     2          0\n",
              "\n",
              "[2 rows x 21 columns]"
            ]
          },
          "metadata": {
            "tags": []
          },
          "execution_count": 219
        }
      ]
    },
    {
      "cell_type": "code",
      "metadata": {
        "colab": {
          "base_uri": "https://localhost:8080/"
        },
        "id": "ZLRCFd7hZcob",
        "outputId": "9024592c-6e14-4778-a111-05f3f293ee16"
      },
      "source": [
        "train = train[train.혈청크레아티닌 != 9999] # '혈청크레아티닌' 컬럼이 9999가 아닌것만 살림\n",
        "train.shape"
      ],
      "execution_count": null,
      "outputs": [
        {
          "output_type": "execute_result",
          "data": {
            "text/plain": [
              "(994474, 21)"
            ]
          },
          "metadata": {
            "tags": []
          },
          "execution_count": 220
        }
      ]
    },
    {
      "cell_type": "code",
      "metadata": {
        "colab": {
          "base_uri": "https://localhost:8080/"
        },
        "id": "AqmVgaVji_Ah",
        "outputId": "7889cc50-7e3c-40e1-b1d4-1eb303e63a81"
      },
      "source": [
        "train.columns"
      ],
      "execution_count": null,
      "outputs": [
        {
          "output_type": "execute_result",
          "data": {
            "text/plain": [
              "Index(['성별코드', '나이(5세단위)', '신장(5Cm단위)', '체중(5Kg 단위)', '허리둘레', '시력(좌)', '시력(우)',\n",
              "       '청력(좌)', '청력(우)', '수축기 혈압', '이완기 혈압', '식전혈당(공복혈당)', '혈색소', '요단백',\n",
              "       '혈청크레아티닌', '(혈청지오티)AST', '(혈청지오티)ALT', '감마 지티피', '흡연상태', '음주여부',\n",
              "       '구강검진 수검여부'],\n",
              "      dtype='object')"
            ]
          },
          "metadata": {
            "tags": []
          },
          "execution_count": 221
        }
      ]
    },
    {
      "cell_type": "code",
      "metadata": {
        "id": "s9J-e-8peB2W"
      },
      "source": [
        "# 띄어쓰기 되어있는 컬럼명 수정\n",
        "train['성별'] = train['성별코드']\n",
        "train['나이'] = train['나이(5세단위)']\n",
        "train['키'] = train['신장(5Cm단위)']\n",
        "train['체중'] = train['체중(5Kg 단위)']\n",
        "train['시력L'] = train['시력(좌)']\n",
        "train['시력R'] = train['시력(우)']\n",
        "train['청력L'] = train['청력(좌)']\n",
        "train['청력R'] = train['청력(우)']\n",
        "train['수축기혈압'] = train['수축기 혈압']\n",
        "train['이완기혈압'] = train['이완기 혈압']\n",
        "train['공복혈당'] = train['식전혈당(공복혈당)']\n",
        "train['AST'] = train['(혈청지오티)AST']\n",
        "train['ALT'] = train['(혈청지오티)ALT']\n",
        "train['감마GTP'] = train['감마 지티피']\n",
        "# '구강검진 수검여부'는 예측에 불필요할것같아 삭제"
      ],
      "execution_count": null,
      "outputs": []
    },
    {
      "cell_type": "code",
      "metadata": {
        "id": "BMGmaW5-hcra"
      },
      "source": [
        "# 기존 컬럼 삭제\n",
        "train = train.drop(['성별코드', '나이(5세단위)', '신장(5Cm단위)', '체중(5Kg 단위)', '시력(좌)', '시력(우)', '청력(좌)', '청력(우)', '수축기 혈압', '이완기 혈압', '식전혈당(공복혈당)', '(혈청지오티)AST', '(혈청지오티)ALT', '감마 지티피','구강검진 수검여부'], axis=1)"
      ],
      "execution_count": null,
      "outputs": []
    },
    {
      "cell_type": "code",
      "metadata": {
        "colab": {
          "base_uri": "https://localhost:8080/"
        },
        "id": "4KcNhyVrfuBu",
        "outputId": "0059f433-8e30-49b0-fcb6-0e40aed0982f"
      },
      "source": [
        "# 새로 만든 컬럼 확인\n",
        "train.columns"
      ],
      "execution_count": null,
      "outputs": [
        {
          "output_type": "execute_result",
          "data": {
            "text/plain": [
              "Index(['허리둘레', '혈색소', '요단백', '혈청크레아티닌', '흡연상태', '음주여부', '성별', '나이', '키', '체중',\n",
              "       '시력L', '시력R', '청력L', '청력R', '수축기혈압', '이완기혈압', '공복혈당', 'AST', 'ALT',\n",
              "       '감마GTP'],\n",
              "      dtype='object')"
            ]
          },
          "metadata": {
            "tags": []
          },
          "execution_count": 224
        }
      ]
    },
    {
      "cell_type": "code",
      "metadata": {
        "colab": {
          "base_uri": "https://localhost:8080/"
        },
        "id": "HS6-Z70-iN2V",
        "outputId": "9e5dd21b-aa3b-4452-cd17-49c928573901"
      },
      "source": [
        "# 특성 20개 확인\n",
        "train.shape"
      ],
      "execution_count": null,
      "outputs": [
        {
          "output_type": "execute_result",
          "data": {
            "text/plain": [
              "(994474, 20)"
            ]
          },
          "metadata": {
            "tags": []
          },
          "execution_count": 225
        }
      ]
    },
    {
      "cell_type": "markdown",
      "metadata": {
        "id": "qUf0SdUndb2f"
      },
      "source": [
        "> **결측치 제거할 컬럼 목록 (15개)**\n",
        ">\n",
        "> ['허리둘레', '시력L', '시력R', '청력L', '청력R', '수축기혈압', '이완기혈압', '공복혈당', '혈색소', '요단백', 'AST', 'ALT', '감마GTP', '흡연상태', '음주여부']\n"
      ]
    },
    {
      "cell_type": "code",
      "metadata": {
        "id": "dd4pYPZyZclq"
      },
      "source": [
        "# 모든 컬럼에서 9999는 모델 예측에 이상치가 되므로 9999가 있는 모든 샘플을 삭제한다\n",
        "# (샘플이 충분하다고 판단하기때문)\n",
        "\n",
        "train = train[train.허리둘레 != 9999]\n",
        "train = train[train.시력L!= 9999]\n",
        "train = train[train.시력R != 9999]\n",
        "train = train[train.청력L != 9999]\n",
        "train = train[train.청력R != 9999]\n",
        "train = train[train.수축기혈압 != 9999]\n",
        "train = train[train.이완기혈압 != 9999]\n",
        "train = train[train.공복혈당 != 9999]\n",
        "train = train[train.혈색소 != 9999]\n",
        "train = train[train.요단백 != 9999]\n",
        "train = train[train.AST != 9999]\n",
        "train = train[train.ALT != 9999]\n",
        "train = train[train.감마GTP != 9999]\n",
        "train = train[train.흡연상태 != 9999]\n",
        "train = train[train.음주여부 != 9999]\n"
      ],
      "execution_count": null,
      "outputs": []
    },
    {
      "cell_type": "code",
      "metadata": {
        "colab": {
          "base_uri": "https://localhost:8080/"
        },
        "id": "MUX3d2SDaKvE",
        "outputId": "8905271f-6dc4-4ce2-e293-873d9ebc5cca"
      },
      "source": [
        "# 결측치(9999) 있는 샘플을 모두 제거한 데이터셋 크기\n",
        "train.shape"
      ],
      "execution_count": null,
      "outputs": [
        {
          "output_type": "execute_result",
          "data": {
            "text/plain": [
              "(988807, 20)"
            ]
          },
          "metadata": {
            "tags": []
          },
          "execution_count": 227
        }
      ]
    },
    {
      "cell_type": "code",
      "metadata": {
        "colab": {
          "base_uri": "https://localhost:8080/"
        },
        "id": "Dip7RPxJ7mWg",
        "outputId": "e2a9cf7a-3a20-409f-bc42-e3da8e0a7832"
      },
      "source": [
        "# 원래 컬럼 순서대로 재정렬해줌\n",
        "train = train[['성별', '나이', '키', '체중', '허리둘레', '시력L', '시력R', '청력L',\n",
        "       '청력R', '수축기혈압', '이완기혈압', '공복혈당', '혈색소', '요단백', '혈청크레아티닌',\n",
        "       'AST', 'ALT', '감마GTP', '흡연상태', '음주여부']]\n",
        "\n",
        "train.head()"
      ],
      "execution_count": null,
      "outputs": [
        {
          "output_type": "execute_result",
          "data": {
            "text/html": [
              "<div>\n",
              "<style scoped>\n",
              "    .dataframe tbody tr th:only-of-type {\n",
              "        vertical-align: middle;\n",
              "    }\n",
              "\n",
              "    .dataframe tbody tr th {\n",
              "        vertical-align: top;\n",
              "    }\n",
              "\n",
              "    .dataframe thead th {\n",
              "        text-align: right;\n",
              "    }\n",
              "</style>\n",
              "<table border=\"1\" class=\"dataframe\">\n",
              "  <thead>\n",
              "    <tr style=\"text-align: right;\">\n",
              "      <th></th>\n",
              "      <th>성별</th>\n",
              "      <th>나이</th>\n",
              "      <th>키</th>\n",
              "      <th>체중</th>\n",
              "      <th>허리둘레</th>\n",
              "      <th>시력L</th>\n",
              "      <th>시력R</th>\n",
              "      <th>청력L</th>\n",
              "      <th>청력R</th>\n",
              "      <th>수축기혈압</th>\n",
              "      <th>이완기혈압</th>\n",
              "      <th>공복혈당</th>\n",
              "      <th>혈색소</th>\n",
              "      <th>요단백</th>\n",
              "      <th>혈청크레아티닌</th>\n",
              "      <th>AST</th>\n",
              "      <th>ALT</th>\n",
              "      <th>감마GTP</th>\n",
              "      <th>흡연상태</th>\n",
              "      <th>음주여부</th>\n",
              "    </tr>\n",
              "  </thead>\n",
              "  <tbody>\n",
              "    <tr>\n",
              "      <th>0</th>\n",
              "      <td>1</td>\n",
              "      <td>60</td>\n",
              "      <td>165</td>\n",
              "      <td>65</td>\n",
              "      <td>90</td>\n",
              "      <td>1.5</td>\n",
              "      <td>1.2</td>\n",
              "      <td>1</td>\n",
              "      <td>1</td>\n",
              "      <td>112</td>\n",
              "      <td>70</td>\n",
              "      <td>93</td>\n",
              "      <td>16</td>\n",
              "      <td>1</td>\n",
              "      <td>1.0</td>\n",
              "      <td>18</td>\n",
              "      <td>32</td>\n",
              "      <td>47</td>\n",
              "      <td>2</td>\n",
              "      <td>1</td>\n",
              "    </tr>\n",
              "    <tr>\n",
              "      <th>1</th>\n",
              "      <td>2</td>\n",
              "      <td>20</td>\n",
              "      <td>155</td>\n",
              "      <td>45</td>\n",
              "      <td>64</td>\n",
              "      <td>1.2</td>\n",
              "      <td>0.5</td>\n",
              "      <td>1</td>\n",
              "      <td>1</td>\n",
              "      <td>114</td>\n",
              "      <td>76</td>\n",
              "      <td>89</td>\n",
              "      <td>14</td>\n",
              "      <td>1</td>\n",
              "      <td>0.5</td>\n",
              "      <td>15</td>\n",
              "      <td>8</td>\n",
              "      <td>13</td>\n",
              "      <td>1</td>\n",
              "      <td>2</td>\n",
              "    </tr>\n",
              "    <tr>\n",
              "      <th>2</th>\n",
              "      <td>1</td>\n",
              "      <td>60</td>\n",
              "      <td>160</td>\n",
              "      <td>70</td>\n",
              "      <td>87</td>\n",
              "      <td>0.9</td>\n",
              "      <td>0.8</td>\n",
              "      <td>1</td>\n",
              "      <td>1</td>\n",
              "      <td>109</td>\n",
              "      <td>73</td>\n",
              "      <td>100</td>\n",
              "      <td>16</td>\n",
              "      <td>1</td>\n",
              "      <td>1.0</td>\n",
              "      <td>30</td>\n",
              "      <td>21</td>\n",
              "      <td>17</td>\n",
              "      <td>1</td>\n",
              "      <td>2</td>\n",
              "    </tr>\n",
              "    <tr>\n",
              "      <th>3</th>\n",
              "      <td>1</td>\n",
              "      <td>60</td>\n",
              "      <td>170</td>\n",
              "      <td>60</td>\n",
              "      <td>85</td>\n",
              "      <td>0.4</td>\n",
              "      <td>1.2</td>\n",
              "      <td>1</td>\n",
              "      <td>1</td>\n",
              "      <td>131</td>\n",
              "      <td>85</td>\n",
              "      <td>85</td>\n",
              "      <td>14</td>\n",
              "      <td>1</td>\n",
              "      <td>0.7</td>\n",
              "      <td>17</td>\n",
              "      <td>19</td>\n",
              "      <td>32</td>\n",
              "      <td>2</td>\n",
              "      <td>2</td>\n",
              "    </tr>\n",
              "    <tr>\n",
              "      <th>4</th>\n",
              "      <td>1</td>\n",
              "      <td>50</td>\n",
              "      <td>170</td>\n",
              "      <td>70</td>\n",
              "      <td>81</td>\n",
              "      <td>0.7</td>\n",
              "      <td>0.7</td>\n",
              "      <td>1</td>\n",
              "      <td>1</td>\n",
              "      <td>112</td>\n",
              "      <td>66</td>\n",
              "      <td>91</td>\n",
              "      <td>15</td>\n",
              "      <td>1</td>\n",
              "      <td>0.9</td>\n",
              "      <td>19</td>\n",
              "      <td>24</td>\n",
              "      <td>19</td>\n",
              "      <td>2</td>\n",
              "      <td>1</td>\n",
              "    </tr>\n",
              "  </tbody>\n",
              "</table>\n",
              "</div>"
            ],
            "text/plain": [
              "   성별  나이    키  체중  허리둘레  시력L  시력R  ...  요단백  혈청크레아티닌  AST  ALT  감마GTP  흡연상태  음주여부\n",
              "0   1  60  165  65    90  1.5  1.2  ...    1      1.0   18   32     47     2     1\n",
              "1   2  20  155  45    64  1.2  0.5  ...    1      0.5   15    8     13     1     2\n",
              "2   1  60  160  70    87  0.9  0.8  ...    1      1.0   30   21     17     1     2\n",
              "3   1  60  170  60    85  0.4  1.2  ...    1      0.7   17   19     32     2     2\n",
              "4   1  50  170  70    81  0.7  0.7  ...    1      0.9   19   24     19     2     1\n",
              "\n",
              "[5 rows x 20 columns]"
            ]
          },
          "metadata": {
            "tags": []
          },
          "execution_count": 228
        }
      ]
    },
    {
      "cell_type": "markdown",
      "metadata": {
        "id": "SvmpmpFHIV81"
      },
      "source": [
        "### 데이터 EDA (8차) : 혈청크레아티닌 정상/비정상 범주의 타겟클래스 생성(타겟 특성 생성) "
      ]
    },
    {
      "cell_type": "code",
      "metadata": {
        "colab": {
          "base_uri": "https://localhost:8080/"
        },
        "id": "YHnM037nkf2J",
        "outputId": "0d8741e5-3f28-4b3b-c552-7ea0c7e11289"
      },
      "source": [
        "train.head(2) #(988807, 21)"
      ],
      "execution_count": null,
      "outputs": [
        {
          "output_type": "execute_result",
          "data": {
            "text/html": [
              "<div>\n",
              "<style scoped>\n",
              "    .dataframe tbody tr th:only-of-type {\n",
              "        vertical-align: middle;\n",
              "    }\n",
              "\n",
              "    .dataframe tbody tr th {\n",
              "        vertical-align: top;\n",
              "    }\n",
              "\n",
              "    .dataframe thead th {\n",
              "        text-align: right;\n",
              "    }\n",
              "</style>\n",
              "<table border=\"1\" class=\"dataframe\">\n",
              "  <thead>\n",
              "    <tr style=\"text-align: right;\">\n",
              "      <th></th>\n",
              "      <th>성별</th>\n",
              "      <th>나이</th>\n",
              "      <th>키</th>\n",
              "      <th>체중</th>\n",
              "      <th>허리둘레</th>\n",
              "      <th>시력L</th>\n",
              "      <th>시력R</th>\n",
              "      <th>청력L</th>\n",
              "      <th>청력R</th>\n",
              "      <th>수축기혈압</th>\n",
              "      <th>이완기혈압</th>\n",
              "      <th>공복혈당</th>\n",
              "      <th>혈색소</th>\n",
              "      <th>요단백</th>\n",
              "      <th>혈청크레아티닌</th>\n",
              "      <th>AST</th>\n",
              "      <th>ALT</th>\n",
              "      <th>감마GTP</th>\n",
              "      <th>흡연상태</th>\n",
              "      <th>음주여부</th>\n",
              "    </tr>\n",
              "  </thead>\n",
              "  <tbody>\n",
              "    <tr>\n",
              "      <th>0</th>\n",
              "      <td>1</td>\n",
              "      <td>60</td>\n",
              "      <td>165</td>\n",
              "      <td>65</td>\n",
              "      <td>90</td>\n",
              "      <td>1.5</td>\n",
              "      <td>1.2</td>\n",
              "      <td>1</td>\n",
              "      <td>1</td>\n",
              "      <td>112</td>\n",
              "      <td>70</td>\n",
              "      <td>93</td>\n",
              "      <td>16</td>\n",
              "      <td>1</td>\n",
              "      <td>1.0</td>\n",
              "      <td>18</td>\n",
              "      <td>32</td>\n",
              "      <td>47</td>\n",
              "      <td>2</td>\n",
              "      <td>1</td>\n",
              "    </tr>\n",
              "    <tr>\n",
              "      <th>1</th>\n",
              "      <td>2</td>\n",
              "      <td>20</td>\n",
              "      <td>155</td>\n",
              "      <td>45</td>\n",
              "      <td>64</td>\n",
              "      <td>1.2</td>\n",
              "      <td>0.5</td>\n",
              "      <td>1</td>\n",
              "      <td>1</td>\n",
              "      <td>114</td>\n",
              "      <td>76</td>\n",
              "      <td>89</td>\n",
              "      <td>14</td>\n",
              "      <td>1</td>\n",
              "      <td>0.5</td>\n",
              "      <td>15</td>\n",
              "      <td>8</td>\n",
              "      <td>13</td>\n",
              "      <td>1</td>\n",
              "      <td>2</td>\n",
              "    </tr>\n",
              "  </tbody>\n",
              "</table>\n",
              "</div>"
            ],
            "text/plain": [
              "   성별  나이    키  체중  허리둘레  시력L  시력R  ...  요단백  혈청크레아티닌  AST  ALT  감마GTP  흡연상태  음주여부\n",
              "0   1  60  165  65    90  1.5  1.2  ...    1      1.0   18   32     47     2     1\n",
              "1   2  20  155  45    64  1.2  0.5  ...    1      0.5   15    8     13     1     2\n",
              "\n",
              "[2 rows x 20 columns]"
            ]
          },
          "metadata": {
            "tags": []
          },
          "execution_count": 229
        }
      ]
    },
    {
      "cell_type": "code",
      "metadata": {
        "id": "LK09aJ8X52zI"
      },
      "source": [
        "tar = '혈청크레아티닌'"
      ],
      "execution_count": null,
      "outputs": []
    },
    {
      "cell_type": "code",
      "metadata": {
        "colab": {
          "base_uri": "https://localhost:8080/"
        },
        "id": "xRghe7wQXnx3",
        "outputId": "453e9e5e-75e8-44e2-9654-40d0dfad414d"
      },
      "source": [
        "train[tar].value_counts(sort=False)"
      ],
      "execution_count": null,
      "outputs": [
        {
          "output_type": "execute_result",
          "data": {
            "text/plain": [
              "0.50     41507\n",
              "2.00       266\n",
              "0.11         1\n",
              "9.20         4\n",
              "5.30        10\n",
              "         ...  \n",
              "5.10         6\n",
              "5.40        15\n",
              "13.00        3\n",
              "13.10        3\n",
              "13.40        2\n",
              "Name: 혈청크레아티닌, Length: 182, dtype: int64"
            ]
          },
          "metadata": {
            "tags": []
          },
          "execution_count": 231
        }
      ]
    },
    {
      "cell_type": "markdown",
      "metadata": {
        "id": "D8-1vk7IK4kT"
      },
      "source": [
        "- 타겟으로 정할 혈청크레아티닌 값이 **0.5~13.4사이의 다양한 클래스로 분류**되는 것을 확인할 수 있다\n",
        "- 이 때 혈청크레아티닌 **1.4 이하(정상수치)를 0으로 라벨링**하고, **1.4 초과(신부전증)를 1로 라벨링**하여 **타겟 특성**을 만든다"
      ]
    },
    {
      "cell_type": "code",
      "metadata": {
        "id": "7ivnzWa6MImA"
      },
      "source": [
        "def classific(flo) : \n",
        "  if flo <= 1.4:\n",
        "    return 0\n",
        "  else:\n",
        "    return 1"
      ],
      "execution_count": null,
      "outputs": []
    },
    {
      "cell_type": "code",
      "metadata": {
        "id": "b20z3s0uMIof"
      },
      "source": [
        "train['cr'] = train['혈청크레아티닌'].apply(classific)"
      ],
      "execution_count": null,
      "outputs": []
    },
    {
      "cell_type": "code",
      "metadata": {
        "colab": {
          "base_uri": "https://localhost:8080/"
        },
        "id": "8VYyc3MuMIis",
        "outputId": "2a9bcfa8-eb91-4dce-8511-d473eeab5af9"
      },
      "source": [
        "# 맨밑줄(인덱스:82)를 보면 '혈청크레아티닌'==4.4, 'cr'==1로 제대로 라벨링된것 확인\n",
        "train.head(82)"
      ],
      "execution_count": null,
      "outputs": [
        {
          "output_type": "execute_result",
          "data": {
            "text/html": [
              "<div>\n",
              "<style scoped>\n",
              "    .dataframe tbody tr th:only-of-type {\n",
              "        vertical-align: middle;\n",
              "    }\n",
              "\n",
              "    .dataframe tbody tr th {\n",
              "        vertical-align: top;\n",
              "    }\n",
              "\n",
              "    .dataframe thead th {\n",
              "        text-align: right;\n",
              "    }\n",
              "</style>\n",
              "<table border=\"1\" class=\"dataframe\">\n",
              "  <thead>\n",
              "    <tr style=\"text-align: right;\">\n",
              "      <th></th>\n",
              "      <th>성별</th>\n",
              "      <th>나이</th>\n",
              "      <th>키</th>\n",
              "      <th>체중</th>\n",
              "      <th>허리둘레</th>\n",
              "      <th>시력L</th>\n",
              "      <th>시력R</th>\n",
              "      <th>청력L</th>\n",
              "      <th>청력R</th>\n",
              "      <th>수축기혈압</th>\n",
              "      <th>이완기혈압</th>\n",
              "      <th>공복혈당</th>\n",
              "      <th>혈색소</th>\n",
              "      <th>요단백</th>\n",
              "      <th>혈청크레아티닌</th>\n",
              "      <th>AST</th>\n",
              "      <th>ALT</th>\n",
              "      <th>감마GTP</th>\n",
              "      <th>흡연상태</th>\n",
              "      <th>음주여부</th>\n",
              "      <th>cr</th>\n",
              "    </tr>\n",
              "  </thead>\n",
              "  <tbody>\n",
              "    <tr>\n",
              "      <th>0</th>\n",
              "      <td>1</td>\n",
              "      <td>60</td>\n",
              "      <td>165</td>\n",
              "      <td>65</td>\n",
              "      <td>90</td>\n",
              "      <td>1.5</td>\n",
              "      <td>1.2</td>\n",
              "      <td>1</td>\n",
              "      <td>1</td>\n",
              "      <td>112</td>\n",
              "      <td>70</td>\n",
              "      <td>93</td>\n",
              "      <td>16</td>\n",
              "      <td>1</td>\n",
              "      <td>1.0</td>\n",
              "      <td>18</td>\n",
              "      <td>32</td>\n",
              "      <td>47</td>\n",
              "      <td>2</td>\n",
              "      <td>1</td>\n",
              "      <td>0</td>\n",
              "    </tr>\n",
              "    <tr>\n",
              "      <th>1</th>\n",
              "      <td>2</td>\n",
              "      <td>20</td>\n",
              "      <td>155</td>\n",
              "      <td>45</td>\n",
              "      <td>64</td>\n",
              "      <td>1.2</td>\n",
              "      <td>0.5</td>\n",
              "      <td>1</td>\n",
              "      <td>1</td>\n",
              "      <td>114</td>\n",
              "      <td>76</td>\n",
              "      <td>89</td>\n",
              "      <td>14</td>\n",
              "      <td>1</td>\n",
              "      <td>0.5</td>\n",
              "      <td>15</td>\n",
              "      <td>8</td>\n",
              "      <td>13</td>\n",
              "      <td>1</td>\n",
              "      <td>2</td>\n",
              "      <td>0</td>\n",
              "    </tr>\n",
              "    <tr>\n",
              "      <th>2</th>\n",
              "      <td>1</td>\n",
              "      <td>60</td>\n",
              "      <td>160</td>\n",
              "      <td>70</td>\n",
              "      <td>87</td>\n",
              "      <td>0.9</td>\n",
              "      <td>0.8</td>\n",
              "      <td>1</td>\n",
              "      <td>1</td>\n",
              "      <td>109</td>\n",
              "      <td>73</td>\n",
              "      <td>100</td>\n",
              "      <td>16</td>\n",
              "      <td>1</td>\n",
              "      <td>1.0</td>\n",
              "      <td>30</td>\n",
              "      <td>21</td>\n",
              "      <td>17</td>\n",
              "      <td>1</td>\n",
              "      <td>2</td>\n",
              "      <td>0</td>\n",
              "    </tr>\n",
              "    <tr>\n",
              "      <th>3</th>\n",
              "      <td>1</td>\n",
              "      <td>60</td>\n",
              "      <td>170</td>\n",
              "      <td>60</td>\n",
              "      <td>85</td>\n",
              "      <td>0.4</td>\n",
              "      <td>1.2</td>\n",
              "      <td>1</td>\n",
              "      <td>1</td>\n",
              "      <td>131</td>\n",
              "      <td>85</td>\n",
              "      <td>85</td>\n",
              "      <td>14</td>\n",
              "      <td>1</td>\n",
              "      <td>0.7</td>\n",
              "      <td>17</td>\n",
              "      <td>19</td>\n",
              "      <td>32</td>\n",
              "      <td>2</td>\n",
              "      <td>2</td>\n",
              "      <td>0</td>\n",
              "    </tr>\n",
              "    <tr>\n",
              "      <th>4</th>\n",
              "      <td>1</td>\n",
              "      <td>50</td>\n",
              "      <td>170</td>\n",
              "      <td>70</td>\n",
              "      <td>81</td>\n",
              "      <td>0.7</td>\n",
              "      <td>0.7</td>\n",
              "      <td>1</td>\n",
              "      <td>1</td>\n",
              "      <td>112</td>\n",
              "      <td>66</td>\n",
              "      <td>91</td>\n",
              "      <td>15</td>\n",
              "      <td>1</td>\n",
              "      <td>0.9</td>\n",
              "      <td>19</td>\n",
              "      <td>24</td>\n",
              "      <td>19</td>\n",
              "      <td>2</td>\n",
              "      <td>1</td>\n",
              "      <td>0</td>\n",
              "    </tr>\n",
              "    <tr>\n",
              "      <th>...</th>\n",
              "      <td>...</td>\n",
              "      <td>...</td>\n",
              "      <td>...</td>\n",
              "      <td>...</td>\n",
              "      <td>...</td>\n",
              "      <td>...</td>\n",
              "      <td>...</td>\n",
              "      <td>...</td>\n",
              "      <td>...</td>\n",
              "      <td>...</td>\n",
              "      <td>...</td>\n",
              "      <td>...</td>\n",
              "      <td>...</td>\n",
              "      <td>...</td>\n",
              "      <td>...</td>\n",
              "      <td>...</td>\n",
              "      <td>...</td>\n",
              "      <td>...</td>\n",
              "      <td>...</td>\n",
              "      <td>...</td>\n",
              "      <td>...</td>\n",
              "    </tr>\n",
              "    <tr>\n",
              "      <th>79</th>\n",
              "      <td>2</td>\n",
              "      <td>40</td>\n",
              "      <td>150</td>\n",
              "      <td>50</td>\n",
              "      <td>74</td>\n",
              "      <td>1.2</td>\n",
              "      <td>1.2</td>\n",
              "      <td>1</td>\n",
              "      <td>1</td>\n",
              "      <td>110</td>\n",
              "      <td>70</td>\n",
              "      <td>97</td>\n",
              "      <td>13</td>\n",
              "      <td>1</td>\n",
              "      <td>1.0</td>\n",
              "      <td>16</td>\n",
              "      <td>12</td>\n",
              "      <td>13</td>\n",
              "      <td>1</td>\n",
              "      <td>1</td>\n",
              "      <td>0</td>\n",
              "    </tr>\n",
              "    <tr>\n",
              "      <th>80</th>\n",
              "      <td>2</td>\n",
              "      <td>20</td>\n",
              "      <td>155</td>\n",
              "      <td>40</td>\n",
              "      <td>60</td>\n",
              "      <td>1.2</td>\n",
              "      <td>1.0</td>\n",
              "      <td>1</td>\n",
              "      <td>1</td>\n",
              "      <td>90</td>\n",
              "      <td>60</td>\n",
              "      <td>84</td>\n",
              "      <td>14</td>\n",
              "      <td>1</td>\n",
              "      <td>0.7</td>\n",
              "      <td>20</td>\n",
              "      <td>11</td>\n",
              "      <td>10</td>\n",
              "      <td>1</td>\n",
              "      <td>2</td>\n",
              "      <td>0</td>\n",
              "    </tr>\n",
              "    <tr>\n",
              "      <th>81</th>\n",
              "      <td>1</td>\n",
              "      <td>70</td>\n",
              "      <td>165</td>\n",
              "      <td>65</td>\n",
              "      <td>81</td>\n",
              "      <td>1.5</td>\n",
              "      <td>1.2</td>\n",
              "      <td>1</td>\n",
              "      <td>1</td>\n",
              "      <td>160</td>\n",
              "      <td>100</td>\n",
              "      <td>89</td>\n",
              "      <td>14</td>\n",
              "      <td>1</td>\n",
              "      <td>1.0</td>\n",
              "      <td>31</td>\n",
              "      <td>28</td>\n",
              "      <td>28</td>\n",
              "      <td>2</td>\n",
              "      <td>2</td>\n",
              "      <td>0</td>\n",
              "    </tr>\n",
              "    <tr>\n",
              "      <th>82</th>\n",
              "      <td>1</td>\n",
              "      <td>70</td>\n",
              "      <td>160</td>\n",
              "      <td>60</td>\n",
              "      <td>83</td>\n",
              "      <td>1.0</td>\n",
              "      <td>1.2</td>\n",
              "      <td>1</td>\n",
              "      <td>1</td>\n",
              "      <td>130</td>\n",
              "      <td>70</td>\n",
              "      <td>118</td>\n",
              "      <td>14</td>\n",
              "      <td>1</td>\n",
              "      <td>1.0</td>\n",
              "      <td>27</td>\n",
              "      <td>17</td>\n",
              "      <td>58</td>\n",
              "      <td>2</td>\n",
              "      <td>2</td>\n",
              "      <td>0</td>\n",
              "    </tr>\n",
              "    <tr>\n",
              "      <th>83</th>\n",
              "      <td>1</td>\n",
              "      <td>70</td>\n",
              "      <td>165</td>\n",
              "      <td>65</td>\n",
              "      <td>88</td>\n",
              "      <td>0.9</td>\n",
              "      <td>0.4</td>\n",
              "      <td>1</td>\n",
              "      <td>1</td>\n",
              "      <td>140</td>\n",
              "      <td>70</td>\n",
              "      <td>104</td>\n",
              "      <td>11</td>\n",
              "      <td>1</td>\n",
              "      <td>4.4</td>\n",
              "      <td>16</td>\n",
              "      <td>14</td>\n",
              "      <td>16</td>\n",
              "      <td>2</td>\n",
              "      <td>2</td>\n",
              "      <td>1</td>\n",
              "    </tr>\n",
              "  </tbody>\n",
              "</table>\n",
              "<p>82 rows × 21 columns</p>\n",
              "</div>"
            ],
            "text/plain": [
              "    성별  나이    키  체중  허리둘레  시력L  시력R  ...  혈청크레아티닌  AST  ALT  감마GTP  흡연상태  음주여부  cr\n",
              "0    1  60  165  65    90  1.5  1.2  ...      1.0   18   32     47     2     1   0\n",
              "1    2  20  155  45    64  1.2  0.5  ...      0.5   15    8     13     1     2   0\n",
              "2    1  60  160  70    87  0.9  0.8  ...      1.0   30   21     17     1     2   0\n",
              "3    1  60  170  60    85  0.4  1.2  ...      0.7   17   19     32     2     2   0\n",
              "4    1  50  170  70    81  0.7  0.7  ...      0.9   19   24     19     2     1   0\n",
              "..  ..  ..  ...  ..   ...  ...  ...  ...      ...  ...  ...    ...   ...   ...  ..\n",
              "79   2  40  150  50    74  1.2  1.2  ...      1.0   16   12     13     1     1   0\n",
              "80   2  20  155  40    60  1.2  1.0  ...      0.7   20   11     10     1     2   0\n",
              "81   1  70  165  65    81  1.5  1.2  ...      1.0   31   28     28     2     2   0\n",
              "82   1  70  160  60    83  1.0  1.2  ...      1.0   27   17     58     2     2   0\n",
              "83   1  70  165  65    88  0.9  0.4  ...      4.4   16   14     16     2     2   1\n",
              "\n",
              "[82 rows x 21 columns]"
            ]
          },
          "metadata": {
            "tags": []
          },
          "execution_count": 234
        }
      ]
    },
    {
      "cell_type": "code",
      "metadata": {
        "colab": {
          "base_uri": "https://localhost:8080/"
        },
        "id": "kwyobJqgNdig",
        "outputId": "f5121849-39b4-4788-d506-8db525691238"
      },
      "source": [
        "# '혈청크레아티닌' 컬럼은 분리해서 저장해놓고, train에서는 drop (leakage문제 때문)\n",
        "a = pd.DataFrame([])\n",
        "a['혈청크레아티닌'] = train['혈청크레아티닌']\n",
        "a"
      ],
      "execution_count": null,
      "outputs": [
        {
          "output_type": "execute_result",
          "data": {
            "text/html": [
              "<div>\n",
              "<style scoped>\n",
              "    .dataframe tbody tr th:only-of-type {\n",
              "        vertical-align: middle;\n",
              "    }\n",
              "\n",
              "    .dataframe tbody tr th {\n",
              "        vertical-align: top;\n",
              "    }\n",
              "\n",
              "    .dataframe thead th {\n",
              "        text-align: right;\n",
              "    }\n",
              "</style>\n",
              "<table border=\"1\" class=\"dataframe\">\n",
              "  <thead>\n",
              "    <tr style=\"text-align: right;\">\n",
              "      <th></th>\n",
              "      <th>혈청크레아티닌</th>\n",
              "    </tr>\n",
              "  </thead>\n",
              "  <tbody>\n",
              "    <tr>\n",
              "      <th>0</th>\n",
              "      <td>1.0</td>\n",
              "    </tr>\n",
              "    <tr>\n",
              "      <th>1</th>\n",
              "      <td>0.5</td>\n",
              "    </tr>\n",
              "    <tr>\n",
              "      <th>2</th>\n",
              "      <td>1.0</td>\n",
              "    </tr>\n",
              "    <tr>\n",
              "      <th>3</th>\n",
              "      <td>0.7</td>\n",
              "    </tr>\n",
              "    <tr>\n",
              "      <th>4</th>\n",
              "      <td>0.9</td>\n",
              "    </tr>\n",
              "    <tr>\n",
              "      <th>...</th>\n",
              "      <td>...</td>\n",
              "    </tr>\n",
              "    <tr>\n",
              "      <th>999995</th>\n",
              "      <td>1.3</td>\n",
              "    </tr>\n",
              "    <tr>\n",
              "      <th>999996</th>\n",
              "      <td>0.9</td>\n",
              "    </tr>\n",
              "    <tr>\n",
              "      <th>999997</th>\n",
              "      <td>1.0</td>\n",
              "    </tr>\n",
              "    <tr>\n",
              "      <th>999998</th>\n",
              "      <td>1.0</td>\n",
              "    </tr>\n",
              "    <tr>\n",
              "      <th>999999</th>\n",
              "      <td>0.7</td>\n",
              "    </tr>\n",
              "  </tbody>\n",
              "</table>\n",
              "<p>988807 rows × 1 columns</p>\n",
              "</div>"
            ],
            "text/plain": [
              "        혈청크레아티닌\n",
              "0           1.0\n",
              "1           0.5\n",
              "2           1.0\n",
              "3           0.7\n",
              "4           0.9\n",
              "...         ...\n",
              "999995      1.3\n",
              "999996      0.9\n",
              "999997      1.0\n",
              "999998      1.0\n",
              "999999      0.7\n",
              "\n",
              "[988807 rows x 1 columns]"
            ]
          },
          "metadata": {
            "tags": []
          },
          "execution_count": 235
        }
      ]
    },
    {
      "cell_type": "code",
      "metadata": {
        "colab": {
          "base_uri": "https://localhost:8080/"
        },
        "id": "gcFexOsvN2kZ",
        "outputId": "b3fe90bf-38b5-4994-ed75-d76732977608"
      },
      "source": [
        "train = train.drop('혈청크레아티닌', axis=1)\n",
        "train.head(2)"
      ],
      "execution_count": null,
      "outputs": [
        {
          "output_type": "execute_result",
          "data": {
            "text/html": [
              "<div>\n",
              "<style scoped>\n",
              "    .dataframe tbody tr th:only-of-type {\n",
              "        vertical-align: middle;\n",
              "    }\n",
              "\n",
              "    .dataframe tbody tr th {\n",
              "        vertical-align: top;\n",
              "    }\n",
              "\n",
              "    .dataframe thead th {\n",
              "        text-align: right;\n",
              "    }\n",
              "</style>\n",
              "<table border=\"1\" class=\"dataframe\">\n",
              "  <thead>\n",
              "    <tr style=\"text-align: right;\">\n",
              "      <th></th>\n",
              "      <th>성별</th>\n",
              "      <th>나이</th>\n",
              "      <th>키</th>\n",
              "      <th>체중</th>\n",
              "      <th>허리둘레</th>\n",
              "      <th>시력L</th>\n",
              "      <th>시력R</th>\n",
              "      <th>청력L</th>\n",
              "      <th>청력R</th>\n",
              "      <th>수축기혈압</th>\n",
              "      <th>이완기혈압</th>\n",
              "      <th>공복혈당</th>\n",
              "      <th>혈색소</th>\n",
              "      <th>요단백</th>\n",
              "      <th>AST</th>\n",
              "      <th>ALT</th>\n",
              "      <th>감마GTP</th>\n",
              "      <th>흡연상태</th>\n",
              "      <th>음주여부</th>\n",
              "      <th>cr</th>\n",
              "    </tr>\n",
              "  </thead>\n",
              "  <tbody>\n",
              "    <tr>\n",
              "      <th>0</th>\n",
              "      <td>1</td>\n",
              "      <td>60</td>\n",
              "      <td>165</td>\n",
              "      <td>65</td>\n",
              "      <td>90</td>\n",
              "      <td>1.5</td>\n",
              "      <td>1.2</td>\n",
              "      <td>1</td>\n",
              "      <td>1</td>\n",
              "      <td>112</td>\n",
              "      <td>70</td>\n",
              "      <td>93</td>\n",
              "      <td>16</td>\n",
              "      <td>1</td>\n",
              "      <td>18</td>\n",
              "      <td>32</td>\n",
              "      <td>47</td>\n",
              "      <td>2</td>\n",
              "      <td>1</td>\n",
              "      <td>0</td>\n",
              "    </tr>\n",
              "    <tr>\n",
              "      <th>1</th>\n",
              "      <td>2</td>\n",
              "      <td>20</td>\n",
              "      <td>155</td>\n",
              "      <td>45</td>\n",
              "      <td>64</td>\n",
              "      <td>1.2</td>\n",
              "      <td>0.5</td>\n",
              "      <td>1</td>\n",
              "      <td>1</td>\n",
              "      <td>114</td>\n",
              "      <td>76</td>\n",
              "      <td>89</td>\n",
              "      <td>14</td>\n",
              "      <td>1</td>\n",
              "      <td>15</td>\n",
              "      <td>8</td>\n",
              "      <td>13</td>\n",
              "      <td>1</td>\n",
              "      <td>2</td>\n",
              "      <td>0</td>\n",
              "    </tr>\n",
              "  </tbody>\n",
              "</table>\n",
              "</div>"
            ],
            "text/plain": [
              "   성별  나이    키  체중  허리둘레  시력L  시력R  ...  요단백  AST  ALT  감마GTP  흡연상태  음주여부  cr\n",
              "0   1  60  165  65    90  1.5  1.2  ...    1   18   32     47     2     1   0\n",
              "1   2  20  155  45    64  1.2  0.5  ...    1   15    8     13     1     2   0\n",
              "\n",
              "[2 rows x 20 columns]"
            ]
          },
          "metadata": {
            "tags": []
          },
          "execution_count": 236
        }
      ]
    },
    {
      "cell_type": "markdown",
      "metadata": {
        "id": "vsUQkJrCr3Ep"
      },
      "source": [
        "# 4. 시각화/모델링(스토리텔링)"
      ]
    },
    {
      "cell_type": "markdown",
      "metadata": {
        "id": "wDoPFU9qRvcC"
      },
      "source": [
        "### 타겟/피처 설정, 데이터셋 분리(train,val,test)"
      ]
    },
    {
      "cell_type": "code",
      "metadata": {
        "id": "bb4TzjtaLGhj"
      },
      "source": [
        "# 타겟 설정\n",
        "target = 'cr'"
      ],
      "execution_count": null,
      "outputs": []
    },
    {
      "cell_type": "code",
      "metadata": {
        "colab": {
          "base_uri": "https://localhost:8080/"
        },
        "id": "tjyf1WYxLGFT",
        "outputId": "665c92e6-3df5-4e05-ec80-28aac1d754cb"
      },
      "source": [
        "# 타겟 비율 확인 (베이스라인)\n",
        "train[target].value_counts(normalize=True)"
      ],
      "execution_count": null,
      "outputs": [
        {
          "output_type": "execute_result",
          "data": {
            "text/plain": [
              "0    0.992389\n",
              "1    0.007611\n",
              "Name: cr, dtype: float64"
            ]
          },
          "metadata": {
            "tags": []
          },
          "execution_count": 238
        }
      ]
    },
    {
      "cell_type": "markdown",
      "metadata": {
        "id": "xT6MN8jhPXgZ"
      },
      "source": [
        "- 클래스가 대략 99.2 : 0.007으로 매우 불균형(imbalanced)한 분류 문제임"
      ]
    },
    {
      "cell_type": "code",
      "metadata": {
        "colab": {
          "base_uri": "https://localhost:8080/"
        },
        "id": "dn-kTGAAPm5c",
        "outputId": "29cef38f-b9d4-4e8f-dac1-ef28d6c9077a"
      },
      "source": [
        "# 훈련/검증/테스트 데이터 분할 (train, val, test)\n",
        "from sklearn.model_selection import train_test_split\n",
        "\n",
        "train, test = train_test_split(train, train_size=0.60, test_size=0.40, stratify=train[target], random_state=4) # stratify옵션 == train정답값\n",
        "train, val = train_test_split(train, train_size=0.70, test_size=0.30, stratify=train[target], random_state=4)\n",
        "\n",
        "train.shape, val.shape, test.shape"
      ],
      "execution_count": null,
      "outputs": [
        {
          "output_type": "execute_result",
          "data": {
            "text/plain": [
              "((415298, 20), (177986, 20), (395523, 20))"
            ]
          },
          "metadata": {
            "tags": []
          },
          "execution_count": 239
        }
      ]
    },
    {
      "cell_type": "code",
      "metadata": {
        "colab": {
          "base_uri": "https://localhost:8080/"
        },
        "id": "llqi-pR2Pmne",
        "outputId": "5728331e-1852-4cd9-c043-f57e45d521a7"
      },
      "source": [
        "# feature 선택\n",
        "features = train.drop(columns=[target]).columns\n",
        "features # 20개 맞음"
      ],
      "execution_count": null,
      "outputs": [
        {
          "output_type": "execute_result",
          "data": {
            "text/plain": [
              "Index(['성별', '나이', '키', '체중', '허리둘레', '시력L', '시력R', '청력L', '청력R', '수축기혈압',\n",
              "       '이완기혈압', '공복혈당', '혈색소', '요단백', 'AST', 'ALT', '감마GTP', '흡연상태', '음주여부'],\n",
              "      dtype='object')"
            ]
          },
          "metadata": {
            "tags": []
          },
          "execution_count": 240
        }
      ]
    },
    {
      "cell_type": "code",
      "metadata": {
        "id": "giZJfqnkRkr3"
      },
      "source": [
        "\n",
        "# 훈련/검증/테스트 데이터를 특성과 타겟으로 분리\n",
        "X_train = train[features]\n",
        "y_train = train[target]\n",
        "X_val = val[features]\n",
        "y_val = val[target]\n",
        "X_test = test[features]"
      ],
      "execution_count": null,
      "outputs": []
    },
    {
      "cell_type": "markdown",
      "metadata": {
        "id": "tWkspYzPR5fq"
      },
      "source": [
        "### 모델 개발 (pipe)"
      ]
    },
    {
      "cell_type": "code",
      "metadata": {
        "colab": {
          "base_uri": "https://localhost:8080/"
        },
        "id": "hvl8qhFVUpCu",
        "outputId": "c185217c-649b-4971-b16e-a122cb014482"
      },
      "source": [
        "! pip install --upgrade category_encoders"
      ],
      "execution_count": null,
      "outputs": [
        {
          "output_type": "stream",
          "text": [
            "Requirement already up-to-date: category_encoders in /usr/local/lib/python3.7/dist-packages (2.2.2)\n",
            "Requirement already satisfied, skipping upgrade: scikit-learn>=0.20.0 in /usr/local/lib/python3.7/dist-packages (from category_encoders) (0.22.2.post1)\n",
            "Requirement already satisfied, skipping upgrade: pandas>=0.21.1 in /usr/local/lib/python3.7/dist-packages (from category_encoders) (1.1.5)\n",
            "Requirement already satisfied, skipping upgrade: patsy>=0.5.1 in /usr/local/lib/python3.7/dist-packages (from category_encoders) (0.5.1)\n",
            "Requirement already satisfied, skipping upgrade: numpy>=1.14.0 in /usr/local/lib/python3.7/dist-packages (from category_encoders) (1.19.5)\n",
            "Requirement already satisfied, skipping upgrade: statsmodels>=0.9.0 in /usr/local/lib/python3.7/dist-packages (from category_encoders) (0.10.2)\n",
            "Requirement already satisfied, skipping upgrade: scipy>=1.0.0 in /usr/local/lib/python3.7/dist-packages (from category_encoders) (1.4.1)\n",
            "Requirement already satisfied, skipping upgrade: joblib>=0.11 in /usr/local/lib/python3.7/dist-packages (from scikit-learn>=0.20.0->category_encoders) (1.0.1)\n",
            "Requirement already satisfied, skipping upgrade: python-dateutil>=2.7.3 in /usr/local/lib/python3.7/dist-packages (from pandas>=0.21.1->category_encoders) (2.8.1)\n",
            "Requirement already satisfied, skipping upgrade: pytz>=2017.2 in /usr/local/lib/python3.7/dist-packages (from pandas>=0.21.1->category_encoders) (2018.9)\n",
            "Requirement already satisfied, skipping upgrade: six in /usr/local/lib/python3.7/dist-packages (from patsy>=0.5.1->category_encoders) (1.15.0)\n"
          ],
          "name": "stdout"
        }
      ]
    },
    {
      "cell_type": "code",
      "metadata": {
        "id": "qdmFBKQoRhQs"
      },
      "source": [
        "from sklearn.pipeline import make_pipeline\n",
        "from category_encoders import OrdinalEncoder # 순서형 인코더 사용\n",
        "from category_encoders import OneHotEncoder\n",
        "from sklearn.impute import SimpleImputer\n",
        "from sklearn.ensemble import RandomForestClassifier # 분류문제 > 트리기반 앙상블 모델인 랜덤포레스트분류모델 사용\n",
        "from sklearn.ensemble import RandomForestRegressor\n",
        "from sklearn.model_selection import cross_val_score\n",
        "from sklearn.model_selection import RandomizedSearchCV\n",
        "from scipy.stats import randint, uniform\n",
        "from sklearn.metrics import accuracy_score\n",
        "from sklearn.metrics import recall_score # FN을 최소화하도록 평가지표로 recall을 사용(recall이 클수록 정확한 모델)"
      ],
      "execution_count": null,
      "outputs": []
    },
    {
      "cell_type": "code",
      "metadata": {
        "colab": {
          "base_uri": "https://localhost:8080/"
        },
        "id": "_d9J0IavRhO9",
        "outputId": "f8213a6b-6796-4070-e012-28114d177a6c"
      },
      "source": [
        "%%time \n",
        "\n",
        "pipe = make_pipeline(\n",
        "    OneHotEncoder(), \n",
        "    SimpleImputer(strategy='median'),  \n",
        "    RandomForestRegressor(n_jobs=-1, n_estimators=800, criterion='mse')\n",
        ")\n",
        "#pipe.fit(X_train, y_train)\n",
        "#print('훈련 정확도: ', pipe.score(X_train, y_train))\n",
        "#print('검증 정확도: ', pipe.score(X_val, y_val))\n",
        "\n",
        "# 3-fold 교차검증 수행\n",
        "k = 2\n",
        "\n",
        "scores = cross_val_score(pipe, X_train, y_train, cv=k, \n",
        "                         scoring='neg_mean_absolute_error')\n",
        "\n",
        "print(f'MAE for {k} folds:', -scores)"
      ],
      "execution_count": null,
      "outputs": [
        {
          "output_type": "stream",
          "text": [
            "/usr/local/lib/python3.7/dist-packages/category_encoders/utils.py:21: FutureWarning:\n",
            "\n",
            "is_categorical is deprecated and will be removed in a future version.  Use is_categorical_dtype instead\n",
            "\n",
            "/usr/local/lib/python3.7/dist-packages/category_encoders/utils.py:21: FutureWarning:\n",
            "\n",
            "is_categorical is deprecated and will be removed in a future version.  Use is_categorical_dtype instead\n",
            "\n"
          ],
          "name": "stderr"
        },
        {
          "output_type": "stream",
          "text": [
            "MAE for 2 folds: [0.01528778 0.01553875]\n",
            "CPU times: user 1min 18s, sys: 1.14 s, total: 1min 20s\n",
            "Wall time: 35min 55s\n"
          ],
          "name": "stdout"
        }
      ]
    },
    {
      "cell_type": "markdown",
      "metadata": {
        "id": "g2XR21zUHRsa"
      },
      "source": [
        "* OrdinalEncoder, RandomForestClassifier 사용\n",
        "> criterion='gini',  k =4\n",
        ">\n",
        "> MAE for 4 folds: [0.00725454 0.0072815  0.00730173 0.00730852]\n",
        ">\n",
        "> CPU times: user 5min 29s, sys: 6.68 s, total: 5min 36s\n",
        ">\n",
        "> Wall time: 58min 28s\n",
        "\n",
        "* OneHotEncoder, RandomForestRegressor 사용\n",
        "> criterion='mse',  k =2\n",
        ">\n",
        "> MAE for 2 folds: [0.01528778 0.01553875]\n",
        ">\n",
        ">CPU times: user 1min 18s, sys: 1.14 s, total: 1min 20s\n",
        ">\n",
        ">Wall time: 35min 55s"
      ]
    },
    {
      "cell_type": "markdown",
      "metadata": {
        "id": "zAj2tNiYcjoE"
      },
      "source": [
        "### 모델 개발 (pipe2)"
      ]
    },
    {
      "cell_type": "code",
      "metadata": {
        "id": "IJCOXTEIbt0r"
      },
      "source": [
        "pipe2 = make_pipeline(\n",
        "    OneHotEncoder(), \n",
        "    SimpleImputer(), \n",
        "    RandomForestClassifier(n_jobs=-1, n_estimators=1000, criterion='gini') # class_weight='imbalanced'\n",
        ")\n",
        "\n",
        "dists = {\n",
        "    'randomforestclassifier__n_estimators': [1000], \n",
        "    'randomforestclassifier__max_depth': randint(15, 20), \n",
        "    'randomforestclassifier__max_features': uniform(0, 1) \n",
        "}"
      ],
      "execution_count": null,
      "outputs": []
    },
    {
      "cell_type": "code",
      "metadata": {
        "colab": {
          "base_uri": "https://localhost:8080/"
        },
        "id": "qHMtD1_mRhMl",
        "outputId": "407efcca-1f7c-4eea-f0d6-69d6a6302c82"
      },
      "source": [
        "%%time \n",
        "\n",
        "clf = RandomizedSearchCV(\n",
        "    pipe2, \n",
        "    param_distributions=dists, \n",
        "    n_iter=1, # 탐색 횟수\n",
        "    cv=4, # 교차검증 폴드 수\n",
        "    scoring='neg_mean_absolute_error',  \n",
        "    verbose=2, \n",
        "    n_jobs=-1 \n",
        ")\n",
        "\n",
        "clf.fit(X_train, y_train);"
      ],
      "execution_count": null,
      "outputs": [
        {
          "output_type": "stream",
          "text": [
            "Fitting 4 folds for each of 1 candidates, totalling 4 fits\n"
          ],
          "name": "stdout"
        },
        {
          "output_type": "stream",
          "text": [
            "[Parallel(n_jobs=-1)]: Using backend LokyBackend with 2 concurrent workers.\n",
            "[Parallel(n_jobs=-1)]: Done   4 out of   4 | elapsed: 93.1min remaining:    0.0s\n",
            "[Parallel(n_jobs=-1)]: Done   4 out of   4 | elapsed: 93.1min finished\n",
            "/usr/local/lib/python3.7/dist-packages/category_encoders/utils.py:21: FutureWarning:\n",
            "\n",
            "is_categorical is deprecated and will be removed in a future version.  Use is_categorical_dtype instead\n",
            "\n"
          ],
          "name": "stderr"
        },
        {
          "output_type": "stream",
          "text": [
            "CPU times: user 1h 5min 15s, sys: 2.52 s, total: 1h 5min 18s\n",
            "Wall time: 2h 6min 12s\n"
          ],
          "name": "stdout"
        }
      ]
    },
    {
      "cell_type": "markdown",
      "metadata": {
        "id": "9SRsOHK18A-7"
      },
      "source": [
        "(1) RandomForestClassifier, OrdinalEncoder 사용\n",
        ">RandomForestClassifier(n_jobs=-1, n_estimators=500, criterion='gini')\n",
        "'randomforestclassifier__n_estimators': [100], \n",
        "'randomforestclassifier__max_depth': [10, 15, 20, None] # 15\n",
        ">\n",
        ">n_iter=1, \n",
        "cv=2,\n",
        ">\n",
        "> 9min 39s\n",
        "\n",
        "(2) RandomForestClassifier, OrdinalEncoder 사용\n",
        ">RandomForestClassifier(n_jobs=-1, n_estimators=500, criterion='gini')\n",
        "'randomforestclassifier__n_estimators': [500], \n",
        "'randomforestclassifier__max_depth': randint(15, 20),\n",
        ">\n",
        ">n_iter=1, \n",
        "cv=4,\n",
        ">\n",
        "> 1h 35min 4s\n",
        "\n",
        "\n",
        "* OneHotEncoder, RandomForestRegressor 사용\n",
        ">RandomForestClassifier(n_jobs=-1, n_estimators=100, criterion='gini')\n",
        "'randomforestclassifier__n_estimators': [100], \n",
        "'randomforestclassifier__max_depth': randint(15, 20),\n",
        ">\n",
        ">n_iter=1, \n",
        "cv=2,\n",
        ">\n",
        ">3min 37s\n",
        "\n",
        "* 위에서 cv만 바뀜,\n",
        ">RandomForestClassifier(n_jobs=-1, n_estimators=100, criterion='gini')\n",
        "'randomforestclassifier__n_estimators': [100], \n",
        "'randomforestclassifier__max_depth': randint(15, 20),\n",
        ">\n",
        ">n_iter=1, \n",
        "cv=4,\n",
        ">\n",
        ">2min 31s\n",
        "\n",
        "* 위에서 estimator만 바뀜,\n",
        ">RandomForestClassifier(n_jobs=-1, n_estimators=1000, criterion='gini')\n",
        "'randomforestclassifier__n_estimators': [1000], \n",
        "'randomforestclassifier__max_depth': randint(15, 20),\n",
        ">\n",
        ">n_iter=1, \n",
        "cv=4,\n",
        ">\n",
        ">2h 6min 12s"
      ]
    },
    {
      "cell_type": "code",
      "metadata": {
        "colab": {
          "base_uri": "https://localhost:8080/"
        },
        "id": "lzU-LhTDRg4e",
        "outputId": "03f536e7-067b-42e6-c0f7-82e81ab0367d"
      },
      "source": [
        "# neg_mean_absolute_error : 0에 가까울수록 예측 성능이 좋음\n",
        "print('훈련 정확도: ', -clf.score(X_train, y_train))\n",
        "print('검증 정확도: ', -clf.score(X_val, y_val))"
      ],
      "execution_count": null,
      "outputs": [
        {
          "output_type": "stream",
          "text": [
            "훈련 정확도:  0.004171133330187004\n",
            "검증 정확도:  0.007220825102311878\n"
          ],
          "name": "stdout"
        }
      ]
    },
    {
      "cell_type": "markdown",
      "metadata": {
        "id": "P1yuNSnU-gQ-"
      },
      "source": [
        "(1)\n",
        "훈련 정확도:  0.004852088825363008\n",
        "검증 정확도:  0.00734218350739275\n",
        "\n",
        "(2)\n",
        "훈련 정확도:  0.004128433150621513\n",
        "검증 정확도:  0.0073219571065459375\n",
        "\n",
        "* \n",
        "훈련 정확도:  0.005076826612549807\n",
        "검증 정확도:  0.007268020037621106\n",
        "\n",
        "* \n",
        "훈련 정확도:  0.005620692057541863\n",
        "검증 정확도:  0.0075849003175544934\n",
        "\n",
        "* \n",
        "훈련 정확도:  0.004171133330187004\n",
        "검증 정확도:  0.007220825102311878"
      ]
    },
    {
      "cell_type": "markdown",
      "metadata": {
        "id": "kEXslV1wcnsB"
      },
      "source": [
        "### 모델 개발 (pipe3)"
      ]
    },
    {
      "cell_type": "code",
      "metadata": {
        "colab": {
          "base_uri": "https://localhost:8080/"
        },
        "id": "4TmeZEviRg14",
        "outputId": "e7ad6089-e319-400d-944b-ebf46dc5ce87"
      },
      "source": [
        "print('최적 하이퍼파라미터: ', clf.best_params_)"
      ],
      "execution_count": null,
      "outputs": [
        {
          "output_type": "stream",
          "text": [
            "최적 하이퍼파라미터:  {'randomforestclassifier__max_depth': 17, 'randomforestclassifier__max_features': 0.5423034682695674, 'randomforestclassifier__n_estimators': 1000}\n"
          ],
          "name": "stdout"
        }
      ]
    },
    {
      "cell_type": "markdown",
      "metadata": {
        "id": "QfYoINQd-nVG"
      },
      "source": [
        "(1)\n",
        "최적 하이퍼파라미터:  {'randomforestclassifier__max_depth': 15, 'randomforestclassifier__max_features': 0.8459484675286195, 'randomforestclassifier__n_estimators': 100}\n",
        "\n",
        "(2)\n",
        "최적 하이퍼파라미터:  {'randomforestclassifier__max_depth': 17, 'randomforestclassifier__max_features': 0.9422177748701174, 'randomforestclassifier__n_estimators': 500}\n",
        "\n",
        "* \n",
        "최적 하이퍼파라미터:  {'randomforestclassifier__max_depth': 15, 'randomforestclassifier__max_features': 0.33875199329448813, 'randomforestclassifier__n_estimators': 100}\n",
        "\n",
        "* \n",
        "최적 하이퍼파라미터:  {'randomforestclassifier__max_depth': 18, 'randomforestclassifier__max_features': 0.005846579915373407, 'randomforestclassifier__n_estimators': 100}\n",
        "\n",
        "* \n",
        "최적 하이퍼파라미터:  {'randomforestclassifier__max_depth': 17, 'randomforestclassifier__max_features': 0.5423034682695674, 'randomforestclassifier__n_estimators': 1000}"
      ]
    },
    {
      "cell_type": "code",
      "metadata": {
        "id": "w4YSUGtRcGy7"
      },
      "source": [
        "# 위에서 찾은 최적 하이퍼파라미터를 적용한 모델 생성\n",
        "pipe3 = clf.best_estimator_\n",
        "\n",
        "# 위 최적 모델에 훈련/검증 데이터 넣고 스코어 추출 \n",
        "y_train_pred3 = pipe3.predict(X_train)\n",
        "y_val_pred3 = pipe3.predict(X_val)"
      ],
      "execution_count": null,
      "outputs": []
    },
    {
      "cell_type": "code",
      "metadata": {
        "colab": {
          "base_uri": "https://localhost:8080/"
        },
        "id": "EUvi4nVkcGwF",
        "outputId": "7e7ed631-a081-475d-bdc1-5b5620c1c39f"
      },
      "source": [
        "# recall score 계산\n",
        "print('훈련 정확도: ', recall_score(y_train, y_train_pred3))\n",
        "print('검증 정확도: ', recall_score(y_val, y_val_pred3))"
      ],
      "execution_count": null,
      "outputs": [
        {
          "output_type": "stream",
          "text": [
            "훈련 정확도:  0.45745017399557103\n",
            "검증 정확도:  0.13948339483394834\n"
          ],
          "name": "stdout"
        }
      ]
    },
    {
      "cell_type": "markdown",
      "metadata": {
        "id": "AjPoEsmg-tCh"
      },
      "source": [
        "(1)\n",
        "훈련 정확도:  0.3625627398878063\n",
        "검증 정확도:  0.09211691762621789\n",
        "\n",
        "(2)\n",
        "훈련 정확도:  0.45763212282255683\n",
        "검증 정확도:  0.09211691762621789\n",
        "\n",
        "* \n",
        "훈련 정확도:  0.3330380868024801\n",
        "검증 정확도:  0.07617360496014172\n",
        "\n",
        "* \n",
        "훈련 정확도:  0.26158842633599055\n",
        "검증 정확도:  0.00354295837023915\n",
        "\n",
        "* \n",
        "훈련 정확도:  0.45202243873634484\n",
        "검증 정확도:  0.09211691762621789\n",
        "\n",
        "> 훈련데이터 recall이 증가했다"
      ]
    },
    {
      "cell_type": "markdown",
      "metadata": {
        "id": "b4Zd67KjddRS"
      },
      "source": [
        "### 테스트셋의 ROC / AUC 검증 점수를 예측"
      ]
    },
    {
      "cell_type": "code",
      "metadata": {
        "id": "3RCwfBGrcGbi"
      },
      "source": [
        "from sklearn.metrics import classification_report\n",
        "from sklearn.metrics import roc_curve\n",
        "from sklearn.metrics import roc_auc_score\n",
        "import matplotlib.pyplot as plt"
      ],
      "execution_count": null,
      "outputs": []
    },
    {
      "cell_type": "code",
      "metadata": {
        "colab": {
          "base_uri": "https://localhost:8080/"
        },
        "id": "XDKUCUGpde2w",
        "outputId": "855c92cd-4102-45e0-baf3-9ef074e21458"
      },
      "source": [
        "# score report 출력\n",
        "print(classification_report(y_val, pipe3.predict(X_val)))"
      ],
      "execution_count": null,
      "outputs": [
        {
          "output_type": "stream",
          "text": [
            "              precision    recall  f1-score   support\n",
            "\n",
            "           0       0.99      1.00      1.00    176631\n",
            "           1       0.80      0.14      0.24      1355\n",
            "\n",
            "    accuracy                           0.99    177986\n",
            "   macro avg       0.90      0.57      0.62    177986\n",
            "weighted avg       0.99      0.99      0.99    177986\n",
            "\n"
          ],
          "name": "stdout"
        }
      ]
    },
    {
      "cell_type": "code",
      "metadata": {
        "colab": {
          "base_uri": "https://localhost:8080/",
          "height": 406
        },
        "id": "GHtLMx2Bde0g",
        "outputId": "103b7199-3d0e-4986-9855-dbc9419cd7ce"
      },
      "source": [
        "y_pred_proba3 = pipe3.predict_proba(X_val)[:, -1]\n",
        "\n",
        "# roc_curve(타겟값, prob of 1)\n",
        "# 임계값에 따른 TPR, FPR 수치를 자동으로 계산\n",
        "fpr3, tpr3, thresholds3 = roc_curve(y_val, y_pred_proba3)\n",
        "\n",
        "roc = pd.DataFrame({\n",
        "    'FPR(Fall-out)': fpr3, \n",
        "    'TPR(Recall)': tpr3, \n",
        "    'Threshold': thresholds3\n",
        "})\n",
        "roc"
      ],
      "execution_count": null,
      "outputs": [
        {
          "output_type": "execute_result",
          "data": {
            "text/html": [
              "<div>\n",
              "<style scoped>\n",
              "    .dataframe tbody tr th:only-of-type {\n",
              "        vertical-align: middle;\n",
              "    }\n",
              "\n",
              "    .dataframe tbody tr th {\n",
              "        vertical-align: top;\n",
              "    }\n",
              "\n",
              "    .dataframe thead th {\n",
              "        text-align: right;\n",
              "    }\n",
              "</style>\n",
              "<table border=\"1\" class=\"dataframe\">\n",
              "  <thead>\n",
              "    <tr style=\"text-align: right;\">\n",
              "      <th></th>\n",
              "      <th>FPR(Fall-out)</th>\n",
              "      <th>TPR(Recall)</th>\n",
              "      <th>Threshold</th>\n",
              "    </tr>\n",
              "  </thead>\n",
              "  <tbody>\n",
              "    <tr>\n",
              "      <th>0</th>\n",
              "      <td>0.000000</td>\n",
              "      <td>0.000000</td>\n",
              "      <td>1.963000e+00</td>\n",
              "    </tr>\n",
              "    <tr>\n",
              "      <th>1</th>\n",
              "      <td>0.000000</td>\n",
              "      <td>0.000738</td>\n",
              "      <td>9.630000e-01</td>\n",
              "    </tr>\n",
              "    <tr>\n",
              "      <th>2</th>\n",
              "      <td>0.000000</td>\n",
              "      <td>0.020664</td>\n",
              "      <td>8.340429e-01</td>\n",
              "    </tr>\n",
              "    <tr>\n",
              "      <th>3</th>\n",
              "      <td>0.000011</td>\n",
              "      <td>0.020664</td>\n",
              "      <td>8.276968e-01</td>\n",
              "    </tr>\n",
              "    <tr>\n",
              "      <th>4</th>\n",
              "      <td>0.000011</td>\n",
              "      <td>0.028782</td>\n",
              "      <td>7.910000e-01</td>\n",
              "    </tr>\n",
              "    <tr>\n",
              "      <th>...</th>\n",
              "      <td>...</td>\n",
              "      <td>...</td>\n",
              "      <td>...</td>\n",
              "    </tr>\n",
              "    <tr>\n",
              "      <th>2182</th>\n",
              "      <td>0.999915</td>\n",
              "      <td>1.000000</td>\n",
              "      <td>5.139245e-07</td>\n",
              "    </tr>\n",
              "    <tr>\n",
              "      <th>2183</th>\n",
              "      <td>0.999921</td>\n",
              "      <td>1.000000</td>\n",
              "      <td>3.813472e-07</td>\n",
              "    </tr>\n",
              "    <tr>\n",
              "      <th>2184</th>\n",
              "      <td>0.999972</td>\n",
              "      <td>1.000000</td>\n",
              "      <td>3.310162e-07</td>\n",
              "    </tr>\n",
              "    <tr>\n",
              "      <th>2185</th>\n",
              "      <td>0.999977</td>\n",
              "      <td>1.000000</td>\n",
              "      <td>1.829082e-07</td>\n",
              "    </tr>\n",
              "    <tr>\n",
              "      <th>2186</th>\n",
              "      <td>1.000000</td>\n",
              "      <td>1.000000</td>\n",
              "      <td>0.000000e+00</td>\n",
              "    </tr>\n",
              "  </tbody>\n",
              "</table>\n",
              "<p>2187 rows × 3 columns</p>\n",
              "</div>"
            ],
            "text/plain": [
              "      FPR(Fall-out)  TPR(Recall)     Threshold\n",
              "0          0.000000     0.000000  1.963000e+00\n",
              "1          0.000000     0.000738  9.630000e-01\n",
              "2          0.000000     0.020664  8.340429e-01\n",
              "3          0.000011     0.020664  8.276968e-01\n",
              "4          0.000011     0.028782  7.910000e-01\n",
              "...             ...          ...           ...\n",
              "2182       0.999915     1.000000  5.139245e-07\n",
              "2183       0.999921     1.000000  3.813472e-07\n",
              "2184       0.999972     1.000000  3.310162e-07\n",
              "2185       0.999977     1.000000  1.829082e-07\n",
              "2186       1.000000     1.000000  0.000000e+00\n",
              "\n",
              "[2187 rows x 3 columns]"
            ]
          },
          "metadata": {
            "tags": []
          },
          "execution_count": 250
        }
      ]
    },
    {
      "cell_type": "code",
      "metadata": {
        "colab": {
          "base_uri": "https://localhost:8080/",
          "height": 588
        },
        "id": "2_MkNnjmdeww",
        "outputId": "de335cd5-38b5-4902-99cd-751602377402"
      },
      "source": [
        "# 시각화 \n",
        "plt.scatter(fpr3, tpr3)\n",
        "plt.title('ROC curve')\n",
        "plt.xlabel('FPR(Fall-out)')\n",
        "plt.ylabel('TPR(Recall)')"
      ],
      "execution_count": null,
      "outputs": [
        {
          "output_type": "execute_result",
          "data": {
            "text/plain": [
              "Text(0, 0.5, 'TPR(Recall)')"
            ]
          },
          "metadata": {
            "tags": []
          },
          "execution_count": 251
        },
        {
          "output_type": "display_data",
          "data": {
            "image/png": "[encoded data removed]",
            "text/plain": [
              "<Figure size 864x576 with 1 Axes>"
            ]
          },
          "metadata": {
            "tags": [],
            "needs_background": "light"
          }
        }
      ]
    },
    {
      "cell_type": "code",
      "metadata": {
        "colab": {
          "base_uri": "https://localhost:8080/"
        },
        "id": "xqNsg7ahdwfV",
        "outputId": "b5311130-8f72-4dfa-d68c-bc0aade3bad3"
      },
      "source": [
        "# 최적의 threshold 찾기\n",
        "# threshold 최대값의 인덱스, np.argmax()\n",
        "optimal_idx3 = np.argmax(tpr3 - fpr3)\n",
        "optimal_threshold3 = thresholds3[optimal_idx3]\n",
        "\n",
        "print('idx:', optimal_idx3, ', threshold:', optimal_threshold3)"
      ],
      "execution_count": null,
      "outputs": [
        {
          "output_type": "stream",
          "text": [
            "idx: 1632 , threshold: 0.009397022247909734\n"
          ],
          "name": "stdout"
        }
      ]
    },
    {
      "cell_type": "code",
      "metadata": {
        "colab": {
          "base_uri": "https://localhost:8080/",
          "height": 513
        },
        "id": "ylQLalWGdwcw",
        "outputId": "89f7a476-9565-4a87-e4f6-a4a9e80eb8fc"
      },
      "source": [
        "# 시각화 \n",
        "plt.plot(tpr3-fpr3);"
      ],
      "execution_count": null,
      "outputs": [
        {
          "output_type": "display_data",
          "data": {
            "image/png": "[encoded data removed]",
            "text/plain": [
              "<Figure size 864x576 with 1 Axes>"
            ]
          },
          "metadata": {
            "tags": [],
            "needs_background": "light"
          }
        }
      ]
    },
    {
      "cell_type": "code",
      "metadata": {
        "colab": {
          "base_uri": "https://localhost:8080/"
        },
        "id": "kKJjDnDcdwHo",
        "outputId": "e74b6c8c-b1d4-4f42-b25a-f611884cdfae"
      },
      "source": [
        "# 최적의 임계치로 예측한 y값에 대한 score report 출력\n",
        "y_pred_optimal3 = y_pred_proba3 >= optimal_threshold3\n",
        "print(classification_report(y_val, y_pred_optimal3))"
      ],
      "execution_count": null,
      "outputs": [
        {
          "output_type": "stream",
          "text": [
            "              precision    recall  f1-score   support\n",
            "\n",
            "           0       1.00      0.88      0.94    176631\n",
            "           1       0.05      0.81      0.09      1355\n",
            "\n",
            "    accuracy                           0.88    177986\n",
            "   macro avg       0.52      0.84      0.51    177986\n",
            "weighted avg       0.99      0.88      0.93    177986\n",
            "\n"
          ],
          "name": "stdout"
        }
      ]
    },
    {
      "cell_type": "code",
      "metadata": {
        "colab": {
          "base_uri": "https://localhost:8080/"
        },
        "id": "6gxFtLradwFU",
        "outputId": "5622f14c-1796-434b-bf62-002011c2840d"
      },
      "source": [
        "# 예측값 확인\n",
        "y_pred_optimal3"
      ],
      "execution_count": null,
      "outputs": [
        {
          "output_type": "execute_result",
          "data": {
            "text/plain": [
              "array([False, False,  True, ..., False,  True, False])"
            ]
          },
          "metadata": {
            "tags": []
          },
          "execution_count": 255
        }
      ]
    },
    {
      "cell_type": "code",
      "metadata": {
        "colab": {
          "base_uri": "https://localhost:8080/"
        },
        "id": "FUp2_JCqePJC",
        "outputId": "2f67c1e0-aac0-4e88-b604-7853b3117889"
      },
      "source": [
        "## AUC점수가 높을수록 이진분류문제에서 예측 정확도 높음\n",
        "auc_score3 = roc_auc_score(y_val, y_pred_proba3)\n",
        "auc_score3"
      ],
      "execution_count": null,
      "outputs": [
        {
          "output_type": "execute_result",
          "data": {
            "text/plain": [
              "0.9177544881075798"
            ]
          },
          "metadata": {
            "tags": []
          },
          "execution_count": 256
        }
      ]
    },
    {
      "cell_type": "markdown",
      "metadata": {
        "id": "JIj5OnvL_LEQ"
      },
      "source": [
        "(1)\n",
        "0.9016482650282673\n",
        "\n",
        "(2)\n",
        "0.898602921385713\n",
        "\n",
        "* 0.9038511986609585\n",
        "\n",
        "* 0.8956505102353977\n",
        "\n",
        "* 0.9033739895460678"
      ]
    },
    {
      "cell_type": "markdown",
      "metadata": {
        "id": "zHWuf0bTfoL7"
      },
      "source": [
        "### 시각화(특성 중요도)"
      ]
    },
    {
      "cell_type": "code",
      "metadata": {
        "id": "7IUuZOALePEg"
      },
      "source": [
        "import seaborn as sns\n",
        "import plotly\n",
        "import plotly.express as px\n",
        "import plotly.graph_objects as go\n",
        "import matplotlib.pyplot as plt\n",
        "import matplotlib as mpl\n",
        "plt.rc(\"font\", family='NanumMyeongjo') #나눔명조로 지정\n",
        "mpl.rc('axes', unicode_minus=False) #마이너스값 허용"
      ],
      "execution_count": null,
      "outputs": []
    },
    {
      "cell_type": "code",
      "metadata": {
        "colab": {
          "base_uri": "https://localhost:8080/"
        },
        "id": "PcxpFwZg3jPQ",
        "outputId": "818a1cdc-b52d-4d97-dcd1-3a2d7d996c19"
      },
      "source": [
        "%matplotlib inline\n",
        "\n",
        "# 특성 중요도\n",
        "rf = pipe3.named_steps['randomforestclassifier']\n",
        "importances = pd.Series(rf.feature_importances_, X_train.columns)\n",
        "\n",
        "n = 20\n",
        "plt.figure(figsize=(10,n/2))\n",
        "plt.title(f'Top {n} features')\n",
        "importances.sort_values()[-n:].plot.barh();"
      ],
      "execution_count": null,
      "outputs": [
        {
          "output_type": "display_data",
          "data": {
            "image/png": "[encoded data removed]",
            "text/plain": [
              "<Figure size 720x720 with 1 Axes>"
            ]
          },
          "metadata": {
            "tags": [],
            "needs_background": "light"
          }
        }
      ]
    },
    {
      "cell_type": "markdown",
      "metadata": {
        "id": "GVaS8UYE4cx6"
      },
      "source": [
        "- 위 그래프의 한글깨짐 현상을 해결하려면 런타임 다시시작을 해야하고, 모델학습을 다시 시켜야해서(2시간...) 글자수로 특성 중요도를 유추해보기로 한다.  "
      ]
    },
    {
      "cell_type": "markdown",
      "metadata": {
        "id": "htNyhqv1_YuJ"
      },
      "source": [
        "### 시각화(PDP)"
      ]
    },
    {
      "cell_type": "code",
      "metadata": {
        "colab": {
          "base_uri": "https://localhost:8080/"
        },
        "id": "U1ysaKPYAdAT",
        "outputId": "5ce375cc-4aa9-44d4-8cb7-6620668ea080"
      },
      "source": [
        "!pip install pdpbox"
      ],
      "execution_count": null,
      "outputs": [
        {
          "output_type": "stream",
          "text": [
            "Requirement already satisfied: pdpbox in /usr/local/lib/python3.7/dist-packages (0.2.0)\n",
            "Requirement already satisfied: pandas in /usr/local/lib/python3.7/dist-packages (from pdpbox) (1.1.5)\n",
            "Requirement already satisfied: joblib in /usr/local/lib/python3.7/dist-packages (from pdpbox) (1.0.1)\n",
            "Requirement already satisfied: scipy in /usr/local/lib/python3.7/dist-packages (from pdpbox) (1.4.1)\n",
            "Requirement already satisfied: matplotlib>=2.1.2 in /usr/local/lib/python3.7/dist-packages (from pdpbox) (3.2.2)\n",
            "Requirement already satisfied: scikit-learn in /usr/local/lib/python3.7/dist-packages (from pdpbox) (0.22.2.post1)\n",
            "Requirement already satisfied: numpy in /usr/local/lib/python3.7/dist-packages (from pdpbox) (1.19.5)\n",
            "Requirement already satisfied: psutil in /usr/local/lib/python3.7/dist-packages (from pdpbox) (5.4.8)\n",
            "Requirement already satisfied: python-dateutil>=2.7.3 in /usr/local/lib/python3.7/dist-packages (from pandas->pdpbox) (2.8.1)\n",
            "Requirement already satisfied: pytz>=2017.2 in /usr/local/lib/python3.7/dist-packages (from pandas->pdpbox) (2018.9)\n",
            "Requirement already satisfied: kiwisolver>=1.0.1 in /usr/local/lib/python3.7/dist-packages (from matplotlib>=2.1.2->pdpbox) (1.3.1)\n",
            "Requirement already satisfied: cycler>=0.10 in /usr/local/lib/python3.7/dist-packages (from matplotlib>=2.1.2->pdpbox) (0.10.0)\n",
            "Requirement already satisfied: pyparsing!=2.0.4,!=2.1.2,!=2.1.6,>=2.0.1 in /usr/local/lib/python3.7/dist-packages (from matplotlib>=2.1.2->pdpbox) (2.4.7)\n",
            "Requirement already satisfied: six>=1.5 in /usr/local/lib/python3.7/dist-packages (from python-dateutil>=2.7.3->pandas->pdpbox) (1.15.0)\n"
          ],
          "name": "stdout"
        }
      ]
    },
    {
      "cell_type": "code",
      "metadata": {
        "id": "zU0Et_yn_a99"
      },
      "source": [
        "# 트리모델 : 부분의존그림(Partial dependence plots) 사용\n",
        "from pdpbox.pdp import pdp_isolate, pdp_plot # (1특성 사용)\n",
        "from pdpbox.pdp import pdp_interact, pdp_interact_plot # (2특성 사용)\n",
        "\n",
        "# dpi(dots per inch) 수치를 조정해 이미지 화질 조정\n",
        "plt.rcParams['figure.dpi'] = 144"
      ],
      "execution_count": null,
      "outputs": []
    },
    {
      "cell_type": "code",
      "metadata": {
        "id": "w_o5X-hb_caw"
      },
      "source": [
        "feature = '공복혈당'"
      ],
      "execution_count": null,
      "outputs": []
    },
    {
      "cell_type": "code",
      "metadata": {
        "id": "rHxIXtto_b7c"
      },
      "source": [
        "# 1특성 사용\n",
        "isolated = pdp_isolate(\n",
        "    model= pipe3, \n",
        "    dataset= X_val, \n",
        "    model_features=X_val.columns, \n",
        "    feature=feature\n",
        ")"
      ],
      "execution_count": null,
      "outputs": []
    },
    {
      "cell_type": "code",
      "metadata": {
        "colab": {
          "base_uri": "https://localhost:8080/",
          "height": 887
        },
        "id": "WiRwp3kdATMH",
        "outputId": "da96fce5-3f9d-482f-8097-bfd58abea495"
      },
      "source": [
        "pdp_plot(isolated, feature_name=feature);"
      ],
      "execution_count": null,
      "outputs": [
        {
          "output_type": "stream",
          "text": [
            "findfont: Font family ['Arial'] not found. Falling back to DejaVu Sans.\n",
            "findfont: Font family ['Arial'] not found. Falling back to DejaVu Sans.\n",
            "findfont: Font family ['Arial'] not found. Falling back to DejaVu Sans.\n",
            "findfont: Font family ['Arial'] not found. Falling back to DejaVu Sans.\n"
          ],
          "name": "stderr"
        },
        {
          "output_type": "display_data",
          "data": {
            "image/png": "[encoded data removed]",
            "text/plain": [
              "<Figure size 2160x1368 with 2 Axes>"
            ]
          },
          "metadata": {
            "tags": [],
            "needs_background": "light"
          }
        }
      ]
    },
    {
      "cell_type": "code",
      "metadata": {
        "id": "Do_bhni0ASrT"
      },
      "source": [
        "# 2특성 사용\n",
        "features = ['공복혈당', '이완기혈압']\n",
        "\n",
        "interaction = pdp_interact(\n",
        "    model=pipe3, \n",
        "    dataset=X_val,\n",
        "    model_features=X_val.columns, \n",
        "    features=features\n",
        ")"
      ],
      "execution_count": null,
      "outputs": []
    },
    {
      "cell_type": "markdown",
      "metadata": {
        "id": "xdO8uYJYbuL9"
      },
      "source": [
        "- 런타임 연결이 끊어짐 ㅠㅠ"
      ]
    },
    {
      "cell_type": "code",
      "metadata": {
        "id": "cqU1L80c_cdf"
      },
      "source": [
        "pdp_interact_plot(interaction, plot_type='grid', \n",
        "                  feature_names=features);"
      ],
      "execution_count": null,
      "outputs": []
    },
    {
      "cell_type": "markdown",
      "metadata": {
        "id": "sTUkoAa3X88x"
      },
      "source": [
        "# 5. 결과요약 및 제안(의사결정)"
      ]
    },
    {
      "cell_type": "code",
      "metadata": {
        "colab": {
          "base_uri": "https://localhost:8080/"
        },
        "id": "Im0Y_KFb2XLb",
        "outputId": "765a3872-a571-412b-e052-1652236ffc86"
      },
      "source": [
        "train.columns"
      ],
      "execution_count": null,
      "outputs": [
        {
          "output_type": "execute_result",
          "data": {
            "text/plain": [
              "Index(['성별', '나이', '키', '체중', '허리둘레', '시력L', '시력R', '청력L', '청력R', '수축기혈압',\n",
              "       '이완기혈압', '공복혈당', '혈색소', '요단백', 'AST', 'ALT', '감마GTP', '흡연상태', '음주여부',\n",
              "       'cr'],\n",
              "      dtype='object')"
            ]
          },
          "metadata": {
            "tags": []
          },
          "execution_count": 265
        }
      ]
    },
    {
      "cell_type": "markdown",
      "metadata": {
        "id": "7efVMLQG5DkX"
      },
      "source": [
        "\n",
        "<1~7위>\n",
        "\n",
        "공복혈당 / 요단백 / 이완기혈압 / 감마GTP / AST / 혈색소 / 음주여부\n",
        "\n",
        "---\n",
        "ALT / 수축기 혈압 / 시력L / 시력R / (성별/나이) / 키 / 체중(추측) / 허리둘레 / 흡연상태 / 청력R / 청력L "
      ]
    },
    {
      "cell_type": "markdown",
      "metadata": {
        "id": "DJ1Eh14M7koX"
      },
      "source": [
        "- **가설 : \"시력/혈압/혈당/간기능/흡연유무가 신장기능에 Negative한 영향을 미칠것이다\"** \n",
        "> **=> 혈압/혈당/간기능이 신장기능에 유의미한 영향을 미친다.**\n",
        ">\n",
        "> **(추가적으로 요단백, 혈색소, 음주여부도)** "
      ]
    },
    {
      "cell_type": "markdown",
      "metadata": {
        "id": "oS4fODuMYARh"
      },
      "source": [
        "# 6. 아이디어 확장 \n",
        "> 혈청 크레아티닌 수치 계산식(MDRD 공식)을 사용하여 사구체 여과율로 환산해 신장기능이 정상범주인지 아닌지를 알려줌"
      ]
    },
    {
      "cell_type": "markdown",
      "metadata": {
        "id": "0vKKnNd2HeQw"
      },
      "source": [
        "- 신장기능 지표==사구체여과율. 즉 사구체여과율 계산을 통해 신장기능을 확인\n",
        "- MDRD 공식으로 나이, 키, 성별(근육량측정을위해), 혈청크레아티닌 수치를 사용하여 **사구체여과율(GFR) 계산**을 통해 신장기능을 확인하고자 한다\n",
        "- MDRD 공식은 미국에 거주하는 수천 명의 백인 및 흑인 신장병 환자를 대상으로 연구하여 나온 것으로, **나이, 성별, 인종 및 혈청크라아티닌 농도를 알면 사구체여과율을 쉽게 구할 수 있게 해준 공식**이다.\n",
        "> * MDRD 공식 \n",
        ">\n",
        ">                      (140 - age)  x  lean body weight [kg]\n",
        ">CCr (mL/min)  =  ————————————————————————————————\n",
        ">                         Cr [mg/dL]  x  72\n",
        ">\n",
        ">이 공식은 Cr(크레아티닌) 생산이 나이가 듦에 따라 감소하고 체중이 많을수록 더 크다는 가정을 고려한 것\n",
        ">\n",
        "> 여성에서는 남자보다 근육량이 더 적으므로 0.85를 곱한다\n"
      ]
    },
    {
      "cell_type": "code",
      "metadata": {
        "id": "XkNq1WKlrwNc"
      },
      "source": [
        "# MDRD 계산 \n",
        "# 입력값(나이,체중,혈청크레아티닌,성별)\n",
        "# 남자==1, 여자==2\n",
        "\n",
        "\n",
        "def mdrd(age, weight, cr, se):\n",
        "  if se == 1:\n",
        "    ccr1 = ( (140-age) * weight ) / ( cr * 72 )\n",
        "    return ccr1\n",
        "  elif se == 2: \n",
        "    ccr2 = ( (140-age) * weight ) * 0.85 / ( cr * 72 )\n",
        "    return ccr2\n",
        "  else:\n",
        "    print('입력값을 확인해주세요(에러)')"
      ],
      "execution_count": null,
      "outputs": []
    },
    {
      "cell_type": "code",
      "metadata": {
        "colab": {
          "base_uri": "https://localhost:8080/"
        },
        "id": "ZYy8vLr3Ebzq",
        "outputId": "2cdc9f0c-1169-44c9-992c-6b1643eeccdd"
      },
      "source": [
        "# 예시) 24살, 50kg, 0.9, 2\n",
        "mdrd(24, 50, 0.9, 2)"
      ],
      "execution_count": null,
      "outputs": [
        {
          "output_type": "execute_result",
          "data": {
            "text/plain": [
              "76.08024691358025"
            ]
          },
          "metadata": {
            "tags": []
          },
          "execution_count": 267
        }
      ]
    },
    {
      "cell_type": "markdown",
      "metadata": {
        "id": "WGsKUH0uJOlu"
      },
      "source": [
        "사구체여과율에 따라서 만성신부전증이 5단계로 나뉘는데(CKD 1~5)\n",
        "- 1 ~ 2단계까지 무증상이므로 조기검사와 관리가 필요한 단계로 봐서 '0' 클래스로 분류한다 **(GFR : 60 mL/min/1.73m2 이상)**\n",
        "- 3단계까지도 대부분 무증상 환자이지만, 3 ~ 5단계는 건강에 문제가 생겨 치료를 받아야하는 단계로 봐서 '1' 클래스로 분류한다 **(GFR : 59 mL/min/1.73m2 이하)**"
      ]
    },
    {
      "cell_type": "code",
      "metadata": {
        "id": "BZFf9wPkr5V5"
      },
      "source": [
        "# '사구체여과율(GFR)' 특성 생성 > 신장수치 정밀검사 추천\n",
        "\n",
        "def recc(mdrd_result):\n",
        "  if mdrd_result >= 90:\n",
        "    print('신장기능 정상 ~ 만성 신부전증 1단계입니다')\n",
        "  elif mdrd_result >= 60:\n",
        "    print('위험!! 만성 신부전증 2단계입니다. 조기 검사와 관리가 필요합니다')\n",
        "  elif mdrd_result >= 30:\n",
        "    print('위험!!! 만성 신부전증 3단계입니다')\n",
        "  elif mdrd_result >= 15:\n",
        "    print('위험!!!! 만성 신부전증 4단계입니다')\n",
        "  else:\n",
        "    print('위험!!!! 만성 신부전증 5단계입니다')"
      ],
      "execution_count": null,
      "outputs": []
    },
    {
      "cell_type": "code",
      "metadata": {
        "colab": {
          "base_uri": "https://localhost:8080/"
        },
        "id": "YGVmuds-Gddh",
        "outputId": "2aabb73f-f78d-427d-fecf-f15946888765"
      },
      "source": [
        "# 예시) 위에서 구한 ccr2값(= mdrd_result) 사용\n",
        "recc(mdrd(24, 50, 0.9, 2))"
      ],
      "execution_count": null,
      "outputs": [
        {
          "output_type": "stream",
          "text": [
            "위험!! 만성 신부전증 2단계입니다. 조기 검사와 관리가 필요합니다\n"
          ],
          "name": "stdout"
        }
      ]
    }
  ]
}